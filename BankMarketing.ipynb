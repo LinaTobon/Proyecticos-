{
  "nbformat": 4,
  "nbformat_minor": 0,
  "metadata": {
    "colab": {
      "provenance": [],
      "mount_file_id": "1Hj8MyHOSfDjux8e-7MSboVr7lBtFZGE_",
      "authorship_tag": "ABX9TyP1J4EDrYyj2c3z5hSlnHxi",
      "include_colab_link": true
    },
    "kernelspec": {
      "name": "python3",
      "display_name": "Python 3"
    },
    "language_info": {
      "name": "python"
    }
  },
  "cells": [
    {
      "cell_type": "markdown",
      "metadata": {
        "id": "view-in-github",
        "colab_type": "text"
      },
      "source": [
        "<a href=\"https://colab.research.google.com/github/LinaTobon/Proyecticos-/blob/main/BankMarketing.ipynb\" target=\"_parent\"><img src=\"https://colab.research.google.com/assets/colab-badge.svg\" alt=\"Open In Colab\"/></a>"
      ]
    },
    {
      "cell_type": "markdown",
      "metadata": {
        "id": "Bn4vfJxd48Ht"
      },
      "source": [
        "# Bank marketing analysis"
      ]
    },
    {
      "cell_type": "code",
      "metadata": {
        "id": "-ifqvbaf46-4"
      },
      "source": [
        "import pandas as pd\n",
        "import numpy as np\n",
        "import plotly.express as px\n",
        "import matplotlib.pyplot as plt\n"
      ],
      "execution_count": null,
      "outputs": []
    },
    {
      "cell_type": "code",
      "metadata": {
        "id": "jLoU_eKe5Jcw"
      },
      "source": [
        "data = pd.read_csv(\"/content/drive/MyDrive/ColabNotebooks/ML_udemy/bank.csv\",sep=';')"
      ],
      "execution_count": null,
      "outputs": []
    },
    {
      "cell_type": "code",
      "metadata": {
        "colab": {
          "base_uri": "https://localhost:8080/"
        },
        "id": "Ec7BepHR6N4z",
        "outputId": "931c4b61-ec0c-470a-d02f-eab0d3d15243"
      },
      "source": [
        "data.info()"
      ],
      "execution_count": null,
      "outputs": [
        {
          "output_type": "stream",
          "name": "stdout",
          "text": [
            "<class 'pandas.core.frame.DataFrame'>\n",
            "RangeIndex: 4119 entries, 0 to 4118\n",
            "Data columns (total 21 columns):\n",
            " #   Column          Non-Null Count  Dtype  \n",
            "---  ------          --------------  -----  \n",
            " 0   age             4119 non-null   int64  \n",
            " 1   job             4119 non-null   object \n",
            " 2   marital         4119 non-null   object \n",
            " 3   education       4119 non-null   object \n",
            " 4   default         4119 non-null   object \n",
            " 5   housing         4119 non-null   object \n",
            " 6   loan            4119 non-null   object \n",
            " 7   contact         4119 non-null   object \n",
            " 8   month           4119 non-null   object \n",
            " 9   day_of_week     4119 non-null   object \n",
            " 10  duration        4119 non-null   int64  \n",
            " 11  campaign        4119 non-null   int64  \n",
            " 12  pdays           4119 non-null   int64  \n",
            " 13  previous        4119 non-null   int64  \n",
            " 14  poutcome        4119 non-null   object \n",
            " 15  emp.var.rate    4119 non-null   float64\n",
            " 16  cons.price.idx  4119 non-null   float64\n",
            " 17  cons.conf.idx   4119 non-null   float64\n",
            " 18  euribor3m       4119 non-null   float64\n",
            " 19  nr.employed     4119 non-null   float64\n",
            " 20  y               4119 non-null   object \n",
            "dtypes: float64(5), int64(5), object(11)\n",
            "memory usage: 675.9+ KB\n"
          ]
        }
      ]
    },
    {
      "cell_type": "code",
      "metadata": {
        "colab": {
          "base_uri": "https://localhost:8080/",
          "height": 241
        },
        "id": "ExbrFArg6b67",
        "outputId": "3c432f4b-1a0f-4e7a-d4e9-a84a7e7c6e55"
      },
      "source": [
        "data.head()"
      ],
      "execution_count": null,
      "outputs": [
        {
          "output_type": "execute_result",
          "data": {
            "text/html": [
              "<div>\n",
              "<style scoped>\n",
              "    .dataframe tbody tr th:only-of-type {\n",
              "        vertical-align: middle;\n",
              "    }\n",
              "\n",
              "    .dataframe tbody tr th {\n",
              "        vertical-align: top;\n",
              "    }\n",
              "\n",
              "    .dataframe thead th {\n",
              "        text-align: right;\n",
              "    }\n",
              "</style>\n",
              "<table border=\"1\" class=\"dataframe\">\n",
              "  <thead>\n",
              "    <tr style=\"text-align: right;\">\n",
              "      <th></th>\n",
              "      <th>age</th>\n",
              "      <th>job</th>\n",
              "      <th>marital</th>\n",
              "      <th>education</th>\n",
              "      <th>default</th>\n",
              "      <th>housing</th>\n",
              "      <th>loan</th>\n",
              "      <th>contact</th>\n",
              "      <th>month</th>\n",
              "      <th>day_of_week</th>\n",
              "      <th>duration</th>\n",
              "      <th>campaign</th>\n",
              "      <th>pdays</th>\n",
              "      <th>previous</th>\n",
              "      <th>poutcome</th>\n",
              "      <th>emp.var.rate</th>\n",
              "      <th>cons.price.idx</th>\n",
              "      <th>cons.conf.idx</th>\n",
              "      <th>euribor3m</th>\n",
              "      <th>nr.employed</th>\n",
              "      <th>y</th>\n",
              "    </tr>\n",
              "  </thead>\n",
              "  <tbody>\n",
              "    <tr>\n",
              "      <th>0</th>\n",
              "      <td>30</td>\n",
              "      <td>blue-collar</td>\n",
              "      <td>married</td>\n",
              "      <td>basic.9y</td>\n",
              "      <td>no</td>\n",
              "      <td>yes</td>\n",
              "      <td>no</td>\n",
              "      <td>cellular</td>\n",
              "      <td>may</td>\n",
              "      <td>fri</td>\n",
              "      <td>487</td>\n",
              "      <td>2</td>\n",
              "      <td>999</td>\n",
              "      <td>0</td>\n",
              "      <td>nonexistent</td>\n",
              "      <td>-1.8</td>\n",
              "      <td>92.893</td>\n",
              "      <td>-46.2</td>\n",
              "      <td>1.313</td>\n",
              "      <td>5099.1</td>\n",
              "      <td>no</td>\n",
              "    </tr>\n",
              "    <tr>\n",
              "      <th>1</th>\n",
              "      <td>39</td>\n",
              "      <td>services</td>\n",
              "      <td>single</td>\n",
              "      <td>high.school</td>\n",
              "      <td>no</td>\n",
              "      <td>no</td>\n",
              "      <td>no</td>\n",
              "      <td>telephone</td>\n",
              "      <td>may</td>\n",
              "      <td>fri</td>\n",
              "      <td>346</td>\n",
              "      <td>4</td>\n",
              "      <td>999</td>\n",
              "      <td>0</td>\n",
              "      <td>nonexistent</td>\n",
              "      <td>1.1</td>\n",
              "      <td>93.994</td>\n",
              "      <td>-36.4</td>\n",
              "      <td>4.855</td>\n",
              "      <td>5191.0</td>\n",
              "      <td>no</td>\n",
              "    </tr>\n",
              "    <tr>\n",
              "      <th>2</th>\n",
              "      <td>25</td>\n",
              "      <td>services</td>\n",
              "      <td>married</td>\n",
              "      <td>high.school</td>\n",
              "      <td>no</td>\n",
              "      <td>yes</td>\n",
              "      <td>no</td>\n",
              "      <td>telephone</td>\n",
              "      <td>jun</td>\n",
              "      <td>wed</td>\n",
              "      <td>227</td>\n",
              "      <td>1</td>\n",
              "      <td>999</td>\n",
              "      <td>0</td>\n",
              "      <td>nonexistent</td>\n",
              "      <td>1.4</td>\n",
              "      <td>94.465</td>\n",
              "      <td>-41.8</td>\n",
              "      <td>4.962</td>\n",
              "      <td>5228.1</td>\n",
              "      <td>no</td>\n",
              "    </tr>\n",
              "    <tr>\n",
              "      <th>3</th>\n",
              "      <td>38</td>\n",
              "      <td>services</td>\n",
              "      <td>married</td>\n",
              "      <td>basic.9y</td>\n",
              "      <td>no</td>\n",
              "      <td>unknown</td>\n",
              "      <td>unknown</td>\n",
              "      <td>telephone</td>\n",
              "      <td>jun</td>\n",
              "      <td>fri</td>\n",
              "      <td>17</td>\n",
              "      <td>3</td>\n",
              "      <td>999</td>\n",
              "      <td>0</td>\n",
              "      <td>nonexistent</td>\n",
              "      <td>1.4</td>\n",
              "      <td>94.465</td>\n",
              "      <td>-41.8</td>\n",
              "      <td>4.959</td>\n",
              "      <td>5228.1</td>\n",
              "      <td>no</td>\n",
              "    </tr>\n",
              "    <tr>\n",
              "      <th>4</th>\n",
              "      <td>47</td>\n",
              "      <td>admin.</td>\n",
              "      <td>married</td>\n",
              "      <td>university.degree</td>\n",
              "      <td>no</td>\n",
              "      <td>yes</td>\n",
              "      <td>no</td>\n",
              "      <td>cellular</td>\n",
              "      <td>nov</td>\n",
              "      <td>mon</td>\n",
              "      <td>58</td>\n",
              "      <td>1</td>\n",
              "      <td>999</td>\n",
              "      <td>0</td>\n",
              "      <td>nonexistent</td>\n",
              "      <td>-0.1</td>\n",
              "      <td>93.200</td>\n",
              "      <td>-42.0</td>\n",
              "      <td>4.191</td>\n",
              "      <td>5195.8</td>\n",
              "      <td>no</td>\n",
              "    </tr>\n",
              "  </tbody>\n",
              "</table>\n",
              "</div>"
            ],
            "text/plain": [
              "   age          job  marital  ... euribor3m nr.employed   y\n",
              "0   30  blue-collar  married  ...     1.313      5099.1  no\n",
              "1   39     services   single  ...     4.855      5191.0  no\n",
              "2   25     services  married  ...     4.962      5228.1  no\n",
              "3   38     services  married  ...     4.959      5228.1  no\n",
              "4   47       admin.  married  ...     4.191      5195.8  no\n",
              "\n",
              "[5 rows x 21 columns]"
            ]
          },
          "metadata": {},
          "execution_count": 4
        }
      ]
    },
    {
      "cell_type": "code",
      "metadata": {
        "colab": {
          "base_uri": "https://localhost:8080/",
          "height": 379
        },
        "id": "JX6HqAoH6n0r",
        "outputId": "9156b9e6-53f7-4e8a-dcd7-685be5f38d05"
      },
      "source": [
        "data.describe().T"
      ],
      "execution_count": null,
      "outputs": [
        {
          "output_type": "execute_result",
          "data": {
            "text/html": [
              "<div>\n",
              "<style scoped>\n",
              "    .dataframe tbody tr th:only-of-type {\n",
              "        vertical-align: middle;\n",
              "    }\n",
              "\n",
              "    .dataframe tbody tr th {\n",
              "        vertical-align: top;\n",
              "    }\n",
              "\n",
              "    .dataframe thead th {\n",
              "        text-align: right;\n",
              "    }\n",
              "</style>\n",
              "<table border=\"1\" class=\"dataframe\">\n",
              "  <thead>\n",
              "    <tr style=\"text-align: right;\">\n",
              "      <th></th>\n",
              "      <th>count</th>\n",
              "      <th>mean</th>\n",
              "      <th>std</th>\n",
              "      <th>min</th>\n",
              "      <th>25%</th>\n",
              "      <th>50%</th>\n",
              "      <th>75%</th>\n",
              "      <th>max</th>\n",
              "    </tr>\n",
              "  </thead>\n",
              "  <tbody>\n",
              "    <tr>\n",
              "      <th>age</th>\n",
              "      <td>4119.0</td>\n",
              "      <td>40.113620</td>\n",
              "      <td>10.313362</td>\n",
              "      <td>18.000</td>\n",
              "      <td>32.000</td>\n",
              "      <td>38.000</td>\n",
              "      <td>47.000</td>\n",
              "      <td>88.000</td>\n",
              "    </tr>\n",
              "    <tr>\n",
              "      <th>duration</th>\n",
              "      <td>4119.0</td>\n",
              "      <td>256.788055</td>\n",
              "      <td>254.703736</td>\n",
              "      <td>0.000</td>\n",
              "      <td>103.000</td>\n",
              "      <td>181.000</td>\n",
              "      <td>317.000</td>\n",
              "      <td>3643.000</td>\n",
              "    </tr>\n",
              "    <tr>\n",
              "      <th>campaign</th>\n",
              "      <td>4119.0</td>\n",
              "      <td>2.537266</td>\n",
              "      <td>2.568159</td>\n",
              "      <td>1.000</td>\n",
              "      <td>1.000</td>\n",
              "      <td>2.000</td>\n",
              "      <td>3.000</td>\n",
              "      <td>35.000</td>\n",
              "    </tr>\n",
              "    <tr>\n",
              "      <th>pdays</th>\n",
              "      <td>4119.0</td>\n",
              "      <td>960.422190</td>\n",
              "      <td>191.922786</td>\n",
              "      <td>0.000</td>\n",
              "      <td>999.000</td>\n",
              "      <td>999.000</td>\n",
              "      <td>999.000</td>\n",
              "      <td>999.000</td>\n",
              "    </tr>\n",
              "    <tr>\n",
              "      <th>previous</th>\n",
              "      <td>4119.0</td>\n",
              "      <td>0.190337</td>\n",
              "      <td>0.541788</td>\n",
              "      <td>0.000</td>\n",
              "      <td>0.000</td>\n",
              "      <td>0.000</td>\n",
              "      <td>0.000</td>\n",
              "      <td>6.000</td>\n",
              "    </tr>\n",
              "    <tr>\n",
              "      <th>emp.var.rate</th>\n",
              "      <td>4119.0</td>\n",
              "      <td>0.084972</td>\n",
              "      <td>1.563114</td>\n",
              "      <td>-3.400</td>\n",
              "      <td>-1.800</td>\n",
              "      <td>1.100</td>\n",
              "      <td>1.400</td>\n",
              "      <td>1.400</td>\n",
              "    </tr>\n",
              "    <tr>\n",
              "      <th>cons.price.idx</th>\n",
              "      <td>4119.0</td>\n",
              "      <td>93.579704</td>\n",
              "      <td>0.579349</td>\n",
              "      <td>92.201</td>\n",
              "      <td>93.075</td>\n",
              "      <td>93.749</td>\n",
              "      <td>93.994</td>\n",
              "      <td>94.767</td>\n",
              "    </tr>\n",
              "    <tr>\n",
              "      <th>cons.conf.idx</th>\n",
              "      <td>4119.0</td>\n",
              "      <td>-40.499102</td>\n",
              "      <td>4.594578</td>\n",
              "      <td>-50.800</td>\n",
              "      <td>-42.700</td>\n",
              "      <td>-41.800</td>\n",
              "      <td>-36.400</td>\n",
              "      <td>-26.900</td>\n",
              "    </tr>\n",
              "    <tr>\n",
              "      <th>euribor3m</th>\n",
              "      <td>4119.0</td>\n",
              "      <td>3.621356</td>\n",
              "      <td>1.733591</td>\n",
              "      <td>0.635</td>\n",
              "      <td>1.334</td>\n",
              "      <td>4.857</td>\n",
              "      <td>4.961</td>\n",
              "      <td>5.045</td>\n",
              "    </tr>\n",
              "    <tr>\n",
              "      <th>nr.employed</th>\n",
              "      <td>4119.0</td>\n",
              "      <td>5166.481695</td>\n",
              "      <td>73.667904</td>\n",
              "      <td>4963.600</td>\n",
              "      <td>5099.100</td>\n",
              "      <td>5191.000</td>\n",
              "      <td>5228.100</td>\n",
              "      <td>5228.100</td>\n",
              "    </tr>\n",
              "  </tbody>\n",
              "</table>\n",
              "</div>"
            ],
            "text/plain": [
              "                 count         mean         std  ...       50%       75%       max\n",
              "age             4119.0    40.113620   10.313362  ...    38.000    47.000    88.000\n",
              "duration        4119.0   256.788055  254.703736  ...   181.000   317.000  3643.000\n",
              "campaign        4119.0     2.537266    2.568159  ...     2.000     3.000    35.000\n",
              "pdays           4119.0   960.422190  191.922786  ...   999.000   999.000   999.000\n",
              "previous        4119.0     0.190337    0.541788  ...     0.000     0.000     6.000\n",
              "emp.var.rate    4119.0     0.084972    1.563114  ...     1.100     1.400     1.400\n",
              "cons.price.idx  4119.0    93.579704    0.579349  ...    93.749    93.994    94.767\n",
              "cons.conf.idx   4119.0   -40.499102    4.594578  ...   -41.800   -36.400   -26.900\n",
              "euribor3m       4119.0     3.621356    1.733591  ...     4.857     4.961     5.045\n",
              "nr.employed     4119.0  5166.481695   73.667904  ...  5191.000  5228.100  5228.100\n",
              "\n",
              "[10 rows x 8 columns]"
            ]
          },
          "metadata": {},
          "execution_count": 5
        }
      ]
    },
    {
      "cell_type": "code",
      "metadata": {
        "colab": {
          "base_uri": "https://localhost:8080/"
        },
        "id": "QN94tnVd70UE",
        "outputId": "05936de7-6729-4911-a2bd-7f0230372360"
      },
      "source": [
        "data['education'].unique()"
      ],
      "execution_count": null,
      "outputs": [
        {
          "output_type": "execute_result",
          "data": {
            "text/plain": [
              "array(['basic.9y', 'high.school', 'university.degree',\n",
              "       'professional.course', 'basic.6y', 'basic.4y', 'unknown',\n",
              "       'illiterate'], dtype=object)"
            ]
          },
          "metadata": {},
          "execution_count": 6
        }
      ]
    },
    {
      "cell_type": "code",
      "metadata": {
        "id": "yngw84fb64uw"
      },
      "source": [
        "data['education'] = np.where(data['education']=='basic.9y','basic',data['education'])\n",
        "data['education'] = np.where(data['education']=='basic.6y','basic',data['education'])\n",
        "data['education'] = np.where(data['education']=='basic.4y','basic',data['education'])\n",
        "data['education'] = np.where(data['education']=='high.school','high_school',data['education'])\n",
        "data['education'] = np.where(data['education']=='professional.course','professional_course',data['education'])\n",
        "data['education'] = np.where(data['education']=='university.degree','university',data['education'])"
      ],
      "execution_count": null,
      "outputs": []
    },
    {
      "cell_type": "code",
      "metadata": {
        "id": "VQEmE3zg8Pr2"
      },
      "source": [
        "# function that will help us to aggregate and obtain the percentage of each level for the categorical variables\n",
        "def aggregation_feature(feature):\n",
        "  globals()['df' + str(feature)] = pd.pivot_table(data, index=[feature], \n",
        "                       values=['y'], aggfunc={'y': 'count'})\n",
        "  globals()['df' + str(feature)].rename(columns={'y':'Count'},inplace=True)\n",
        "  globals()['df' + str(feature)].reset_index(inplace=True)\n",
        "  globals()['df' + str(feature)]['Perc'] = round((globals()['df' + str(feature)]['Count']/globals()['df' + str(feature)]['Count'].sum())*100,2)\n",
        "  return globals()['df' + str(feature)]"
      ],
      "execution_count": null,
      "outputs": []
    },
    {
      "cell_type": "code",
      "metadata": {
        "id": "bp1F_NMg9mEk"
      },
      "source": [
        "def aggregation_feature(feature):\n",
        "  globals()['df' + str(feature)] = pd.DataFrame(round(data[feature].value_counts()/data[feature].count()*100,2))\n",
        "  return globals()['df' + str(feature)]"
      ],
      "execution_count": null,
      "outputs": []
    },
    {
      "cell_type": "code",
      "metadata": {
        "colab": {
          "base_uri": "https://localhost:8080/",
          "height": 111
        },
        "id": "DwCCxq2r9fpE",
        "outputId": "557211cf-ecdb-4386-973a-43047e8b4acf"
      },
      "source": [
        "aggregation_feature('education')\n",
        "aggregation_feature('y')\n"
      ],
      "execution_count": null,
      "outputs": [
        {
          "output_type": "execute_result",
          "data": {
            "text/html": [
              "<div>\n",
              "<style scoped>\n",
              "    .dataframe tbody tr th:only-of-type {\n",
              "        vertical-align: middle;\n",
              "    }\n",
              "\n",
              "    .dataframe tbody tr th {\n",
              "        vertical-align: top;\n",
              "    }\n",
              "\n",
              "    .dataframe thead th {\n",
              "        text-align: right;\n",
              "    }\n",
              "</style>\n",
              "<table border=\"1\" class=\"dataframe\">\n",
              "  <thead>\n",
              "    <tr style=\"text-align: right;\">\n",
              "      <th></th>\n",
              "      <th>y</th>\n",
              "    </tr>\n",
              "  </thead>\n",
              "  <tbody>\n",
              "    <tr>\n",
              "      <th>no</th>\n",
              "      <td>89.05</td>\n",
              "    </tr>\n",
              "    <tr>\n",
              "      <th>yes</th>\n",
              "      <td>10.95</td>\n",
              "    </tr>\n",
              "  </tbody>\n",
              "</table>\n",
              "</div>"
            ],
            "text/plain": [
              "         y\n",
              "no   89.05\n",
              "yes  10.95"
            ]
          },
          "metadata": {},
          "execution_count": 10
        }
      ]
    },
    {
      "cell_type": "code",
      "metadata": {
        "id": "w6a5qVFf_Tts"
      },
      "source": [
        "#cfig = px.bar(test, x='education', y=test.index,title='What is the most common education level?',orientation='h',text='education')\n",
        "#fig.update_layout(barmode='stack', yaxis={'categoryorder':'total ascending'})\n",
        "#fig.show()"
      ],
      "execution_count": null,
      "outputs": []
    },
    {
      "cell_type": "code",
      "metadata": {
        "colab": {
          "base_uri": "https://localhost:8080/",
          "height": 542
        },
        "id": "D1Ff2MooD2WK",
        "outputId": "b3296413-ee92-4f50-b3d1-4b1c1a0c4a8b"
      },
      "source": [
        "fig = px.pie(dfy, values='y', names=dfy.index, title='How imbalanced is our data?')\n",
        "fig.show()"
      ],
      "execution_count": null,
      "outputs": [
        {
          "output_type": "display_data",
          "data": {
            "text/html": [
              "<html>\n",
              "<head><meta charset=\"utf-8\" /></head>\n",
              "<body>\n",
              "    <div>\n",
              "            <script src=\"https://cdnjs.cloudflare.com/ajax/libs/mathjax/2.7.5/MathJax.js?config=TeX-AMS-MML_SVG\"></script><script type=\"text/javascript\">if (window.MathJax) {MathJax.Hub.Config({SVG: {font: \"STIX-Web\"}});}</script>\n",
              "                <script type=\"text/javascript\">window.PlotlyConfig = {MathJaxConfig: 'local'};</script>\n",
              "        <script src=\"https://cdn.plot.ly/plotly-latest.min.js\"></script>    \n",
              "            <div id=\"39cc265b-ef36-4913-a1d7-c8c20bd273c9\" class=\"plotly-graph-div\" style=\"height:525px; width:100%;\"></div>\n",
              "            <script type=\"text/javascript\">\n",
              "                \n",
              "                    window.PLOTLYENV=window.PLOTLYENV || {};\n",
              "                    \n",
              "                if (document.getElementById(\"39cc265b-ef36-4913-a1d7-c8c20bd273c9\")) {\n",
              "                    Plotly.newPlot(\n",
              "                        '39cc265b-ef36-4913-a1d7-c8c20bd273c9',\n",
              "                        [{\"domain\": {\"x\": [0.0, 1.0], \"y\": [0.0, 1.0]}, \"hoverlabel\": {\"namelength\": 0}, \"hovertemplate\": \"label=%{label}<br>y=%{value}\", \"labels\": [\"no\", \"yes\"], \"legendgroup\": \"\", \"name\": \"\", \"showlegend\": true, \"type\": \"pie\", \"values\": [89.05, 10.95]}],\n",
              "                        {\"legend\": {\"tracegroupgap\": 0}, \"template\": {\"data\": {\"bar\": [{\"error_x\": {\"color\": \"#2a3f5f\"}, \"error_y\": {\"color\": \"#2a3f5f\"}, \"marker\": {\"line\": {\"color\": \"#E5ECF6\", \"width\": 0.5}}, \"type\": \"bar\"}], \"barpolar\": [{\"marker\": {\"line\": {\"color\": \"#E5ECF6\", \"width\": 0.5}}, \"type\": \"barpolar\"}], \"carpet\": [{\"aaxis\": {\"endlinecolor\": \"#2a3f5f\", \"gridcolor\": \"white\", \"linecolor\": \"white\", \"minorgridcolor\": \"white\", \"startlinecolor\": \"#2a3f5f\"}, \"baxis\": {\"endlinecolor\": \"#2a3f5f\", \"gridcolor\": \"white\", \"linecolor\": \"white\", \"minorgridcolor\": \"white\", \"startlinecolor\": \"#2a3f5f\"}, \"type\": \"carpet\"}], \"choropleth\": [{\"colorbar\": {\"outlinewidth\": 0, \"ticks\": \"\"}, \"type\": \"choropleth\"}], \"contour\": [{\"colorbar\": {\"outlinewidth\": 0, \"ticks\": \"\"}, \"colorscale\": [[0.0, \"#0d0887\"], [0.1111111111111111, \"#46039f\"], [0.2222222222222222, \"#7201a8\"], [0.3333333333333333, \"#9c179e\"], [0.4444444444444444, \"#bd3786\"], [0.5555555555555556, \"#d8576b\"], [0.6666666666666666, \"#ed7953\"], [0.7777777777777778, \"#fb9f3a\"], [0.8888888888888888, \"#fdca26\"], [1.0, \"#f0f921\"]], \"type\": \"contour\"}], \"contourcarpet\": [{\"colorbar\": {\"outlinewidth\": 0, \"ticks\": \"\"}, \"type\": \"contourcarpet\"}], \"heatmap\": [{\"colorbar\": {\"outlinewidth\": 0, \"ticks\": \"\"}, \"colorscale\": [[0.0, \"#0d0887\"], [0.1111111111111111, \"#46039f\"], [0.2222222222222222, \"#7201a8\"], [0.3333333333333333, \"#9c179e\"], [0.4444444444444444, \"#bd3786\"], [0.5555555555555556, \"#d8576b\"], [0.6666666666666666, \"#ed7953\"], [0.7777777777777778, \"#fb9f3a\"], [0.8888888888888888, \"#fdca26\"], [1.0, \"#f0f921\"]], \"type\": \"heatmap\"}], \"heatmapgl\": [{\"colorbar\": {\"outlinewidth\": 0, \"ticks\": \"\"}, \"colorscale\": [[0.0, \"#0d0887\"], [0.1111111111111111, \"#46039f\"], [0.2222222222222222, \"#7201a8\"], [0.3333333333333333, \"#9c179e\"], [0.4444444444444444, \"#bd3786\"], [0.5555555555555556, \"#d8576b\"], [0.6666666666666666, \"#ed7953\"], [0.7777777777777778, \"#fb9f3a\"], [0.8888888888888888, \"#fdca26\"], [1.0, \"#f0f921\"]], \"type\": \"heatmapgl\"}], \"histogram\": [{\"marker\": {\"colorbar\": {\"outlinewidth\": 0, \"ticks\": \"\"}}, \"type\": \"histogram\"}], \"histogram2d\": [{\"colorbar\": {\"outlinewidth\": 0, \"ticks\": \"\"}, \"colorscale\": [[0.0, \"#0d0887\"], [0.1111111111111111, \"#46039f\"], [0.2222222222222222, \"#7201a8\"], [0.3333333333333333, \"#9c179e\"], [0.4444444444444444, \"#bd3786\"], [0.5555555555555556, \"#d8576b\"], [0.6666666666666666, \"#ed7953\"], [0.7777777777777778, \"#fb9f3a\"], [0.8888888888888888, \"#fdca26\"], [1.0, \"#f0f921\"]], \"type\": \"histogram2d\"}], \"histogram2dcontour\": [{\"colorbar\": {\"outlinewidth\": 0, \"ticks\": \"\"}, \"colorscale\": [[0.0, \"#0d0887\"], [0.1111111111111111, \"#46039f\"], [0.2222222222222222, \"#7201a8\"], [0.3333333333333333, \"#9c179e\"], [0.4444444444444444, \"#bd3786\"], [0.5555555555555556, \"#d8576b\"], [0.6666666666666666, \"#ed7953\"], [0.7777777777777778, \"#fb9f3a\"], [0.8888888888888888, \"#fdca26\"], [1.0, \"#f0f921\"]], \"type\": \"histogram2dcontour\"}], \"mesh3d\": [{\"colorbar\": {\"outlinewidth\": 0, \"ticks\": \"\"}, \"type\": \"mesh3d\"}], \"parcoords\": [{\"line\": {\"colorbar\": {\"outlinewidth\": 0, \"ticks\": \"\"}}, \"type\": \"parcoords\"}], \"pie\": [{\"automargin\": true, \"type\": \"pie\"}], \"scatter\": [{\"marker\": {\"colorbar\": {\"outlinewidth\": 0, \"ticks\": \"\"}}, \"type\": \"scatter\"}], \"scatter3d\": [{\"line\": {\"colorbar\": {\"outlinewidth\": 0, \"ticks\": \"\"}}, \"marker\": {\"colorbar\": {\"outlinewidth\": 0, \"ticks\": \"\"}}, \"type\": \"scatter3d\"}], \"scattercarpet\": [{\"marker\": {\"colorbar\": {\"outlinewidth\": 0, \"ticks\": \"\"}}, \"type\": \"scattercarpet\"}], \"scattergeo\": [{\"marker\": {\"colorbar\": {\"outlinewidth\": 0, \"ticks\": \"\"}}, \"type\": \"scattergeo\"}], \"scattergl\": [{\"marker\": {\"colorbar\": {\"outlinewidth\": 0, \"ticks\": \"\"}}, \"type\": \"scattergl\"}], \"scattermapbox\": [{\"marker\": {\"colorbar\": {\"outlinewidth\": 0, \"ticks\": \"\"}}, \"type\": \"scattermapbox\"}], \"scatterpolar\": [{\"marker\": {\"colorbar\": {\"outlinewidth\": 0, \"ticks\": \"\"}}, \"type\": \"scatterpolar\"}], \"scatterpolargl\": [{\"marker\": {\"colorbar\": {\"outlinewidth\": 0, \"ticks\": \"\"}}, \"type\": \"scatterpolargl\"}], \"scatterternary\": [{\"marker\": {\"colorbar\": {\"outlinewidth\": 0, \"ticks\": \"\"}}, \"type\": \"scatterternary\"}], \"surface\": [{\"colorbar\": {\"outlinewidth\": 0, \"ticks\": \"\"}, \"colorscale\": [[0.0, \"#0d0887\"], [0.1111111111111111, \"#46039f\"], [0.2222222222222222, \"#7201a8\"], [0.3333333333333333, \"#9c179e\"], [0.4444444444444444, \"#bd3786\"], [0.5555555555555556, \"#d8576b\"], [0.6666666666666666, \"#ed7953\"], [0.7777777777777778, \"#fb9f3a\"], [0.8888888888888888, \"#fdca26\"], [1.0, \"#f0f921\"]], \"type\": \"surface\"}], \"table\": [{\"cells\": {\"fill\": {\"color\": \"#EBF0F8\"}, \"line\": {\"color\": \"white\"}}, \"header\": {\"fill\": {\"color\": \"#C8D4E3\"}, \"line\": {\"color\": \"white\"}}, \"type\": \"table\"}]}, \"layout\": {\"annotationdefaults\": {\"arrowcolor\": \"#2a3f5f\", \"arrowhead\": 0, \"arrowwidth\": 1}, \"coloraxis\": {\"colorbar\": {\"outlinewidth\": 0, \"ticks\": \"\"}}, \"colorscale\": {\"diverging\": [[0, \"#8e0152\"], [0.1, \"#c51b7d\"], [0.2, \"#de77ae\"], [0.3, \"#f1b6da\"], [0.4, \"#fde0ef\"], [0.5, \"#f7f7f7\"], [0.6, \"#e6f5d0\"], [0.7, \"#b8e186\"], [0.8, \"#7fbc41\"], [0.9, \"#4d9221\"], [1, \"#276419\"]], \"sequential\": [[0.0, \"#0d0887\"], [0.1111111111111111, \"#46039f\"], [0.2222222222222222, \"#7201a8\"], [0.3333333333333333, \"#9c179e\"], [0.4444444444444444, \"#bd3786\"], [0.5555555555555556, \"#d8576b\"], [0.6666666666666666, \"#ed7953\"], [0.7777777777777778, \"#fb9f3a\"], [0.8888888888888888, \"#fdca26\"], [1.0, \"#f0f921\"]], \"sequentialminus\": [[0.0, \"#0d0887\"], [0.1111111111111111, \"#46039f\"], [0.2222222222222222, \"#7201a8\"], [0.3333333333333333, \"#9c179e\"], [0.4444444444444444, \"#bd3786\"], [0.5555555555555556, \"#d8576b\"], [0.6666666666666666, \"#ed7953\"], [0.7777777777777778, \"#fb9f3a\"], [0.8888888888888888, \"#fdca26\"], [1.0, \"#f0f921\"]]}, \"colorway\": [\"#636efa\", \"#EF553B\", \"#00cc96\", \"#ab63fa\", \"#FFA15A\", \"#19d3f3\", \"#FF6692\", \"#B6E880\", \"#FF97FF\", \"#FECB52\"], \"font\": {\"color\": \"#2a3f5f\"}, \"geo\": {\"bgcolor\": \"white\", \"lakecolor\": \"white\", \"landcolor\": \"#E5ECF6\", \"showlakes\": true, \"showland\": true, \"subunitcolor\": \"white\"}, \"hoverlabel\": {\"align\": \"left\"}, \"hovermode\": \"closest\", \"mapbox\": {\"style\": \"light\"}, \"paper_bgcolor\": \"white\", \"plot_bgcolor\": \"#E5ECF6\", \"polar\": {\"angularaxis\": {\"gridcolor\": \"white\", \"linecolor\": \"white\", \"ticks\": \"\"}, \"bgcolor\": \"#E5ECF6\", \"radialaxis\": {\"gridcolor\": \"white\", \"linecolor\": \"white\", \"ticks\": \"\"}}, \"scene\": {\"xaxis\": {\"backgroundcolor\": \"#E5ECF6\", \"gridcolor\": \"white\", \"gridwidth\": 2, \"linecolor\": \"white\", \"showbackground\": true, \"ticks\": \"\", \"zerolinecolor\": \"white\"}, \"yaxis\": {\"backgroundcolor\": \"#E5ECF6\", \"gridcolor\": \"white\", \"gridwidth\": 2, \"linecolor\": \"white\", \"showbackground\": true, \"ticks\": \"\", \"zerolinecolor\": \"white\"}, \"zaxis\": {\"backgroundcolor\": \"#E5ECF6\", \"gridcolor\": \"white\", \"gridwidth\": 2, \"linecolor\": \"white\", \"showbackground\": true, \"ticks\": \"\", \"zerolinecolor\": \"white\"}}, \"shapedefaults\": {\"line\": {\"color\": \"#2a3f5f\"}}, \"ternary\": {\"aaxis\": {\"gridcolor\": \"white\", \"linecolor\": \"white\", \"ticks\": \"\"}, \"baxis\": {\"gridcolor\": \"white\", \"linecolor\": \"white\", \"ticks\": \"\"}, \"bgcolor\": \"#E5ECF6\", \"caxis\": {\"gridcolor\": \"white\", \"linecolor\": \"white\", \"ticks\": \"\"}}, \"title\": {\"x\": 0.05}, \"xaxis\": {\"automargin\": true, \"gridcolor\": \"white\", \"linecolor\": \"white\", \"ticks\": \"\", \"title\": {\"standoff\": 15}, \"zerolinecolor\": \"white\", \"zerolinewidth\": 2}, \"yaxis\": {\"automargin\": true, \"gridcolor\": \"white\", \"linecolor\": \"white\", \"ticks\": \"\", \"title\": {\"standoff\": 15}, \"zerolinecolor\": \"white\", \"zerolinewidth\": 2}}}, \"title\": {\"text\": \"How imbalanced is our data?\"}},\n",
              "                        {\"responsive\": true}\n",
              "                    ).then(function(){\n",
              "                            \n",
              "var gd = document.getElementById('39cc265b-ef36-4913-a1d7-c8c20bd273c9');\n",
              "var x = new MutationObserver(function (mutations, observer) {{\n",
              "        var display = window.getComputedStyle(gd).display;\n",
              "        if (!display || display === 'none') {{\n",
              "            console.log([gd, 'removed!']);\n",
              "            Plotly.purge(gd);\n",
              "            observer.disconnect();\n",
              "        }}\n",
              "}});\n",
              "\n",
              "// Listen for the removal of the full notebook cells\n",
              "var notebookContainer = gd.closest('#notebook-container');\n",
              "if (notebookContainer) {{\n",
              "    x.observe(notebookContainer, {childList: true});\n",
              "}}\n",
              "\n",
              "// Listen for the clearing of the current output cell\n",
              "var outputEl = gd.closest('.output');\n",
              "if (outputEl) {{\n",
              "    x.observe(outputEl, {childList: true});\n",
              "}}\n",
              "\n",
              "                        })\n",
              "                };\n",
              "                \n",
              "            </script>\n",
              "        </div>\n",
              "</body>\n",
              "</html>"
            ]
          },
          "metadata": {}
        }
      ]
    },
    {
      "cell_type": "code",
      "metadata": {
        "colab": {
          "base_uri": "https://localhost:8080/",
          "height": 162
        },
        "id": "EuixJePb952r",
        "outputId": "c5101dc0-ebba-42d5-b589-07c62c117bd3"
      },
      "source": [
        "data.groupby('y').mean()"
      ],
      "execution_count": null,
      "outputs": [
        {
          "output_type": "execute_result",
          "data": {
            "text/html": [
              "<div>\n",
              "<style scoped>\n",
              "    .dataframe tbody tr th:only-of-type {\n",
              "        vertical-align: middle;\n",
              "    }\n",
              "\n",
              "    .dataframe tbody tr th {\n",
              "        vertical-align: top;\n",
              "    }\n",
              "\n",
              "    .dataframe thead th {\n",
              "        text-align: right;\n",
              "    }\n",
              "</style>\n",
              "<table border=\"1\" class=\"dataframe\">\n",
              "  <thead>\n",
              "    <tr style=\"text-align: right;\">\n",
              "      <th></th>\n",
              "      <th>age</th>\n",
              "      <th>duration</th>\n",
              "      <th>campaign</th>\n",
              "      <th>pdays</th>\n",
              "      <th>previous</th>\n",
              "      <th>emp.var.rate</th>\n",
              "      <th>cons.price.idx</th>\n",
              "      <th>cons.conf.idx</th>\n",
              "      <th>euribor3m</th>\n",
              "      <th>nr.employed</th>\n",
              "    </tr>\n",
              "    <tr>\n",
              "      <th>y</th>\n",
              "      <th></th>\n",
              "      <th></th>\n",
              "      <th></th>\n",
              "      <th></th>\n",
              "      <th></th>\n",
              "      <th></th>\n",
              "      <th></th>\n",
              "      <th></th>\n",
              "      <th></th>\n",
              "      <th></th>\n",
              "    </tr>\n",
              "  </thead>\n",
              "  <tbody>\n",
              "    <tr>\n",
              "      <th>no</th>\n",
              "      <td>39.895311</td>\n",
              "      <td>219.40976</td>\n",
              "      <td>2.605780</td>\n",
              "      <td>982.763086</td>\n",
              "      <td>0.141767</td>\n",
              "      <td>0.240185</td>\n",
              "      <td>93.599677</td>\n",
              "      <td>-40.586723</td>\n",
              "      <td>3.802826</td>\n",
              "      <td>5175.502072</td>\n",
              "    </tr>\n",
              "    <tr>\n",
              "      <th>yes</th>\n",
              "      <td>41.889135</td>\n",
              "      <td>560.78714</td>\n",
              "      <td>1.980044</td>\n",
              "      <td>778.722838</td>\n",
              "      <td>0.585366</td>\n",
              "      <td>-1.177384</td>\n",
              "      <td>93.417268</td>\n",
              "      <td>-39.786475</td>\n",
              "      <td>2.145448</td>\n",
              "      <td>5093.118625</td>\n",
              "    </tr>\n",
              "  </tbody>\n",
              "</table>\n",
              "</div>"
            ],
            "text/plain": [
              "           age   duration  campaign  ...  cons.conf.idx  euribor3m  nr.employed\n",
              "y                                    ...                                       \n",
              "no   39.895311  219.40976  2.605780  ...     -40.586723   3.802826  5175.502072\n",
              "yes  41.889135  560.78714  1.980044  ...     -39.786475   2.145448  5093.118625\n",
              "\n",
              "[2 rows x 10 columns]"
            ]
          },
          "metadata": {},
          "execution_count": 13
        }
      ]
    },
    {
      "cell_type": "code",
      "metadata": {
        "colab": {
          "base_uri": "https://localhost:8080/",
          "height": 162
        },
        "id": "TDXALR0MEwLZ",
        "outputId": "c35f57ac-2b66-442d-f3d8-7ce23c38776b"
      },
      "source": [
        "data.groupby('y').median()"
      ],
      "execution_count": null,
      "outputs": [
        {
          "output_type": "execute_result",
          "data": {
            "text/html": [
              "<div>\n",
              "<style scoped>\n",
              "    .dataframe tbody tr th:only-of-type {\n",
              "        vertical-align: middle;\n",
              "    }\n",
              "\n",
              "    .dataframe tbody tr th {\n",
              "        vertical-align: top;\n",
              "    }\n",
              "\n",
              "    .dataframe thead th {\n",
              "        text-align: right;\n",
              "    }\n",
              "</style>\n",
              "<table border=\"1\" class=\"dataframe\">\n",
              "  <thead>\n",
              "    <tr style=\"text-align: right;\">\n",
              "      <th></th>\n",
              "      <th>age</th>\n",
              "      <th>duration</th>\n",
              "      <th>campaign</th>\n",
              "      <th>pdays</th>\n",
              "      <th>previous</th>\n",
              "      <th>emp.var.rate</th>\n",
              "      <th>cons.price.idx</th>\n",
              "      <th>cons.conf.idx</th>\n",
              "      <th>euribor3m</th>\n",
              "      <th>nr.employed</th>\n",
              "    </tr>\n",
              "    <tr>\n",
              "      <th>y</th>\n",
              "      <th></th>\n",
              "      <th></th>\n",
              "      <th></th>\n",
              "      <th></th>\n",
              "      <th></th>\n",
              "      <th></th>\n",
              "      <th></th>\n",
              "      <th></th>\n",
              "      <th></th>\n",
              "      <th></th>\n",
              "    </tr>\n",
              "  </thead>\n",
              "  <tbody>\n",
              "    <tr>\n",
              "      <th>no</th>\n",
              "      <td>38</td>\n",
              "      <td>165</td>\n",
              "      <td>2</td>\n",
              "      <td>999</td>\n",
              "      <td>0</td>\n",
              "      <td>1.1</td>\n",
              "      <td>93.918</td>\n",
              "      <td>-41.8</td>\n",
              "      <td>4.857</td>\n",
              "      <td>5195.8</td>\n",
              "    </tr>\n",
              "    <tr>\n",
              "      <th>yes</th>\n",
              "      <td>39</td>\n",
              "      <td>458</td>\n",
              "      <td>2</td>\n",
              "      <td>999</td>\n",
              "      <td>0</td>\n",
              "      <td>-1.8</td>\n",
              "      <td>93.369</td>\n",
              "      <td>-40.3</td>\n",
              "      <td>1.262</td>\n",
              "      <td>5076.2</td>\n",
              "    </tr>\n",
              "  </tbody>\n",
              "</table>\n",
              "</div>"
            ],
            "text/plain": [
              "     age  duration  campaign  ...  cons.conf.idx  euribor3m  nr.employed\n",
              "y                             ...                                       \n",
              "no    38       165         2  ...          -41.8      4.857       5195.8\n",
              "yes   39       458         2  ...          -40.3      1.262       5076.2\n",
              "\n",
              "[2 rows x 10 columns]"
            ]
          },
          "metadata": {},
          "execution_count": 14
        }
      ]
    },
    {
      "cell_type": "code",
      "metadata": {
        "colab": {
          "base_uri": "https://localhost:8080/",
          "height": 286
        },
        "id": "89RgUQ0tFFJQ",
        "outputId": "b31e8b0f-9b6f-414a-a921-3c35752be874"
      },
      "source": [
        "data.groupby('education').mean()"
      ],
      "execution_count": null,
      "outputs": [
        {
          "output_type": "execute_result",
          "data": {
            "text/html": [
              "<div>\n",
              "<style scoped>\n",
              "    .dataframe tbody tr th:only-of-type {\n",
              "        vertical-align: middle;\n",
              "    }\n",
              "\n",
              "    .dataframe tbody tr th {\n",
              "        vertical-align: top;\n",
              "    }\n",
              "\n",
              "    .dataframe thead th {\n",
              "        text-align: right;\n",
              "    }\n",
              "</style>\n",
              "<table border=\"1\" class=\"dataframe\">\n",
              "  <thead>\n",
              "    <tr style=\"text-align: right;\">\n",
              "      <th></th>\n",
              "      <th>age</th>\n",
              "      <th>duration</th>\n",
              "      <th>campaign</th>\n",
              "      <th>pdays</th>\n",
              "      <th>previous</th>\n",
              "      <th>emp.var.rate</th>\n",
              "      <th>cons.price.idx</th>\n",
              "      <th>cons.conf.idx</th>\n",
              "      <th>euribor3m</th>\n",
              "      <th>nr.employed</th>\n",
              "    </tr>\n",
              "    <tr>\n",
              "      <th>education</th>\n",
              "      <th></th>\n",
              "      <th></th>\n",
              "      <th></th>\n",
              "      <th></th>\n",
              "      <th></th>\n",
              "      <th></th>\n",
              "      <th></th>\n",
              "      <th></th>\n",
              "      <th></th>\n",
              "      <th></th>\n",
              "    </tr>\n",
              "  </thead>\n",
              "  <tbody>\n",
              "    <tr>\n",
              "      <th>basic</th>\n",
              "      <td>42.337124</td>\n",
              "      <td>253.898457</td>\n",
              "      <td>2.429732</td>\n",
              "      <td>978.815597</td>\n",
              "      <td>0.149472</td>\n",
              "      <td>0.237368</td>\n",
              "      <td>93.658600</td>\n",
              "      <td>-41.120552</td>\n",
              "      <td>3.775701</td>\n",
              "      <td>5174.133144</td>\n",
              "    </tr>\n",
              "    <tr>\n",
              "      <th>high_school</th>\n",
              "      <td>38.097720</td>\n",
              "      <td>258.534202</td>\n",
              "      <td>2.630836</td>\n",
              "      <td>958.022801</td>\n",
              "      <td>0.206298</td>\n",
              "      <td>-0.002497</td>\n",
              "      <td>93.564314</td>\n",
              "      <td>-40.995765</td>\n",
              "      <td>3.511732</td>\n",
              "      <td>5163.212595</td>\n",
              "    </tr>\n",
              "    <tr>\n",
              "      <th>illiterate</th>\n",
              "      <td>42.000000</td>\n",
              "      <td>146.000000</td>\n",
              "      <td>4.000000</td>\n",
              "      <td>999.000000</td>\n",
              "      <td>0.000000</td>\n",
              "      <td>-2.900000</td>\n",
              "      <td>92.201000</td>\n",
              "      <td>-31.400000</td>\n",
              "      <td>0.834000</td>\n",
              "      <td>5076.200000</td>\n",
              "    </tr>\n",
              "    <tr>\n",
              "      <th>professional_course</th>\n",
              "      <td>40.207477</td>\n",
              "      <td>278.816822</td>\n",
              "      <td>2.512150</td>\n",
              "      <td>958.211215</td>\n",
              "      <td>0.194393</td>\n",
              "      <td>0.163925</td>\n",
              "      <td>93.599630</td>\n",
              "      <td>-40.127664</td>\n",
              "      <td>3.701426</td>\n",
              "      <td>5167.595140</td>\n",
              "    </tr>\n",
              "    <tr>\n",
              "      <th>university</th>\n",
              "      <td>39.017405</td>\n",
              "      <td>247.707278</td>\n",
              "      <td>2.583070</td>\n",
              "      <td>947.900316</td>\n",
              "      <td>0.207278</td>\n",
              "      <td>-0.009731</td>\n",
              "      <td>93.499109</td>\n",
              "      <td>-39.830063</td>\n",
              "      <td>3.547132</td>\n",
              "      <td>5163.023180</td>\n",
              "    </tr>\n",
              "    <tr>\n",
              "      <th>unknown</th>\n",
              "      <td>42.826347</td>\n",
              "      <td>267.281437</td>\n",
              "      <td>2.538922</td>\n",
              "      <td>939.700599</td>\n",
              "      <td>0.263473</td>\n",
              "      <td>-0.074251</td>\n",
              "      <td>93.637455</td>\n",
              "      <td>-39.487425</td>\n",
              "      <td>3.410174</td>\n",
              "      <td>5151.260479</td>\n",
              "    </tr>\n",
              "  </tbody>\n",
              "</table>\n",
              "</div>"
            ],
            "text/plain": [
              "                           age    duration  ...  euribor3m  nr.employed\n",
              "education                                   ...                        \n",
              "basic                42.337124  253.898457  ...   3.775701  5174.133144\n",
              "high_school          38.097720  258.534202  ...   3.511732  5163.212595\n",
              "illiterate           42.000000  146.000000  ...   0.834000  5076.200000\n",
              "professional_course  40.207477  278.816822  ...   3.701426  5167.595140\n",
              "university           39.017405  247.707278  ...   3.547132  5163.023180\n",
              "unknown              42.826347  267.281437  ...   3.410174  5151.260479\n",
              "\n",
              "[6 rows x 10 columns]"
            ]
          },
          "metadata": {},
          "execution_count": 15
        }
      ]
    },
    {
      "cell_type": "code",
      "metadata": {
        "colab": {
          "base_uri": "https://localhost:8080/",
          "height": 401
        },
        "id": "GGYGiXbdFcGH",
        "outputId": "59e6268a-3f50-4e9c-c06c-f09a7a7121a9"
      },
      "source": [
        "pd.crosstab(data.education,data.y).plot(kind='bar')\n",
        "plt.title('Frequency of purchase by education level')\n",
        "plt.xlabel('Education label')\n",
        "plt.ylabel('Frequency of purchase')"
      ],
      "execution_count": null,
      "outputs": [
        {
          "output_type": "execute_result",
          "data": {
            "text/plain": [
              "Text(0, 0.5, 'Frequency of purchase')"
            ]
          },
          "metadata": {},
          "execution_count": 16
        },
        {
          "output_type": "display_data",
          "data": {
            "image/png": "[encoded data removed]",
            "text/plain": [
              "<Figure size 432x288 with 1 Axes>"
            ]
          },
          "metadata": {
            "needs_background": "light"
          }
        }
      ]
    },
    {
      "cell_type": "code",
      "metadata": {
        "colab": {
          "base_uri": "https://localhost:8080/",
          "height": 542
        },
        "id": "vE3Bj33CF624",
        "outputId": "8b7eee71-03d6-49fd-d890-006f8a748cd8"
      },
      "source": [
        "px.histogram(data, x='education', barmode='group',title='Frequency of purchase by education level',color='y')"
      ],
      "execution_count": null,
      "outputs": [
        {
          "output_type": "display_data",
          "data": {
            "text/html": [
              "<html>\n",
              "<head><meta charset=\"utf-8\" /></head>\n",
              "<body>\n",
              "    <div>\n",
              "            <script src=\"https://cdnjs.cloudflare.com/ajax/libs/mathjax/2.7.5/MathJax.js?config=TeX-AMS-MML_SVG\"></script><script type=\"text/javascript\">if (window.MathJax) {MathJax.Hub.Config({SVG: {font: \"STIX-Web\"}});}</script>\n",
              "                <script type=\"text/javascript\">window.PlotlyConfig = {MathJaxConfig: 'local'};</script>\n",
              "        <script src=\"https://cdn.plot.ly/plotly-latest.min.js\"></script>    \n",
              "            <div id=\"3ca5a96e-ea83-401d-b635-2c23b8a81f95\" class=\"plotly-graph-div\" style=\"height:525px; width:100%;\"></div>\n",
              "            <script type=\"text/javascript\">\n",
              "                \n",
              "                    window.PLOTLYENV=window.PLOTLYENV || {};\n",
              "                    \n",
              "                if (document.getElementById(\"3ca5a96e-ea83-401d-b635-2c23b8a81f95\")) {\n",
              "                    Plotly.newPlot(\n",
              "                        '3ca5a96e-ea83-401d-b635-2c23b8a81f95',\n",
              "                        [{\"alignmentgroup\": \"True\", \"bingroup\": \"x\", \"hoverlabel\": {\"namelength\": 0}, \"hovertemplate\": \"y=no<br>education=%{x}<br>count=%{y}\", \"legendgroup\": \"y=no\", \"marker\": {\"color\": \"#636efa\"}, \"name\": \"y=no\", \"offsetgroup\": \"y=no\", \"orientation\": \"v\", \"showlegend\": true, \"type\": \"histogram\", \"x\": [\"basic\", \"high_school\", \"high_school\", \"basic\", \"university\", \"university\", \"university\", \"university\", \"professional_course\", \"basic\", \"basic\", \"basic\", \"high_school\", \"basic\", \"high_school\", \"university\", \"university\", \"university\", \"university\", \"basic\", \"university\", \"high_school\", \"professional_course\", \"professional_course\", \"basic\", \"unknown\", \"university\", \"university\", \"high_school\", \"university\", \"basic\", \"university\", \"basic\", \"basic\", \"high_school\", \"unknown\", \"unknown\", \"high_school\", \"basic\", \"university\", \"professional_course\", \"basic\", \"university\", \"university\", \"basic\", \"professional_course\", \"high_school\", \"university\", \"basic\", \"high_school\", \"university\", \"university\", \"university\", \"university\", \"university\", \"professional_course\", \"basic\", \"high_school\", \"basic\", \"university\", \"unknown\", \"high_school\", \"university\", \"high_school\", \"university\", \"university\", \"university\", \"university\", \"basic\", \"university\", \"professional_course\", \"high_school\", \"basic\", \"university\", \"university\", \"university\", \"university\", \"basic\", \"high_school\", \"basic\", \"high_school\", \"university\", \"basic\", \"professional_course\", \"basic\", \"professional_course\", \"university\", \"unknown\", \"university\", \"high_school\", \"high_school\", \"unknown\", \"basic\", \"high_school\", \"professional_course\", \"basic\", \"basic\", \"university\", \"university\", \"basic\", \"basic\", \"university\", \"university\", \"basic\", \"high_school\", \"high_school\", \"basic\", \"professional_course\", \"basic\", \"high_school\", \"professional_course\", \"basic\", \"basic\", \"basic\", \"basic\", \"unknown\", \"university\", \"university\", \"professional_course\", \"professional_course\", \"university\", \"university\", \"professional_course\", \"professional_course\", \"professional_course\", \"high_school\", \"high_school\", \"basic\", \"high_school\", \"basic\", \"basic\", \"university\", \"basic\", \"high_school\", \"university\", \"basic\", \"basic\", \"unknown\", \"unknown\", \"high_school\", \"high_school\", \"high_school\", \"high_school\", \"high_school\", \"high_school\", \"university\", \"basic\", \"high_school\", \"high_school\", \"professional_course\", \"university\", \"professional_course\", \"high_school\", \"professional_course\", \"university\", \"basic\", \"professional_course\", \"university\", \"university\", \"unknown\", \"basic\", \"high_school\", \"university\", \"high_school\", \"high_school\", \"basic\", \"basic\", \"basic\", \"professional_course\", \"basic\", \"basic\", \"basic\", \"professional_course\", \"university\", \"university\", \"high_school\", \"basic\", \"university\", \"basic\", \"high_school\", \"basic\", \"basic\", \"university\", \"professional_course\", \"unknown\", \"university\", \"high_school\", \"professional_course\", \"basic\", \"university\", \"university\", \"university\", \"university\", \"basic\", \"basic\", \"high_school\", \"university\", \"professional_course\", \"basic\", \"unknown\", \"professional_course\", \"basic\", \"basic\", \"basic\", \"unknown\", \"high_school\", \"unknown\", \"basic\", \"basic\", \"basic\", \"high_school\", \"basic\", \"basic\", \"professional_course\", \"high_school\", \"university\", \"professional_course\", \"basic\", \"university\", \"basic\", \"basic\", \"high_school\", \"university\", \"university\", \"professional_course\", \"unknown\", \"university\", \"university\", \"high_school\", \"unknown\", \"high_school\", \"university\", \"basic\", \"university\", \"high_school\", \"university\", \"high_school\", \"basic\", \"high_school\", \"university\", \"basic\", \"basic\", \"high_school\", \"high_school\", \"high_school\", \"basic\", \"university\", \"basic\", \"university\", \"basic\", \"basic\", \"university\", \"basic\", \"high_school\", \"high_school\", \"basic\", \"basic\", \"basic\", \"basic\", \"professional_course\", \"university\", \"basic\", \"university\", \"university\", \"basic\", \"unknown\", \"university\", \"professional_course\", \"university\", \"high_school\", \"university\", \"unknown\", \"unknown\", \"university\", \"university\", \"university\", \"university\", \"university\", \"high_school\", \"basic\", \"high_school\", \"university\", \"university\", \"basic\", \"basic\", \"basic\", \"university\", \"high_school\", \"high_school\", \"university\", \"university\", \"professional_course\", \"high_school\", \"university\", \"university\", \"university\", \"university\", \"university\", \"basic\", \"university\", \"high_school\", \"university\", \"professional_course\", \"high_school\", \"basic\", \"basic\", \"unknown\", \"basic\", \"basic\", \"high_school\", \"basic\", \"university\", \"university\", \"basic\", \"university\", \"professional_course\", \"basic\", \"university\", \"high_school\", \"high_school\", \"university\", \"basic\", \"university\", \"professional_course\", \"high_school\", \"basic\", \"basic\", \"high_school\", \"university\", \"university\", \"basic\", \"university\", \"high_school\", \"basic\", \"basic\", \"basic\", \"professional_course\", \"professional_course\", \"basic\", \"university\", \"high_school\", \"basic\", \"high_school\", \"unknown\", \"unknown\", \"basic\", \"high_school\", \"university\", \"high_school\", \"high_school\", \"university\", \"university\", \"basic\", \"high_school\", \"basic\", \"university\", \"basic\", \"high_school\", \"university\", \"university\", \"university\", \"basic\", \"university\", \"university\", \"professional_course\", \"basic\", \"basic\", \"professional_course\", \"basic\", \"basic\", \"unknown\", \"unknown\", \"basic\", \"university\", \"basic\", \"high_school\", \"basic\", \"university\", \"basic\", \"university\", \"high_school\", \"professional_course\", \"high_school\", \"university\", \"basic\", \"professional_course\", \"basic\", \"basic\", \"basic\", \"basic\", \"university\", \"university\", \"university\", \"university\", \"university\", \"university\", \"unknown\", \"high_school\", \"university\", \"basic\", \"high_school\", \"basic\", \"high_school\", \"high_school\", \"high_school\", \"professional_course\", \"university\", \"basic\", \"university\", \"professional_course\", \"professional_course\", \"basic\", \"unknown\", \"university\", \"university\", \"university\", \"university\", \"university\", \"university\", \"university\", \"basic\", \"basic\", \"basic\", \"university\", \"high_school\", \"high_school\", \"university\", \"university\", \"basic\", \"university\", \"university\", \"high_school\", \"unknown\", \"basic\", \"basic\", \"unknown\", \"basic\", \"basic\", \"university\", \"basic\", \"basic\", \"university\", \"basic\", \"professional_course\", \"high_school\", \"university\", \"basic\", \"university\", \"basic\", \"university\", \"university\", \"basic\", \"professional_course\", \"university\", \"unknown\", \"university\", \"university\", \"basic\", \"university\", \"high_school\", \"basic\", \"basic\", \"basic\", \"professional_course\", \"university\", \"university\", \"professional_course\", \"university\", \"basic\", \"university\", \"basic\", \"university\", \"university\", \"basic\", \"high_school\", \"basic\", \"basic\", \"professional_course\", \"basic\", \"professional_course\", \"basic\", \"basic\", \"university\", \"high_school\", \"high_school\", \"professional_course\", \"university\", \"university\", \"high_school\", \"basic\", \"professional_course\", \"basic\", \"basic\", \"high_school\", \"basic\", \"basic\", \"professional_course\", \"high_school\", \"university\", \"university\", \"high_school\", \"university\", \"university\", \"university\", \"university\", \"professional_course\", \"basic\", \"professional_course\", \"professional_course\", \"high_school\", \"basic\", \"university\", \"basic\", \"basic\", \"high_school\", \"basic\", \"university\", \"university\", \"university\", \"basic\", \"basic\", \"basic\", \"basic\", \"high_school\", \"high_school\", \"university\", \"basic\", \"high_school\", \"professional_course\", \"high_school\", \"university\", \"high_school\", \"university\", \"basic\", \"basic\", \"university\", \"basic\", \"high_school\", \"university\", \"university\", \"unknown\", \"high_school\", \"basic\", \"high_school\", \"high_school\", \"university\", \"basic\", \"high_school\", \"high_school\", \"high_school\", \"high_school\", \"unknown\", \"university\", \"basic\", \"university\", \"university\", \"university\", \"basic\", \"university\", \"professional_course\", \"university\", \"high_school\", \"professional_course\", \"basic\", \"university\", \"basic\", \"university\", \"professional_course\", \"university\", \"university\", \"high_school\", \"university\", \"basic\", \"university\", \"high_school\", \"professional_course\", \"basic\", \"unknown\", \"unknown\", \"professional_course\", \"high_school\", \"basic\", \"basic\", \"university\", \"high_school\", \"basic\", \"university\", \"university\", \"university\", \"basic\", \"high_school\", \"basic\", \"basic\", \"high_school\", \"basic\", \"basic\", \"high_school\", \"university\", \"high_school\", \"university\", \"university\", \"basic\", \"university\", \"basic\", \"basic\", \"high_school\", \"university\", \"professional_course\", \"university\", \"university\", \"basic\", \"basic\", \"university\", \"professional_course\", \"high_school\", \"university\", \"university\", \"basic\", \"university\", \"university\", \"professional_course\", \"basic\", \"basic\", \"university\", \"university\", \"basic\", \"basic\", \"university\", \"high_school\", \"high_school\", \"basic\", \"university\", \"high_school\", \"high_school\", \"basic\", \"university\", \"university\", \"university\", \"high_school\", \"high_school\", \"university\", \"university\", \"university\", \"high_school\", \"basic\", \"high_school\", \"basic\", \"university\", \"high_school\", \"professional_course\", \"basic\", \"university\", \"university\", \"university\", \"professional_course\", \"basic\", \"high_school\", \"unknown\", \"university\", \"basic\", \"high_school\", \"high_school\", \"high_school\", \"basic\", \"high_school\", \"university\", \"unknown\", \"basic\", \"professional_course\", \"unknown\", \"university\", \"high_school\", \"high_school\", \"university\", \"basic\", \"high_school\", \"high_school\", \"university\", \"professional_course\", \"basic\", \"university\", \"professional_course\", \"university\", \"professional_course\", \"high_school\", \"university\", \"basic\", \"basic\", \"basic\", \"university\", \"university\", \"high_school\", \"university\", \"basic\", \"professional_course\", \"university\", \"professional_course\", \"basic\", \"high_school\", \"university\", \"university\", \"high_school\", \"professional_course\", \"university\", \"professional_course\", \"university\", \"basic\", \"professional_course\", \"basic\", \"university\", \"high_school\", \"basic\", \"university\", \"university\", \"basic\", \"high_school\", \"basic\", \"university\", \"high_school\", \"university\", \"professional_course\", \"professional_course\", \"high_school\", \"basic\", \"university\", \"university\", \"high_school\", \"basic\", \"professional_course\", \"high_school\", \"university\", \"professional_course\", \"high_school\", \"university\", \"basic\", \"basic\", \"basic\", \"university\", \"university\", \"basic\", \"professional_course\", \"professional_course\", \"university\", \"university\", \"high_school\", \"basic\", \"professional_course\", \"basic\", \"university\", \"basic\", \"basic\", \"university\", \"basic\", \"basic\", \"university\", \"high_school\", \"unknown\", \"university\", \"basic\", \"university\", \"professional_course\", \"basic\", \"unknown\", \"high_school\", \"university\", \"university\", \"basic\", \"basic\", \"basic\", \"professional_course\", \"professional_course\", \"unknown\", \"high_school\", \"basic\", \"university\", \"university\", \"professional_course\", \"basic\", \"basic\", \"basic\", \"university\", \"professional_course\", \"unknown\", \"high_school\", \"high_school\", \"basic\", \"university\", \"professional_course\", \"basic\", \"university\", \"basic\", \"university\", \"high_school\", \"basic\", \"high_school\", \"university\", \"high_school\", \"professional_course\", \"university\", \"basic\", \"basic\", \"high_school\", \"basic\", \"basic\", \"basic\", \"university\", \"basic\", \"unknown\", \"basic\", \"basic\", \"university\", \"high_school\", \"unknown\", \"professional_course\", \"basic\", \"university\", \"university\", \"basic\", \"university\", \"unknown\", \"university\", \"high_school\", \"high_school\", \"high_school\", \"basic\", \"basic\", \"basic\", \"high_school\", \"high_school\", \"university\", \"professional_course\", \"professional_course\", \"professional_course\", \"basic\", \"high_school\", \"basic\", \"basic\", \"basic\", \"high_school\", \"university\", \"high_school\", \"basic\", \"basic\", \"university\", \"basic\", \"high_school\", \"basic\", \"basic\", \"professional_course\", \"professional_course\", \"university\", \"basic\", \"professional_course\", \"unknown\", \"high_school\", \"high_school\", \"basic\", \"basic\", \"basic\", \"high_school\", \"high_school\", \"high_school\", \"basic\", \"basic\", \"high_school\", \"high_school\", \"high_school\", \"university\", \"high_school\", \"university\", \"university\", \"high_school\", \"basic\", \"professional_course\", \"basic\", \"university\", \"university\", \"university\", \"basic\", \"high_school\", \"high_school\", \"unknown\", \"basic\", \"university\", \"unknown\", \"basic\", \"university\", \"basic\", \"basic\", \"professional_course\", \"basic\", \"basic\", \"basic\", \"university\", \"high_school\", \"high_school\", \"university\", \"high_school\", \"unknown\", \"high_school\", \"basic\", \"university\", \"university\", \"university\", \"basic\", \"high_school\", \"university\", \"high_school\", \"university\", \"basic\", \"basic\", \"professional_course\", \"unknown\", \"high_school\", \"high_school\", \"university\", \"high_school\", \"professional_course\", \"university\", \"university\", \"professional_course\", \"basic\", \"professional_course\", \"basic\", \"university\", \"high_school\", \"basic\", \"high_school\", \"high_school\", \"professional_course\", \"basic\", \"high_school\", \"high_school\", \"high_school\", \"basic\", \"high_school\", \"university\", \"university\", \"basic\", \"university\", \"unknown\", \"university\", \"basic\", \"basic\", \"basic\", \"professional_course\", \"basic\", \"basic\", \"high_school\", \"university\", \"basic\", \"high_school\", \"high_school\", \"basic\", \"basic\", \"basic\", \"high_school\", \"university\", \"high_school\", \"basic\", \"university\", \"high_school\", \"high_school\", \"university\", \"basic\", \"high_school\", \"basic\", \"university\", \"basic\", \"basic\", \"high_school\", \"unknown\", \"high_school\", \"basic\", \"basic\", \"university\", \"high_school\", \"basic\", \"basic\", \"basic\", \"university\", \"basic\", \"university\", \"basic\", \"university\", \"high_school\", \"basic\", \"basic\", \"university\", \"basic\", \"university\", \"basic\", \"university\", \"basic\", \"professional_course\", \"high_school\", \"professional_course\", \"basic\", \"basic\", \"high_school\", \"high_school\", \"high_school\", \"university\", \"basic\", \"basic\", \"basic\", \"university\", \"basic\", \"professional_course\", \"university\", \"basic\", \"university\", \"professional_course\", \"basic\", \"university\", \"high_school\", \"high_school\", \"basic\", \"basic\", \"high_school\", \"high_school\", \"professional_course\", \"university\", \"high_school\", \"high_school\", \"basic\", \"professional_course\", \"high_school\", \"basic\", \"basic\", \"basic\", \"university\", \"high_school\", \"unknown\", \"high_school\", \"basic\", \"basic\", \"high_school\", \"unknown\", \"basic\", \"professional_course\", \"basic\", \"university\", \"unknown\", \"basic\", \"basic\", \"university\", \"university\", \"basic\", \"professional_course\", \"high_school\", \"unknown\", \"high_school\", \"basic\", \"university\", \"high_school\", \"unknown\", \"basic\", \"basic\", \"unknown\", \"basic\", \"university\", \"high_school\", \"basic\", \"unknown\", \"university\", \"professional_course\", \"professional_course\", \"basic\", \"basic\", \"basic\", \"university\", \"high_school\", \"unknown\", \"high_school\", \"high_school\", \"basic\", \"basic\", \"high_school\", \"university\", \"basic\", \"professional_course\", \"basic\", \"basic\", \"university\", \"high_school\", \"high_school\", \"basic\", \"basic\", \"high_school\", \"high_school\", \"basic\", \"basic\", \"high_school\", \"university\", \"basic\", \"basic\", \"university\", \"high_school\", \"university\", \"basic\", \"high_school\", \"high_school\", \"high_school\", \"university\", \"university\", \"university\", \"high_school\", \"professional_course\", \"high_school\", \"high_school\", \"basic\", \"basic\", \"basic\", \"basic\", \"university\", \"basic\", \"university\", \"high_school\", \"basic\", \"university\", \"basic\", \"professional_course\", \"high_school\", \"university\", \"high_school\", \"professional_course\", \"university\", \"basic\", \"basic\", \"university\", \"university\", \"basic\", \"basic\", \"high_school\", \"university\", \"basic\", \"university\", \"unknown\", \"high_school\", \"university\", \"basic\", \"university\", \"university\", \"university\", \"university\", \"university\", \"high_school\", \"high_school\", \"professional_course\", \"professional_course\", \"high_school\", \"basic\", \"university\", \"basic\", \"basic\", \"high_school\", \"university\", \"university\", \"high_school\", \"high_school\", \"university\", \"high_school\", \"university\", \"professional_course\", \"basic\", \"university\", \"high_school\", \"high_school\", \"university\", \"university\", \"professional_course\", \"basic\", \"high_school\", \"university\", \"basic\", \"high_school\", \"professional_course\", \"high_school\", \"university\", \"basic\", \"university\", \"basic\", \"university\", \"high_school\", \"university\", \"professional_course\", \"university\", \"high_school\", \"professional_course\", \"university\", \"basic\", \"university\", \"high_school\", \"university\", \"high_school\", \"high_school\", \"high_school\", \"unknown\", \"high_school\", \"university\", \"university\", \"basic\", \"high_school\", \"unknown\", \"high_school\", \"university\", \"basic\", \"high_school\", \"university\", \"high_school\", \"university\", \"high_school\", \"basic\", \"university\", \"high_school\", \"high_school\", \"basic\", \"high_school\", \"basic\", \"high_school\", \"university\", \"basic\", \"university\", \"basic\", \"high_school\", \"high_school\", \"basic\", \"basic\", \"high_school\", \"professional_course\", \"university\", \"basic\", \"high_school\", \"university\", \"university\", \"professional_course\", \"high_school\", \"high_school\", \"basic\", \"high_school\", \"university\", \"unknown\", \"basic\", \"university\", \"basic\", \"high_school\", \"university\", \"unknown\", \"basic\", \"university\", \"university\", \"professional_course\", \"university\", \"professional_course\", \"basic\", \"high_school\", \"university\", \"high_school\", \"university\", \"basic\", \"high_school\", \"university\", \"university\", \"university\", \"high_school\", \"university\", \"basic\", \"university\", \"university\", \"high_school\", \"basic\", \"professional_course\", \"basic\", \"professional_course\", \"basic\", \"university\", \"professional_course\", \"basic\", \"basic\", \"basic\", \"basic\", \"university\", \"basic\", \"university\", \"basic\", \"university\", \"high_school\", \"high_school\", \"basic\", \"high_school\", \"basic\", \"university\", \"high_school\", \"university\", \"basic\", \"high_school\", \"university\", \"professional_course\", \"basic\", \"basic\", \"unknown\", \"university\", \"university\", \"basic\", \"basic\", \"basic\", \"basic\", \"basic\", \"high_school\", \"university\", \"basic\", \"professional_course\", \"basic\", \"high_school\", \"high_school\", \"university\", \"high_school\", \"high_school\", \"high_school\", \"unknown\", \"basic\", \"professional_course\", \"professional_course\", \"high_school\", \"university\", \"university\", \"university\", \"high_school\", \"university\", \"high_school\", \"professional_course\", \"basic\", \"high_school\", \"university\", \"unknown\", \"professional_course\", \"high_school\", \"university\", \"high_school\", \"professional_course\", \"basic\", \"university\", \"high_school\", \"professional_course\", \"professional_course\", \"high_school\", \"university\", \"university\", \"unknown\", \"high_school\", \"professional_course\", \"basic\", \"high_school\", \"university\", \"university\", \"university\", \"high_school\", \"basic\", \"basic\", \"university\", \"basic\", \"professional_course\", \"basic\", \"professional_course\", \"high_school\", \"high_school\", \"basic\", \"professional_course\", \"university\", \"basic\", \"basic\", \"basic\", \"university\", \"basic\", \"high_school\", \"university\", \"university\", \"high_school\", \"high_school\", \"basic\", \"high_school\", \"basic\", \"high_school\", \"basic\", \"professional_course\", \"high_school\", \"university\", \"professional_course\", \"basic\", \"university\", \"university\", \"basic\", \"professional_course\", \"high_school\", \"high_school\", \"university\", \"basic\", \"high_school\", \"high_school\", \"unknown\", \"professional_course\", \"university\", \"professional_course\", \"basic\", \"basic\", \"high_school\", \"university\", \"unknown\", \"university\", \"professional_course\", \"high_school\", \"university\", \"university\", \"university\", \"basic\", \"university\", \"high_school\", \"university\", \"university\", \"university\", \"high_school\", \"high_school\", \"basic\", \"high_school\", \"professional_course\", \"basic\", \"unknown\", \"university\", \"university\", \"basic\", \"university\", \"high_school\", \"university\", \"professional_course\", \"professional_course\", \"professional_course\", \"university\", \"basic\", \"high_school\", \"university\", \"basic\", \"professional_course\", \"university\", \"basic\", \"high_school\", \"basic\", \"unknown\", \"basic\", \"high_school\", \"university\", \"basic\", \"basic\", \"high_school\", \"professional_course\", \"unknown\", \"basic\", \"university\", \"university\", \"university\", \"basic\", \"basic\", \"high_school\", \"unknown\", \"basic\", \"basic\", \"basic\", \"professional_course\", \"basic\", \"basic\", \"professional_course\", \"university\", \"professional_course\", \"basic\", \"university\", \"high_school\", \"unknown\", \"professional_course\", \"university\", \"basic\", \"basic\", \"university\", \"basic\", \"university\", \"professional_course\", \"university\", \"high_school\", \"basic\", \"basic\", \"unknown\", \"professional_course\", \"basic\", \"basic\", \"basic\", \"university\", \"professional_course\", \"high_school\", \"university\", \"high_school\", \"university\", \"professional_course\", \"university\", \"professional_course\", \"unknown\", \"high_school\", \"high_school\", \"professional_course\", \"university\", \"basic\", \"university\", \"high_school\", \"professional_course\", \"professional_course\", \"basic\", \"professional_course\", \"unknown\", \"high_school\", \"basic\", \"high_school\", \"professional_course\", \"university\", \"basic\", \"university\", \"basic\", \"high_school\", \"basic\", \"university\", \"university\", \"university\", \"professional_course\", \"high_school\", \"professional_course\", \"basic\", \"high_school\", \"professional_course\", \"university\", \"high_school\", \"basic\", \"university\", \"high_school\", \"university\", \"high_school\", \"basic\", \"basic\", \"basic\", \"basic\", \"university\", \"university\", \"professional_course\", \"basic\", \"basic\", \"university\", \"high_school\", \"unknown\", \"high_school\", \"basic\", \"basic\", \"high_school\", \"basic\", \"high_school\", \"high_school\", \"university\", \"university\", \"university\", \"basic\", \"basic\", \"professional_course\", \"high_school\", \"university\", \"basic\", \"university\", \"basic\", \"university\", \"university\", \"basic\", \"professional_course\", \"professional_course\", \"high_school\", \"basic\", \"high_school\", \"basic\", \"basic\", \"university\", \"university\", \"university\", \"high_school\", \"professional_course\", \"university\", \"basic\", \"university\", \"basic\", \"high_school\", \"professional_course\", \"high_school\", \"basic\", \"high_school\", \"unknown\", \"university\", \"high_school\", \"university\", \"high_school\", \"university\", \"high_school\", \"professional_course\", \"unknown\", \"basic\", \"university\", \"university\", \"professional_course\", \"basic\", \"professional_course\", \"professional_course\", \"high_school\", \"high_school\", \"high_school\", \"basic\", \"basic\", \"high_school\", \"basic\", \"basic\", \"basic\", \"high_school\", \"university\", \"high_school\", \"university\", \"university\", \"high_school\", \"basic\", \"high_school\", \"university\", \"high_school\", \"basic\", \"high_school\", \"high_school\", \"professional_course\", \"basic\", \"basic\", \"basic\", \"basic\", \"basic\", \"basic\", \"professional_course\", \"university\", \"basic\", \"university\", \"high_school\", \"high_school\", \"university\", \"basic\", \"high_school\", \"university\", \"high_school\", \"unknown\", \"unknown\", \"basic\", \"university\", \"university\", \"high_school\", \"university\", \"basic\", \"university\", \"high_school\", \"basic\", \"basic\", \"high_school\", \"university\", \"university\", \"basic\", \"high_school\", \"high_school\", \"high_school\", \"unknown\", \"unknown\", \"basic\", \"university\", \"basic\", \"basic\", \"university\", \"university\", \"high_school\", \"university\", \"basic\", \"high_school\", \"university\", \"university\", \"university\", \"high_school\", \"high_school\", \"basic\", \"high_school\", \"basic\", \"basic\", \"basic\", \"professional_course\", \"university\", \"basic\", \"university\", \"professional_course\", \"professional_course\", \"basic\", \"university\", \"basic\", \"unknown\", \"professional_course\", \"high_school\", \"high_school\", \"university\", \"high_school\", \"basic\", \"basic\", \"professional_course\", \"university\", \"high_school\", \"high_school\", \"university\", \"professional_course\", \"professional_course\", \"university\", \"professional_course\", \"professional_course\", \"university\", \"high_school\", \"professional_course\", \"basic\", \"university\", \"basic\", \"high_school\", \"university\", \"professional_course\", \"university\", \"university\", \"basic\", \"university\", \"basic\", \"basic\", \"university\", \"university\", \"basic\", \"unknown\", \"basic\", \"basic\", \"professional_course\", \"professional_course\", \"high_school\", \"professional_course\", \"university\", \"high_school\", \"high_school\", \"high_school\", \"university\", \"basic\", \"high_school\", \"university\", \"basic\", \"high_school\", \"professional_course\", \"basic\", \"basic\", \"professional_course\", \"high_school\", \"high_school\", \"professional_course\", \"university\", \"university\", \"high_school\", \"professional_course\", \"high_school\", \"basic\", \"high_school\", \"unknown\", \"professional_course\", \"basic\", \"university\", \"high_school\", \"basic\", \"high_school\", \"university\", \"high_school\", \"professional_course\", \"unknown\", \"professional_course\", \"high_school\", \"university\", \"basic\", \"professional_course\", \"university\", \"university\", \"university\", \"high_school\", \"high_school\", \"high_school\", \"basic\", \"university\", \"high_school\", \"basic\", \"basic\", \"basic\", \"professional_course\", \"basic\", \"university\", \"professional_course\", \"high_school\", \"professional_course\", \"basic\", \"professional_course\", \"high_school\", \"university\", \"university\", \"high_school\", \"university\", \"university\", \"high_school\", \"professional_course\", \"basic\", \"university\", \"high_school\", \"university\", \"high_school\", \"university\", \"basic\", \"high_school\", \"basic\", \"university\", \"high_school\", \"professional_course\", \"basic\", \"high_school\", \"basic\", \"university\", \"university\", \"university\", \"basic\", \"high_school\", \"university\", \"high_school\", \"basic\", \"university\", \"university\", \"high_school\", \"basic\", \"basic\", \"professional_course\", \"basic\", \"high_school\", \"basic\", \"high_school\", \"professional_course\", \"basic\", \"basic\", \"university\", \"university\", \"university\", \"professional_course\", \"high_school\", \"high_school\", \"basic\", \"basic\", \"professional_course\", \"university\", \"basic\", \"university\", \"basic\", \"basic\", \"university\", \"high_school\", \"basic\", \"high_school\", \"university\", \"university\", \"university\", \"basic\", \"university\", \"high_school\", \"high_school\", \"university\", \"basic\", \"high_school\", \"basic\", \"university\", \"basic\", \"high_school\", \"high_school\", \"basic\", \"university\", \"high_school\", \"professional_course\", \"high_school\", \"university\", \"university\", \"university\", \"university\", \"basic\", \"professional_course\", \"basic\", \"professional_course\", \"university\", \"basic\", \"basic\", \"professional_course\", \"university\", \"university\", \"basic\", \"basic\", \"university\", \"high_school\", \"university\", \"university\", \"university\", \"university\", \"university\", \"high_school\", \"university\", \"professional_course\", \"university\", \"basic\", \"university\", \"professional_course\", \"high_school\", \"basic\", \"basic\", \"basic\", \"university\", \"basic\", \"university\", \"university\", \"high_school\", \"university\", \"high_school\", \"basic\", \"university\", \"professional_course\", \"university\", \"basic\", \"high_school\", \"high_school\", \"university\", \"basic\", \"basic\", \"professional_course\", \"university\", \"basic\", \"professional_course\", \"high_school\", \"professional_course\", \"professional_course\", \"university\", \"university\", \"professional_course\", \"basic\", \"university\", \"basic\", \"basic\", \"university\", \"university\", \"high_school\", \"high_school\", \"university\", \"university\", \"professional_course\", \"university\", \"high_school\", \"university\", \"basic\", \"university\", \"university\", \"university\", \"university\", \"university\", \"basic\", \"university\", \"university\", \"professional_course\", \"university\", \"unknown\", \"basic\", \"university\", \"basic\", \"high_school\", \"unknown\", \"university\", \"high_school\", \"university\", \"basic\", \"basic\", \"university\", \"basic\", \"basic\", \"basic\", \"high_school\", \"unknown\", \"unknown\", \"university\", \"professional_course\", \"university\", \"basic\", \"professional_course\", \"professional_course\", \"high_school\", \"basic\", \"professional_course\", \"basic\", \"university\", \"basic\", \"university\", \"university\", \"basic\", \"university\", \"basic\", \"basic\", \"professional_course\", \"high_school\", \"basic\", \"university\", \"basic\", \"basic\", \"university\", \"unknown\", \"professional_course\", \"basic\", \"high_school\", \"basic\", \"high_school\", \"professional_course\", \"university\", \"professional_course\", \"basic\", \"high_school\", \"professional_course\", \"university\", \"basic\", \"university\", \"university\", \"basic\", \"high_school\", \"basic\", \"basic\", \"university\", \"professional_course\", \"high_school\", \"university\", \"basic\", \"basic\", \"basic\", \"professional_course\", \"basic\", \"high_school\", \"university\", \"high_school\", \"university\", \"basic\", \"basic\", \"professional_course\", \"high_school\", \"basic\", \"university\", \"high_school\", \"basic\", \"university\", \"basic\", \"university\", \"basic\", \"basic\", \"high_school\", \"professional_course\", \"university\", \"high_school\", \"high_school\", \"high_school\", \"university\", \"basic\", \"university\", \"basic\", \"university\", \"university\", \"university\", \"university\", \"high_school\", \"university\", \"university\", \"professional_course\", \"basic\", \"basic\", \"university\", \"basic\", \"basic\", \"university\", \"unknown\", \"university\", \"basic\", \"basic\", \"university\", \"basic\", \"high_school\", \"university\", \"basic\", \"basic\", \"high_school\", \"university\", \"unknown\", \"basic\", \"university\", \"unknown\", \"university\", \"basic\", \"basic\", \"high_school\", \"basic\", \"basic\", \"university\", \"basic\", \"high_school\", \"basic\", \"university\", \"basic\", \"professional_course\", \"high_school\", \"university\", \"professional_course\", \"university\", \"high_school\", \"university\", \"university\", \"basic\", \"basic\", \"basic\", \"professional_course\", \"university\", \"basic\", \"unknown\", \"professional_course\", \"high_school\", \"university\", \"high_school\", \"university\", \"university\", \"basic\", \"professional_course\", \"professional_course\", \"basic\", \"basic\", \"basic\", \"high_school\", \"professional_course\", \"high_school\", \"high_school\", \"high_school\", \"university\", \"basic\", \"university\", \"high_school\", \"university\", \"university\", \"basic\", \"high_school\", \"university\", \"basic\", \"university\", \"basic\", \"basic\", \"university\", \"basic\", \"professional_course\", \"professional_course\", \"university\", \"basic\", \"university\", \"basic\", \"high_school\", \"university\", \"basic\", \"university\", \"university\", \"basic\", \"basic\", \"high_school\", \"basic\", \"professional_course\", \"university\", \"high_school\", \"basic\", \"professional_course\", \"high_school\", \"basic\", \"high_school\", \"unknown\", \"university\", \"unknown\", \"basic\", \"basic\", \"high_school\", \"basic\", \"university\", \"university\", \"university\", \"high_school\", \"basic\", \"high_school\", \"unknown\", \"professional_course\", \"basic\", \"basic\", \"basic\", \"high_school\", \"university\", \"professional_course\", \"basic\", \"basic\", \"university\", \"professional_course\", \"professional_course\", \"university\", \"professional_course\", \"professional_course\", \"university\", \"university\", \"professional_course\", \"university\", \"high_school\", \"professional_course\", \"high_school\", \"unknown\", \"basic\", \"professional_course\", \"high_school\", \"high_school\", \"high_school\", \"basic\", \"basic\", \"university\", \"high_school\", \"high_school\", \"high_school\", \"high_school\", \"professional_course\", \"high_school\", \"university\", \"professional_course\", \"basic\", \"high_school\", \"high_school\", \"high_school\", \"university\", \"high_school\", \"professional_course\", \"professional_course\", \"university\", \"high_school\", \"university\", \"basic\", \"university\", \"basic\", \"basic\", \"high_school\", \"basic\", \"university\", \"university\", \"basic\", \"university\", \"professional_course\", \"university\", \"high_school\", \"basic\", \"basic\", \"university\", \"basic\", \"professional_course\", \"professional_course\", \"high_school\", \"basic\", \"high_school\", \"university\", \"university\", \"university\", \"high_school\", \"basic\", \"high_school\", \"university\", \"university\", \"professional_course\", \"basic\", \"university\", \"high_school\", \"unknown\", \"university\", \"high_school\", \"high_school\", \"high_school\", \"university\", \"professional_course\", \"university\", \"university\", \"university\", \"university\", \"basic\", \"high_school\", \"basic\", \"professional_course\", \"high_school\", \"university\", \"professional_course\", \"basic\", \"unknown\", \"university\", \"basic\", \"basic\", \"university\", \"high_school\", \"university\", \"unknown\", \"basic\", \"basic\", \"basic\", \"basic\", \"basic\", \"basic\", \"basic\", \"university\", \"basic\", \"unknown\", \"professional_course\", \"professional_course\", \"professional_course\", \"basic\", \"basic\", \"basic\", \"high_school\", \"university\", \"university\", \"university\", \"professional_course\", \"university\", \"professional_course\", \"professional_course\", \"university\", \"basic\", \"basic\", \"high_school\", \"basic\", \"basic\", \"high_school\", \"high_school\", \"basic\", \"university\", \"unknown\", \"basic\", \"university\", \"professional_course\", \"university\", \"university\", \"high_school\", \"university\", \"professional_course\", \"high_school\", \"high_school\", \"professional_course\", \"high_school\", \"university\", \"basic\", \"university\", \"high_school\", \"basic\", \"unknown\", \"high_school\", \"high_school\", \"university\", \"university\", \"high_school\", \"basic\", \"university\", \"basic\", \"university\", \"high_school\", \"basic\", \"professional_course\", \"basic\", \"high_school\", \"professional_course\", \"basic\", \"university\", \"professional_course\", \"university\", \"professional_course\", \"university\", \"high_school\", \"high_school\", \"high_school\", \"university\", \"basic\", \"basic\", \"university\", \"basic\", \"university\", \"basic\", \"basic\", \"professional_course\", \"basic\", \"professional_course\", \"high_school\", \"high_school\", \"high_school\", \"university\", \"high_school\", \"high_school\", \"university\", \"basic\", \"professional_course\", \"basic\", \"basic\", \"basic\", \"basic\", \"university\", \"university\", \"basic\", \"high_school\", \"university\", \"basic\", \"basic\", \"high_school\", \"professional_course\", \"high_school\", \"basic\", \"basic\", \"high_school\", \"university\", \"basic\", \"professional_course\", \"university\", \"university\", \"high_school\", \"university\", \"university\", \"high_school\", \"basic\", \"high_school\", \"unknown\", \"university\", \"basic\", \"university\", \"university\", \"basic\", \"high_school\", \"university\", \"professional_course\", \"high_school\", \"basic\", \"basic\", \"professional_course\", \"basic\", \"basic\", \"high_school\", \"professional_course\", \"university\", \"university\", \"university\", \"high_school\", \"university\", \"high_school\", \"high_school\", \"basic\", \"high_school\", \"basic\", \"high_school\", \"high_school\", \"unknown\", \"university\", \"high_school\", \"university\", \"university\", \"basic\", \"basic\", \"professional_course\", \"university\", \"basic\", \"university\", \"professional_course\", \"basic\", \"basic\", \"professional_course\", \"high_school\", \"professional_course\", \"university\", \"high_school\", \"basic\", \"university\", \"unknown\", \"high_school\", \"basic\", \"professional_course\", \"university\", \"high_school\", \"university\", \"university\", \"university\", \"professional_course\", \"high_school\", \"university\", \"basic\", \"basic\", \"basic\", \"basic\", \"unknown\", \"high_school\", \"professional_course\", \"basic\", \"professional_course\", \"high_school\", \"basic\", \"university\", \"professional_course\", \"unknown\", \"high_school\", \"university\", \"professional_course\", \"basic\", \"university\", \"professional_course\", \"university\", \"professional_course\", \"basic\", \"basic\", \"university\", \"university\", \"university\", \"basic\", \"university\", \"basic\", \"high_school\", \"basic\", \"basic\", \"unknown\", \"high_school\", \"university\", \"basic\", \"basic\", \"high_school\", \"basic\", \"professional_course\", \"professional_course\", \"basic\", \"university\", \"basic\", \"high_school\", \"professional_course\", \"university\", \"basic\", \"high_school\", \"basic\", \"university\", \"basic\", \"university\", \"university\", \"high_school\", \"university\", \"basic\", \"high_school\", \"high_school\", \"university\", \"high_school\", \"high_school\", \"basic\", \"professional_course\", \"professional_course\", \"basic\", \"university\", \"high_school\", \"professional_course\", \"professional_course\", \"professional_course\", \"university\", \"high_school\", \"high_school\", \"basic\", \"basic\", \"university\", \"professional_course\", \"basic\", \"high_school\", \"high_school\", \"basic\", \"high_school\", \"high_school\", \"basic\", \"high_school\", \"unknown\", \"high_school\", \"professional_course\", \"basic\", \"high_school\", \"basic\", \"basic\", \"high_school\", \"high_school\", \"university\", \"professional_course\", \"university\", \"university\", \"basic\", \"professional_course\", \"basic\", \"basic\", \"university\", \"basic\", \"high_school\", \"high_school\", \"basic\", \"unknown\", \"basic\", \"high_school\", \"professional_course\", \"basic\", \"professional_course\", \"high_school\", \"basic\", \"unknown\", \"university\", \"university\", \"high_school\", \"basic\", \"university\", \"basic\", \"high_school\", \"professional_course\", \"university\", \"professional_course\", \"university\", \"basic\", \"university\", \"high_school\", \"basic\", \"professional_course\", \"professional_course\", \"basic\", \"university\", \"professional_course\", \"university\", \"university\", \"professional_course\", \"professional_course\", \"high_school\", \"high_school\", \"professional_course\", \"high_school\", \"university\", \"basic\", \"university\", \"basic\", \"high_school\", \"high_school\", \"high_school\", \"university\", \"basic\", \"high_school\", \"university\", \"professional_course\", \"university\", \"university\", \"professional_course\", \"professional_course\", \"basic\", \"basic\", \"high_school\", \"professional_course\", \"university\", \"basic\", \"university\", \"university\", \"university\", \"basic\", \"university\", \"high_school\", \"basic\", \"high_school\", \"university\", \"professional_course\", \"high_school\", \"university\", \"high_school\", \"university\", \"university\", \"basic\", \"basic\", \"basic\", \"unknown\", \"unknown\", \"university\", \"university\", \"basic\", \"professional_course\", \"high_school\", \"basic\", \"university\", \"university\", \"university\", \"high_school\", \"professional_course\", \"professional_course\", \"basic\", \"basic\", \"basic\", \"basic\", \"university\", \"basic\", \"basic\", \"unknown\", \"high_school\", \"basic\", \"basic\", \"high_school\", \"high_school\", \"basic\", \"high_school\", \"university\", \"basic\", \"university\", \"basic\", \"basic\", \"basic\", \"high_school\", \"high_school\", \"basic\", \"basic\", \"high_school\", \"university\", \"high_school\", \"professional_course\", \"university\", \"university\", \"university\", \"university\", \"basic\", \"professional_course\", \"professional_course\", \"high_school\", \"basic\", \"university\", \"basic\", \"university\", \"university\", \"university\", \"university\", \"basic\", \"basic\", \"basic\", \"university\", \"basic\", \"basic\", \"university\", \"basic\", \"university\", \"basic\", \"high_school\", \"basic\", \"university\", \"professional_course\", \"basic\", \"basic\", \"professional_course\", \"university\", \"university\", \"high_school\", \"professional_course\", \"high_school\", \"high_school\", \"university\", \"basic\", \"high_school\", \"university\", \"high_school\", \"university\", \"university\", \"basic\", \"high_school\", \"basic\", \"basic\", \"basic\", \"university\", \"basic\", \"university\", \"professional_course\", \"university\", \"basic\", \"high_school\", \"high_school\", \"basic\", \"basic\", \"university\", \"basic\", \"university\", \"high_school\", \"professional_course\", \"professional_course\", \"high_school\", \"university\", \"high_school\", \"university\", \"basic\", \"basic\", \"professional_course\", \"basic\", \"university\", \"basic\", \"high_school\", \"university\", \"professional_course\", \"basic\", \"high_school\", \"university\", \"basic\", \"professional_course\", \"university\", \"professional_course\", \"university\", \"basic\", \"high_school\", \"basic\", \"basic\", \"university\", \"professional_course\", \"basic\", \"basic\", \"university\", \"high_school\", \"basic\", \"university\", \"basic\", \"university\", \"unknown\", \"university\", \"university\", \"basic\", \"high_school\", \"basic\", \"university\", \"high_school\", \"university\", \"university\", \"professional_course\", \"basic\", \"high_school\", \"university\", \"university\", \"basic\", \"university\", \"professional_course\", \"university\", \"basic\", \"professional_course\", \"basic\", \"university\", \"basic\", \"basic\", \"high_school\", \"high_school\", \"basic\", \"university\", \"high_school\", \"basic\", \"basic\", \"high_school\", \"basic\", \"high_school\", \"basic\", \"high_school\", \"basic\", \"high_school\", \"university\", \"high_school\", \"basic\", \"university\", \"basic\", \"university\", \"university\", \"basic\", \"university\", \"basic\", \"high_school\", \"high_school\", \"professional_course\", \"high_school\", \"basic\", \"basic\", \"professional_course\", \"university\", \"high_school\", \"university\", \"high_school\", \"university\", \"high_school\", \"basic\", \"basic\", \"basic\", \"high_school\", \"high_school\", \"high_school\", \"high_school\", \"basic\", \"basic\", \"basic\", \"unknown\", \"high_school\", \"university\", \"university\", \"university\", \"university\", \"university\", \"basic\", \"university\", \"university\", \"high_school\", \"high_school\", \"basic\", \"basic\", \"high_school\", \"basic\", \"high_school\", \"basic\", \"professional_course\", \"professional_course\", \"university\", \"university\", \"basic\", \"high_school\", \"university\", \"high_school\", \"professional_course\", \"basic\", \"basic\", \"basic\", \"professional_course\", \"university\", \"high_school\", \"university\", \"university\", \"high_school\", \"high_school\", \"basic\", \"university\", \"university\", \"basic\", \"university\", \"university\", \"university\", \"university\", \"basic\", \"university\", \"basic\", \"professional_course\", \"university\", \"basic\", \"basic\", \"professional_course\", \"university\", \"basic\", \"university\", \"high_school\", \"university\", \"university\", \"high_school\", \"high_school\", \"university\", \"basic\", \"university\", \"basic\", \"professional_course\", \"basic\", \"basic\", \"basic\", \"university\", \"professional_course\", \"university\", \"professional_course\", \"high_school\", \"university\", \"basic\", \"professional_course\", \"professional_course\", \"basic\", \"professional_course\", \"university\", \"high_school\", \"university\", \"university\", \"basic\", \"university\", \"high_school\", \"university\", \"university\", \"university\", \"university\", \"basic\", \"unknown\", \"high_school\", \"unknown\", \"high_school\", \"professional_course\", \"high_school\", \"university\", \"university\", \"unknown\", \"basic\", \"unknown\", \"basic\", \"high_school\", \"basic\", \"high_school\", \"basic\", \"university\", \"university\", \"university\", \"basic\", \"high_school\", \"university\", \"professional_course\", \"basic\", \"university\", \"unknown\", \"professional_course\", \"high_school\", \"university\", \"basic\", \"basic\", \"university\", \"basic\", \"unknown\", \"professional_course\", \"professional_course\", \"high_school\", \"basic\", \"high_school\", \"university\", \"university\", \"professional_course\", \"professional_course\", \"high_school\", \"professional_course\", \"professional_course\", \"university\", \"basic\", \"university\", \"university\", \"high_school\", \"high_school\", \"basic\", \"university\", \"high_school\", \"basic\", \"professional_course\", \"basic\", \"university\", \"high_school\", \"high_school\", \"university\", \"basic\", \"basic\", \"university\", \"basic\", \"professional_course\", \"high_school\", \"university\", \"basic\", \"basic\", \"high_school\", \"university\", \"basic\", \"university\", \"university\", \"basic\", \"high_school\", \"professional_course\", \"basic\", \"university\", \"basic\", \"basic\", \"professional_course\", \"basic\", \"basic\", \"high_school\", \"basic\", \"basic\", \"university\", \"basic\", \"high_school\", \"university\", \"university\", \"university\", \"university\", \"professional_course\", \"basic\", \"university\", \"professional_course\", \"university\", \"basic\", \"high_school\", \"university\", \"high_school\", \"basic\", \"basic\", \"university\", \"professional_course\", \"basic\", \"basic\", \"university\", \"basic\", \"unknown\", \"university\", \"university\", \"basic\", \"professional_course\", \"basic\", \"university\", \"professional_course\", \"professional_course\", \"high_school\", \"basic\", \"professional_course\", \"basic\", \"high_school\", \"basic\", \"basic\", \"basic\", \"university\", \"high_school\", \"high_school\", \"basic\", \"university\", \"high_school\", \"basic\", \"basic\", \"professional_course\", \"high_school\", \"high_school\", \"basic\", \"university\", \"professional_course\", \"basic\", \"professional_course\", \"professional_course\", \"basic\", \"high_school\", \"university\", \"professional_course\", \"university\", \"basic\", \"basic\", \"basic\", \"unknown\", \"professional_course\", \"basic\", \"university\", \"unknown\", \"high_school\", \"basic\", \"high_school\", \"university\", \"basic\", \"basic\", \"basic\", \"unknown\", \"basic\", \"university\", \"university\", \"basic\", \"basic\", \"professional_course\", \"professional_course\", \"high_school\", \"basic\", \"basic\", \"basic\", \"basic\", \"high_school\", \"high_school\", \"professional_course\", \"university\", \"basic\", \"professional_course\", \"professional_course\", \"basic\", \"university\", \"professional_course\", \"high_school\", \"university\", \"basic\", \"university\", \"basic\", \"professional_course\", \"university\", \"basic\", \"university\", \"basic\", \"high_school\", \"university\", \"basic\", \"basic\", \"basic\", \"university\", \"professional_course\", \"unknown\", \"university\", \"high_school\", \"university\", \"university\", \"basic\", \"university\", \"basic\", \"basic\", \"basic\", \"basic\", \"university\", \"professional_course\", \"university\", \"basic\", \"university\", \"high_school\", \"high_school\", \"basic\", \"university\", \"high_school\", \"university\", \"university\", \"basic\", \"university\", \"professional_course\", \"professional_course\", \"basic\", \"basic\", \"high_school\", \"professional_course\", \"high_school\", \"professional_course\", \"basic\", \"university\", \"university\", \"university\", \"basic\", \"university\", \"professional_course\", \"university\", \"university\", \"university\", \"high_school\", \"university\", \"professional_course\", \"professional_course\", \"university\", \"university\", \"basic\", \"university\", \"high_school\", \"university\", \"basic\", \"basic\", \"university\", \"university\", \"high_school\", \"unknown\", \"high_school\", \"university\", \"unknown\", \"high_school\", \"university\", \"basic\", \"high_school\", \"high_school\", \"basic\", \"professional_course\", \"high_school\", \"high_school\", \"professional_course\", \"high_school\", \"basic\", \"basic\", \"professional_course\", \"basic\", \"basic\", \"high_school\", \"high_school\", \"basic\", \"professional_course\", \"professional_course\", \"high_school\", \"high_school\", \"basic\", \"basic\", \"university\", \"high_school\", \"university\", \"university\", \"university\", \"basic\", \"basic\", \"high_school\", \"professional_course\", \"basic\", \"high_school\", \"university\", \"university\", \"basic\", \"basic\", \"university\", \"high_school\", \"high_school\", \"basic\", \"professional_course\", \"university\", \"basic\", \"high_school\", \"university\", \"university\", \"university\", \"university\", \"basic\", \"professional_course\", \"professional_course\", \"high_school\", \"professional_course\", \"professional_course\", \"university\", \"university\", \"high_school\", \"university\", \"basic\", \"university\", \"basic\", \"high_school\", \"professional_course\", \"basic\", \"basic\", \"basic\", \"basic\", \"basic\", \"university\", \"university\", \"university\", \"university\", \"high_school\", \"high_school\", \"basic\", \"high_school\", \"basic\", \"professional_course\", \"basic\", \"university\", \"high_school\", \"professional_course\", \"basic\", \"professional_course\", \"basic\", \"professional_course\", \"university\", \"unknown\", \"university\", \"high_school\", \"university\", \"professional_course\", \"basic\", \"high_school\", \"high_school\", \"basic\", \"university\", \"basic\", \"university\", \"basic\", \"high_school\", \"professional_course\", \"high_school\", \"high_school\", \"basic\", \"basic\", \"basic\", \"basic\", \"high_school\", \"university\", \"basic\", \"professional_course\", \"basic\", \"basic\", \"university\", \"university\", \"high_school\", \"high_school\", \"high_school\", \"professional_course\", \"basic\", \"professional_course\", \"university\", \"professional_course\", \"high_school\", \"basic\", \"basic\", \"high_school\", \"university\", \"university\", \"university\", \"high_school\", \"university\", \"university\", \"high_school\", \"high_school\", \"basic\", \"professional_course\", \"high_school\", \"basic\", \"high_school\", \"unknown\", \"basic\", \"unknown\", \"university\", \"university\", \"university\", \"basic\", \"university\", \"high_school\", \"university\", \"university\", \"professional_course\", \"basic\", \"basic\", \"university\", \"basic\", \"basic\", \"university\", \"university\", \"professional_course\", \"basic\", \"basic\", \"university\", \"university\", \"professional_course\", \"high_school\", \"high_school\", \"university\", \"basic\", \"high_school\", \"university\", \"university\", \"professional_course\", \"university\", \"university\", \"professional_course\", \"basic\", \"high_school\", \"university\", \"basic\", \"university\", \"basic\", \"basic\", \"university\", \"university\", \"basic\", \"high_school\", \"basic\", \"university\", \"high_school\", \"university\", \"high_school\", \"university\", \"university\", \"basic\", \"high_school\", \"unknown\", \"high_school\", \"university\", \"professional_course\", \"professional_course\", \"basic\", \"high_school\", \"basic\", \"basic\", \"basic\", \"high_school\", \"basic\", \"high_school\", \"professional_course\", \"professional_course\", \"university\", \"university\", \"basic\", \"university\", \"basic\", \"university\", \"university\", \"basic\", \"basic\", \"high_school\", \"high_school\", \"high_school\", \"high_school\", \"basic\", \"university\", \"professional_course\", \"professional_course\", \"basic\", \"illiterate\", \"university\", \"basic\", \"university\", \"high_school\", \"university\", \"professional_course\", \"basic\", \"university\", \"professional_course\", \"university\", \"university\", \"professional_course\", \"professional_course\", \"professional_course\", \"basic\", \"basic\", \"basic\", \"basic\", \"professional_course\", \"basic\", \"university\", \"basic\", \"basic\", \"basic\", \"professional_course\", \"university\", \"university\", \"professional_course\", \"unknown\", \"basic\", \"professional_course\", \"high_school\", \"university\", \"high_school\", \"basic\", \"professional_course\", \"university\", \"basic\", \"professional_course\", \"university\", \"university\", \"basic\", \"university\", \"university\", \"high_school\", \"basic\", \"university\", \"university\", \"university\", \"basic\", \"basic\", \"university\", \"university\", \"basic\", \"high_school\", \"university\", \"high_school\", \"high_school\", \"high_school\", \"high_school\", \"high_school\", \"university\", \"high_school\", \"basic\", \"high_school\", \"high_school\", \"high_school\", \"professional_course\", \"high_school\", \"university\", \"unknown\", \"university\", \"basic\", \"basic\", \"university\", \"university\", \"high_school\", \"university\", \"university\", \"university\", \"high_school\", \"high_school\", \"high_school\", \"professional_course\", \"basic\", \"basic\", \"high_school\", \"high_school\", \"university\", \"high_school\", \"unknown\", \"professional_course\", \"basic\", \"basic\", \"basic\", \"professional_course\", \"university\", \"basic\", \"university\", \"high_school\", \"basic\", \"basic\", \"basic\", \"basic\", \"university\", \"university\", \"basic\", \"high_school\", \"basic\", \"high_school\", \"high_school\", \"university\", \"professional_course\", \"basic\", \"professional_course\", \"university\", \"basic\", \"basic\", \"high_school\", \"university\", \"basic\", \"university\", \"basic\", \"university\", \"high_school\", \"basic\", \"basic\", \"university\", \"basic\", \"professional_course\", \"university\", \"university\", \"high_school\", \"basic\", \"high_school\", \"basic\", \"university\", \"basic\", \"university\", \"university\", \"university\", \"high_school\", \"basic\", \"professional_course\", \"university\", \"basic\", \"high_school\", \"high_school\", \"basic\", \"basic\", \"university\", \"high_school\", \"basic\", \"university\", \"high_school\", \"high_school\", \"university\", \"basic\", \"high_school\", \"professional_course\", \"basic\", \"basic\", \"university\", \"university\", \"high_school\", \"basic\", \"university\", \"professional_course\", \"university\", \"basic\", \"high_school\", \"high_school\", \"high_school\", \"high_school\"], \"xaxis\": \"x\", \"yaxis\": \"y\"}, {\"alignmentgroup\": \"True\", \"bingroup\": \"x\", \"hoverlabel\": {\"namelength\": 0}, \"hovertemplate\": \"y=yes<br>education=%{x}<br>count=%{y}\", \"legendgroup\": \"y=yes\", \"marker\": {\"color\": \"#EF553B\"}, \"name\": \"y=yes\", \"offsetgroup\": \"y=yes\", \"orientation\": \"v\", \"showlegend\": true, \"type\": \"histogram\", \"x\": [\"basic\", \"high_school\", \"professional_course\", \"university\", \"professional_course\", \"unknown\", \"basic\", \"professional_course\", \"high_school\", \"high_school\", \"basic\", \"university\", \"university\", \"basic\", \"university\", \"high_school\", \"basic\", \"professional_course\", \"basic\", \"university\", \"high_school\", \"unknown\", \"basic\", \"basic\", \"high_school\", \"basic\", \"university\", \"high_school\", \"professional_course\", \"professional_course\", \"basic\", \"professional_course\", \"university\", \"basic\", \"basic\", \"university\", \"basic\", \"high_school\", \"professional_course\", \"high_school\", \"high_school\", \"basic\", \"professional_course\", \"university\", \"professional_course\", \"basic\", \"unknown\", \"professional_course\", \"university\", \"basic\", \"high_school\", \"university\", \"unknown\", \"unknown\", \"university\", \"high_school\", \"basic\", \"professional_course\", \"university\", \"basic\", \"professional_course\", \"unknown\", \"university\", \"university\", \"professional_course\", \"university\", \"high_school\", \"high_school\", \"basic\", \"university\", \"high_school\", \"university\", \"university\", \"university\", \"high_school\", \"basic\", \"university\", \"unknown\", \"professional_course\", \"university\", \"basic\", \"high_school\", \"university\", \"basic\", \"high_school\", \"university\", \"university\", \"university\", \"high_school\", \"university\", \"basic\", \"university\", \"high_school\", \"unknown\", \"basic\", \"university\", \"high_school\", \"university\", \"basic\", \"university\", \"basic\", \"basic\", \"basic\", \"professional_course\", \"high_school\", \"basic\", \"university\", \"basic\", \"university\", \"university\", \"university\", \"high_school\", \"high_school\", \"high_school\", \"basic\", \"high_school\", \"basic\", \"university\", \"university\", \"high_school\", \"basic\", \"basic\", \"university\", \"high_school\", \"university\", \"university\", \"high_school\", \"basic\", \"university\", \"high_school\", \"university\", \"professional_course\", \"university\", \"high_school\", \"university\", \"university\", \"high_school\", \"university\", \"university\", \"professional_course\", \"university\", \"basic\", \"university\", \"university\", \"unknown\", \"basic\", \"basic\", \"basic\", \"basic\", \"basic\", \"high_school\", \"university\", \"basic\", \"high_school\", \"professional_course\", \"basic\", \"university\", \"basic\", \"high_school\", \"university\", \"high_school\", \"basic\", \"basic\", \"unknown\", \"university\", \"basic\", \"university\", \"high_school\", \"university\", \"university\", \"high_school\", \"university\", \"high_school\", \"basic\", \"university\", \"high_school\", \"professional_course\", \"university\", \"university\", \"unknown\", \"professional_course\", \"university\", \"basic\", \"university\", \"university\", \"unknown\", \"university\", \"university\", \"university\", \"basic\", \"high_school\", \"university\", \"university\", \"university\", \"professional_course\", \"professional_course\", \"university\", \"unknown\", \"university\", \"university\", \"basic\", \"university\", \"basic\", \"university\", \"university\", \"basic\", \"high_school\", \"high_school\", \"professional_course\", \"university\", \"professional_course\", \"professional_course\", \"basic\", \"basic\", \"high_school\", \"unknown\", \"basic\", \"university\", \"university\", \"high_school\", \"university\", \"basic\", \"university\", \"university\", \"professional_course\", \"university\", \"university\", \"basic\", \"university\", \"university\", \"professional_course\", \"high_school\", \"high_school\", \"high_school\", \"university\", \"high_school\", \"university\", \"basic\", \"unknown\", \"professional_course\", \"high_school\", \"high_school\", \"high_school\", \"university\", \"university\", \"university\", \"university\", \"university\", \"basic\", \"high_school\", \"high_school\", \"professional_course\", \"unknown\", \"basic\", \"professional_course\", \"university\", \"professional_course\", \"university\", \"university\", \"high_school\", \"university\", \"professional_course\", \"basic\", \"university\", \"basic\", \"professional_course\", \"unknown\", \"university\", \"high_school\", \"university\", \"basic\", \"university\", \"high_school\", \"high_school\", \"university\", \"high_school\", \"professional_course\", \"basic\", \"high_school\", \"university\", \"unknown\", \"university\", \"university\", \"university\", \"university\", \"high_school\", \"high_school\", \"high_school\", \"unknown\", \"university\", \"basic\", \"university\", \"high_school\", \"university\", \"university\", \"professional_course\", \"high_school\", \"unknown\", \"professional_course\", \"basic\", \"university\", \"basic\", \"professional_course\", \"unknown\", \"high_school\", \"basic\", \"basic\", \"university\", \"high_school\", \"basic\", \"professional_course\", \"university\", \"university\", \"university\", \"university\", \"university\", \"high_school\", \"professional_course\", \"university\", \"basic\", \"university\", \"unknown\", \"high_school\", \"basic\", \"university\", \"basic\", \"professional_course\", \"university\", \"professional_course\", \"high_school\", \"professional_course\", \"high_school\", \"professional_course\", \"high_school\", \"high_school\", \"professional_course\", \"basic\", \"basic\", \"university\", \"university\", \"basic\", \"university\", \"university\", \"high_school\", \"professional_course\", \"university\", \"basic\", \"basic\", \"high_school\", \"basic\", \"university\", \"high_school\", \"university\", \"professional_course\", \"professional_course\", \"university\", \"professional_course\", \"unknown\", \"university\", \"professional_course\", \"professional_course\", \"basic\", \"high_school\", \"unknown\", \"university\", \"university\", \"university\", \"basic\", \"basic\", \"high_school\", \"professional_course\", \"university\", \"high_school\", \"university\", \"basic\", \"university\", \"basic\", \"high_school\", \"university\", \"university\", \"high_school\", \"high_school\", \"high_school\", \"basic\", \"university\", \"high_school\", \"unknown\", \"university\", \"basic\", \"university\", \"university\", \"professional_course\", \"professional_course\", \"professional_course\", \"professional_course\", \"basic\", \"basic\", \"professional_course\", \"university\", \"university\", \"high_school\", \"university\", \"high_school\", \"professional_course\", \"university\", \"high_school\", \"professional_course\", \"basic\", \"basic\", \"university\", \"university\", \"high_school\", \"university\", \"high_school\", \"unknown\", \"high_school\", \"basic\", \"university\", \"university\", \"university\", \"professional_course\", \"high_school\", \"professional_course\", \"high_school\", \"university\", \"university\", \"basic\", \"professional_course\", \"high_school\", \"university\", \"basic\", \"university\", \"professional_course\", \"university\", \"basic\", \"university\", \"high_school\", \"basic\", \"professional_course\", \"high_school\", \"high_school\", \"university\", \"basic\", \"university\", \"high_school\", \"professional_course\", \"university\", \"basic\", \"university\", \"university\", \"university\"], \"xaxis\": \"x\", \"yaxis\": \"y\"}],\n",
              "                        {\"barmode\": \"group\", \"legend\": {\"tracegroupgap\": 0}, \"template\": {\"data\": {\"bar\": [{\"error_x\": {\"color\": \"#2a3f5f\"}, \"error_y\": {\"color\": \"#2a3f5f\"}, \"marker\": {\"line\": {\"color\": \"#E5ECF6\", \"width\": 0.5}}, \"type\": \"bar\"}], \"barpolar\": [{\"marker\": {\"line\": {\"color\": \"#E5ECF6\", \"width\": 0.5}}, \"type\": \"barpolar\"}], \"carpet\": [{\"aaxis\": {\"endlinecolor\": \"#2a3f5f\", \"gridcolor\": \"white\", \"linecolor\": \"white\", \"minorgridcolor\": \"white\", \"startlinecolor\": \"#2a3f5f\"}, \"baxis\": {\"endlinecolor\": \"#2a3f5f\", \"gridcolor\": \"white\", \"linecolor\": \"white\", \"minorgridcolor\": \"white\", \"startlinecolor\": \"#2a3f5f\"}, \"type\": \"carpet\"}], \"choropleth\": [{\"colorbar\": {\"outlinewidth\": 0, \"ticks\": \"\"}, \"type\": \"choropleth\"}], \"contour\": [{\"colorbar\": {\"outlinewidth\": 0, \"ticks\": \"\"}, \"colorscale\": [[0.0, \"#0d0887\"], [0.1111111111111111, \"#46039f\"], [0.2222222222222222, \"#7201a8\"], [0.3333333333333333, \"#9c179e\"], [0.4444444444444444, \"#bd3786\"], [0.5555555555555556, \"#d8576b\"], [0.6666666666666666, \"#ed7953\"], [0.7777777777777778, \"#fb9f3a\"], [0.8888888888888888, \"#fdca26\"], [1.0, \"#f0f921\"]], \"type\": \"contour\"}], \"contourcarpet\": [{\"colorbar\": {\"outlinewidth\": 0, \"ticks\": \"\"}, \"type\": \"contourcarpet\"}], \"heatmap\": [{\"colorbar\": {\"outlinewidth\": 0, \"ticks\": \"\"}, \"colorscale\": [[0.0, \"#0d0887\"], [0.1111111111111111, \"#46039f\"], [0.2222222222222222, \"#7201a8\"], [0.3333333333333333, \"#9c179e\"], [0.4444444444444444, \"#bd3786\"], [0.5555555555555556, \"#d8576b\"], [0.6666666666666666, \"#ed7953\"], [0.7777777777777778, \"#fb9f3a\"], [0.8888888888888888, \"#fdca26\"], [1.0, \"#f0f921\"]], \"type\": \"heatmap\"}], \"heatmapgl\": [{\"colorbar\": {\"outlinewidth\": 0, \"ticks\": \"\"}, \"colorscale\": [[0.0, \"#0d0887\"], [0.1111111111111111, \"#46039f\"], [0.2222222222222222, \"#7201a8\"], [0.3333333333333333, \"#9c179e\"], [0.4444444444444444, \"#bd3786\"], [0.5555555555555556, \"#d8576b\"], [0.6666666666666666, \"#ed7953\"], [0.7777777777777778, \"#fb9f3a\"], [0.8888888888888888, \"#fdca26\"], [1.0, \"#f0f921\"]], \"type\": \"heatmapgl\"}], \"histogram\": [{\"marker\": {\"colorbar\": {\"outlinewidth\": 0, \"ticks\": \"\"}}, \"type\": \"histogram\"}], \"histogram2d\": [{\"colorbar\": {\"outlinewidth\": 0, \"ticks\": \"\"}, \"colorscale\": [[0.0, \"#0d0887\"], [0.1111111111111111, \"#46039f\"], [0.2222222222222222, \"#7201a8\"], [0.3333333333333333, \"#9c179e\"], [0.4444444444444444, \"#bd3786\"], [0.5555555555555556, \"#d8576b\"], [0.6666666666666666, \"#ed7953\"], [0.7777777777777778, \"#fb9f3a\"], [0.8888888888888888, \"#fdca26\"], [1.0, \"#f0f921\"]], \"type\": \"histogram2d\"}], \"histogram2dcontour\": [{\"colorbar\": {\"outlinewidth\": 0, \"ticks\": \"\"}, \"colorscale\": [[0.0, \"#0d0887\"], [0.1111111111111111, \"#46039f\"], [0.2222222222222222, \"#7201a8\"], [0.3333333333333333, \"#9c179e\"], [0.4444444444444444, \"#bd3786\"], [0.5555555555555556, \"#d8576b\"], [0.6666666666666666, \"#ed7953\"], [0.7777777777777778, \"#fb9f3a\"], [0.8888888888888888, \"#fdca26\"], [1.0, \"#f0f921\"]], \"type\": \"histogram2dcontour\"}], \"mesh3d\": [{\"colorbar\": {\"outlinewidth\": 0, \"ticks\": \"\"}, \"type\": \"mesh3d\"}], \"parcoords\": [{\"line\": {\"colorbar\": {\"outlinewidth\": 0, \"ticks\": \"\"}}, \"type\": \"parcoords\"}], \"pie\": [{\"automargin\": true, \"type\": \"pie\"}], \"scatter\": [{\"marker\": {\"colorbar\": {\"outlinewidth\": 0, \"ticks\": \"\"}}, \"type\": \"scatter\"}], \"scatter3d\": [{\"line\": {\"colorbar\": {\"outlinewidth\": 0, \"ticks\": \"\"}}, \"marker\": {\"colorbar\": {\"outlinewidth\": 0, \"ticks\": \"\"}}, \"type\": \"scatter3d\"}], \"scattercarpet\": [{\"marker\": {\"colorbar\": {\"outlinewidth\": 0, \"ticks\": \"\"}}, \"type\": \"scattercarpet\"}], \"scattergeo\": [{\"marker\": {\"colorbar\": {\"outlinewidth\": 0, \"ticks\": \"\"}}, \"type\": \"scattergeo\"}], \"scattergl\": [{\"marker\": {\"colorbar\": {\"outlinewidth\": 0, \"ticks\": \"\"}}, \"type\": \"scattergl\"}], \"scattermapbox\": [{\"marker\": {\"colorbar\": {\"outlinewidth\": 0, \"ticks\": \"\"}}, \"type\": \"scattermapbox\"}], \"scatterpolar\": [{\"marker\": {\"colorbar\": {\"outlinewidth\": 0, \"ticks\": \"\"}}, \"type\": \"scatterpolar\"}], \"scatterpolargl\": [{\"marker\": {\"colorbar\": {\"outlinewidth\": 0, \"ticks\": \"\"}}, \"type\": \"scatterpolargl\"}], \"scatterternary\": [{\"marker\": {\"colorbar\": {\"outlinewidth\": 0, \"ticks\": \"\"}}, \"type\": \"scatterternary\"}], \"surface\": [{\"colorbar\": {\"outlinewidth\": 0, \"ticks\": \"\"}, \"colorscale\": [[0.0, \"#0d0887\"], [0.1111111111111111, \"#46039f\"], [0.2222222222222222, \"#7201a8\"], [0.3333333333333333, \"#9c179e\"], [0.4444444444444444, \"#bd3786\"], [0.5555555555555556, \"#d8576b\"], [0.6666666666666666, \"#ed7953\"], [0.7777777777777778, \"#fb9f3a\"], [0.8888888888888888, \"#fdca26\"], [1.0, \"#f0f921\"]], \"type\": \"surface\"}], \"table\": [{\"cells\": {\"fill\": {\"color\": \"#EBF0F8\"}, \"line\": {\"color\": \"white\"}}, \"header\": {\"fill\": {\"color\": \"#C8D4E3\"}, \"line\": {\"color\": \"white\"}}, \"type\": \"table\"}]}, \"layout\": {\"annotationdefaults\": {\"arrowcolor\": \"#2a3f5f\", \"arrowhead\": 0, \"arrowwidth\": 1}, \"coloraxis\": {\"colorbar\": {\"outlinewidth\": 0, \"ticks\": \"\"}}, \"colorscale\": {\"diverging\": [[0, \"#8e0152\"], [0.1, \"#c51b7d\"], [0.2, \"#de77ae\"], [0.3, \"#f1b6da\"], [0.4, \"#fde0ef\"], [0.5, \"#f7f7f7\"], [0.6, \"#e6f5d0\"], [0.7, \"#b8e186\"], [0.8, \"#7fbc41\"], [0.9, \"#4d9221\"], [1, \"#276419\"]], \"sequential\": [[0.0, \"#0d0887\"], [0.1111111111111111, \"#46039f\"], [0.2222222222222222, \"#7201a8\"], [0.3333333333333333, \"#9c179e\"], [0.4444444444444444, \"#bd3786\"], [0.5555555555555556, \"#d8576b\"], [0.6666666666666666, \"#ed7953\"], [0.7777777777777778, \"#fb9f3a\"], [0.8888888888888888, \"#fdca26\"], [1.0, \"#f0f921\"]], \"sequentialminus\": [[0.0, \"#0d0887\"], [0.1111111111111111, \"#46039f\"], [0.2222222222222222, \"#7201a8\"], [0.3333333333333333, \"#9c179e\"], [0.4444444444444444, \"#bd3786\"], [0.5555555555555556, \"#d8576b\"], [0.6666666666666666, \"#ed7953\"], [0.7777777777777778, \"#fb9f3a\"], [0.8888888888888888, \"#fdca26\"], [1.0, \"#f0f921\"]]}, \"colorway\": [\"#636efa\", \"#EF553B\", \"#00cc96\", \"#ab63fa\", \"#FFA15A\", \"#19d3f3\", \"#FF6692\", \"#B6E880\", \"#FF97FF\", \"#FECB52\"], \"font\": {\"color\": \"#2a3f5f\"}, \"geo\": {\"bgcolor\": \"white\", \"lakecolor\": \"white\", \"landcolor\": \"#E5ECF6\", \"showlakes\": true, \"showland\": true, \"subunitcolor\": \"white\"}, \"hoverlabel\": {\"align\": \"left\"}, \"hovermode\": \"closest\", \"mapbox\": {\"style\": \"light\"}, \"paper_bgcolor\": \"white\", \"plot_bgcolor\": \"#E5ECF6\", \"polar\": {\"angularaxis\": {\"gridcolor\": \"white\", \"linecolor\": \"white\", \"ticks\": \"\"}, \"bgcolor\": \"#E5ECF6\", \"radialaxis\": {\"gridcolor\": \"white\", \"linecolor\": \"white\", \"ticks\": \"\"}}, \"scene\": {\"xaxis\": {\"backgroundcolor\": \"#E5ECF6\", \"gridcolor\": \"white\", \"gridwidth\": 2, \"linecolor\": \"white\", \"showbackground\": true, \"ticks\": \"\", \"zerolinecolor\": \"white\"}, \"yaxis\": {\"backgroundcolor\": \"#E5ECF6\", \"gridcolor\": \"white\", \"gridwidth\": 2, \"linecolor\": \"white\", \"showbackground\": true, \"ticks\": \"\", \"zerolinecolor\": \"white\"}, \"zaxis\": {\"backgroundcolor\": \"#E5ECF6\", \"gridcolor\": \"white\", \"gridwidth\": 2, \"linecolor\": \"white\", \"showbackground\": true, \"ticks\": \"\", \"zerolinecolor\": \"white\"}}, \"shapedefaults\": {\"line\": {\"color\": \"#2a3f5f\"}}, \"ternary\": {\"aaxis\": {\"gridcolor\": \"white\", \"linecolor\": \"white\", \"ticks\": \"\"}, \"baxis\": {\"gridcolor\": \"white\", \"linecolor\": \"white\", \"ticks\": \"\"}, \"bgcolor\": \"#E5ECF6\", \"caxis\": {\"gridcolor\": \"white\", \"linecolor\": \"white\", \"ticks\": \"\"}}, \"title\": {\"x\": 0.05}, \"xaxis\": {\"automargin\": true, \"gridcolor\": \"white\", \"linecolor\": \"white\", \"ticks\": \"\", \"title\": {\"standoff\": 15}, \"zerolinecolor\": \"white\", \"zerolinewidth\": 2}, \"yaxis\": {\"automargin\": true, \"gridcolor\": \"white\", \"linecolor\": \"white\", \"ticks\": \"\", \"title\": {\"standoff\": 15}, \"zerolinecolor\": \"white\", \"zerolinewidth\": 2}}}, \"title\": {\"text\": \"Frequency of purchase by education level\"}, \"xaxis\": {\"anchor\": \"y\", \"domain\": [0.0, 1.0], \"title\": {\"text\": \"education\"}}, \"yaxis\": {\"anchor\": \"x\", \"domain\": [0.0, 1.0], \"title\": {\"text\": \"count\"}}},\n",
              "                        {\"responsive\": true}\n",
              "                    ).then(function(){\n",
              "                            \n",
              "var gd = document.getElementById('3ca5a96e-ea83-401d-b635-2c23b8a81f95');\n",
              "var x = new MutationObserver(function (mutations, observer) {{\n",
              "        var display = window.getComputedStyle(gd).display;\n",
              "        if (!display || display === 'none') {{\n",
              "            console.log([gd, 'removed!']);\n",
              "            Plotly.purge(gd);\n",
              "            observer.disconnect();\n",
              "        }}\n",
              "}});\n",
              "\n",
              "// Listen for the removal of the full notebook cells\n",
              "var notebookContainer = gd.closest('#notebook-container');\n",
              "if (notebookContainer) {{\n",
              "    x.observe(notebookContainer, {childList: true});\n",
              "}}\n",
              "\n",
              "// Listen for the clearing of the current output cell\n",
              "var outputEl = gd.closest('.output');\n",
              "if (outputEl) {{\n",
              "    x.observe(outputEl, {childList: true});\n",
              "}}\n",
              "\n",
              "                        })\n",
              "                };\n",
              "                \n",
              "            </script>\n",
              "        </div>\n",
              "</body>\n",
              "</html>"
            ]
          },
          "metadata": {}
        }
      ]
    },
    {
      "cell_type": "markdown",
      "metadata": {
        "id": "RshhkWJEHlD5"
      },
      "source": [
        "quien mas compra son los universitarios"
      ]
    },
    {
      "cell_type": "code",
      "metadata": {
        "colab": {
          "base_uri": "https://localhost:8080/",
          "height": 348
        },
        "id": "2Li-lrZWHvbX",
        "outputId": "8f8a3e8f-8017-42cf-ddf0-6636efe51414"
      },
      "source": [
        "purchase_marital = pd.crosstab(data.marital,data.y).astype('float')\n",
        "purchase_marital.div(purchase_marital.sum(axis=1).astype('float'),axis=0).plot(kind='bar',stacked=True)\n",
        "plt.title('Frequency of ppurchase by marital status')"
      ],
      "execution_count": null,
      "outputs": [
        {
          "output_type": "execute_result",
          "data": {
            "text/plain": [
              "Text(0.5, 1.0, 'Frequency of ppurchase by marital status')"
            ]
          },
          "metadata": {},
          "execution_count": 18
        },
        {
          "output_type": "display_data",
          "data": {
            "image/png": "[encoded data removed]",
            "text/plain": [
              "<Figure size 432x288 with 1 Axes>"
            ]
          },
          "metadata": {
            "needs_background": "light"
          }
        }
      ]
    },
    {
      "cell_type": "code",
      "metadata": {
        "colab": {
          "base_uri": "https://localhost:8080/",
          "height": 325
        },
        "id": "wZfHrOU4KDe_",
        "outputId": "1ce8e472-e687-4ee4-e467-4e32de16127a"
      },
      "source": [
        "purchase_day_of_week  = pd.crosstab(data.day_of_week ,data.y).astype('float')\n",
        "purchase_day_of_week.div(purchase_day_of_week.sum(axis=1).astype('float'),axis=0).plot(kind='bar',stacked=True)\n",
        "plt.title('Frequency of purchase by day of week')"
      ],
      "execution_count": null,
      "outputs": [
        {
          "output_type": "execute_result",
          "data": {
            "text/plain": [
              "Text(0.5, 1.0, 'Frequency of purchase by day of week')"
            ]
          },
          "metadata": {},
          "execution_count": 19
        },
        {
          "output_type": "display_data",
          "data": {
            "image/png": "[encoded data removed]",
            "text/plain": [
              "<Figure size 432x288 with 1 Axes>"
            ]
          },
          "metadata": {
            "needs_background": "light"
          }
        }
      ]
    },
    {
      "cell_type": "code",
      "metadata": {
        "colab": {
          "base_uri": "https://localhost:8080/",
          "height": 324
        },
        "id": "ybzn_2OlJetC",
        "outputId": "9ed72712-1ee6-43db-d73b-1f18393daf21"
      },
      "source": [
        "purchase_month  = pd.crosstab(data.month ,data.y).astype('float')\n",
        "purchase_month.div(purchase_month.sum(axis=1).astype('float'),axis=0).plot(kind='bar',stacked=True)\n",
        "plt.title('Frequency of purchase by day of week')"
      ],
      "execution_count": null,
      "outputs": [
        {
          "output_type": "execute_result",
          "data": {
            "text/plain": [
              "Text(0.5, 1.0, 'Frequency of purchase by day of week')"
            ]
          },
          "metadata": {},
          "execution_count": 20
        },
        {
          "output_type": "display_data",
          "data": {
            "image/png": "[encoded data removed]",
            "text/plain": [
              "<Figure size 432x288 with 1 Axes>"
            ]
          },
          "metadata": {
            "needs_background": "light"
          }
        }
      ]
    },
    {
      "cell_type": "code",
      "metadata": {
        "colab": {
          "base_uri": "https://localhost:8080/",
          "height": 324
        },
        "id": "0p6MuL1vKx65",
        "outputId": "6761e96b-72d7-4aef-8fea-5c70b2ef0c55"
      },
      "source": [
        "purchase_month  = pd.crosstab(data.month ,data.y).astype('float')\n",
        "purchase_month.div(purchase_month.sum(axis=1).astype('float'),axis=0).plot(kind='bar',stacked=False)\n",
        "plt.title('Frequency of purchase by month')"
      ],
      "execution_count": null,
      "outputs": [
        {
          "output_type": "execute_result",
          "data": {
            "text/plain": [
              "Text(0.5, 1.0, 'Frequency of purchase by month')"
            ]
          },
          "metadata": {},
          "execution_count": 21
        },
        {
          "output_type": "display_data",
          "data": {
            "image/png": "[encoded data removed]",
            "text/plain": [
              "<Figure size 432x288 with 1 Axes>"
            ]
          },
          "metadata": {
            "needs_background": "light"
          }
        }
      ]
    },
    {
      "cell_type": "code",
      "metadata": {
        "colab": {
          "base_uri": "https://localhost:8080/",
          "height": 542
        },
        "id": "grSTcAPeK7Sl",
        "outputId": "c70f610c-4f54-40b3-da59-9b5f859c9183"
      },
      "source": [
        "px.histogram(data,x='age',color='y',barmode='group')"
      ],
      "execution_count": null,
      "outputs": [
        {
          "output_type": "display_data",
          "data": {
            "text/html": [
              "<html>\n",
              "<head><meta charset=\"utf-8\" /></head>\n",
              "<body>\n",
              "    <div>\n",
              "            <script src=\"https://cdnjs.cloudflare.com/ajax/libs/mathjax/2.7.5/MathJax.js?config=TeX-AMS-MML_SVG\"></script><script type=\"text/javascript\">if (window.MathJax) {MathJax.Hub.Config({SVG: {font: \"STIX-Web\"}});}</script>\n",
              "                <script type=\"text/javascript\">window.PlotlyConfig = {MathJaxConfig: 'local'};</script>\n",
              "        <script src=\"https://cdn.plot.ly/plotly-latest.min.js\"></script>    \n",
              "            <div id=\"cbad85d5-8391-44ac-8631-c20dbeebd6e0\" class=\"plotly-graph-div\" style=\"height:525px; width:100%;\"></div>\n",
              "            <script type=\"text/javascript\">\n",
              "                \n",
              "                    window.PLOTLYENV=window.PLOTLYENV || {};\n",
              "                    \n",
              "                if (document.getElementById(\"cbad85d5-8391-44ac-8631-c20dbeebd6e0\")) {\n",
              "                    Plotly.newPlot(\n",
              "                        'cbad85d5-8391-44ac-8631-c20dbeebd6e0',\n",
              "                        [{\"alignmentgroup\": \"True\", \"bingroup\": \"x\", \"hoverlabel\": {\"namelength\": 0}, \"hovertemplate\": \"y=no<br>age=%{x}<br>count=%{y}\", \"legendgroup\": \"y=no\", \"marker\": {\"color\": \"#636efa\"}, \"name\": \"y=no\", \"offsetgroup\": \"y=no\", \"orientation\": \"v\", \"showlegend\": true, \"type\": \"histogram\", \"x\": [30, 39, 25, 38, 47, 32, 32, 41, 31, 35, 25, 36, 36, 47, 29, 27, 44, 46, 45, 55, 29, 40, 44, 36, 28, 47, 34, 38, 33, 51, 30, 48, 28, 36, 46, 31, 20, 35, 38, 76, 45, 32, 39, 32, 29, 44, 32, 56, 33, 39, 33, 58, 29, 31, 27, 55, 37, 46, 42, 35, 49, 29, 37, 28, 34, 31, 31, 38, 33, 32, 54, 41, 59, 57, 38, 46, 37, 36, 40, 38, 44, 25, 30, 43, 58, 31, 53, 52, 37, 58, 37, 38, 33, 45, 44, 38, 34, 47, 59, 51, 31, 56, 39, 41, 53, 35, 58, 25, 35, 28, 55, 54, 45, 32, 50, 33, 29, 45, 24, 41, 34, 34, 37, 54, 32, 42, 33, 41, 31, 40, 53, 40, 28, 30, 32, 54, 31, 50, 47, 31, 32, 46, 47, 32, 52, 32, 71, 49, 46, 46, 38, 57, 41, 44, 47, 40, 57, 34, 42, 51, 45, 56, 41, 44, 54, 51, 30, 42, 41, 47, 35, 58, 41, 38, 32, 21, 46, 42, 55, 29, 30, 53, 35, 46, 30, 43, 42, 32, 41, 28, 24, 43, 30, 55, 51, 22, 32, 43, 39, 52, 38, 59, 31, 44, 30, 32, 41, 59, 28, 33, 53, 55, 45, 35, 31, 53, 35, 45, 34, 42, 36, 44, 50, 36, 27, 40, 25, 29, 44, 57, 30, 37, 57, 29, 60, 27, 30, 42, 48, 35, 46, 57, 30, 28, 34, 42, 30, 27, 23, 43, 59, 31, 43, 52, 26, 24, 35, 28, 37, 46, 40, 56, 40, 29, 28, 48, 28, 33, 56, 24, 39, 40, 54, 25, 48, 32, 48, 30, 41, 54, 28, 30, 54, 33, 38, 46, 38, 38, 33, 25, 29, 60, 57, 36, 54, 25, 41, 54, 39, 55, 40, 43, 43, 42, 30, 24, 51, 42, 51, 38, 45, 51, 44, 52, 49, 49, 52, 32, 27, 44, 33, 30, 32, 36, 49, 48, 42, 28, 52, 23, 36, 43, 31, 49, 36, 47, 31, 46, 54, 35, 37, 44, 33, 57, 39, 43, 32, 29, 35, 47, 37, 35, 37, 36, 50, 30, 33, 37, 45, 30, 51, 49, 31, 40, 41, 58, 49, 39, 48, 50, 54, 38, 51, 36, 35, 44, 43, 30, 41, 27, 26, 36, 24, 46, 50, 49, 55, 54, 40, 58, 58, 36, 30, 45, 40, 42, 43, 24, 49, 55, 49, 48, 49, 40, 35, 32, 41, 32, 33, 36, 40, 25, 60, 45, 33, 31, 48, 42, 40, 30, 41, 36, 41, 60, 32, 25, 25, 31, 44, 29, 47, 25, 53, 36, 45, 54, 51, 24, 40, 39, 44, 44, 52, 34, 23, 30, 26, 24, 34, 32, 27, 39, 29, 42, 60, 30, 38, 49, 30, 41, 56, 58, 52, 32, 51, 31, 34, 36, 30, 51, 26, 39, 38, 41, 43, 60, 28, 34, 64, 35, 40, 46, 74, 40, 46, 41, 30, 44, 47, 50, 29, 51, 52, 27, 44, 34, 30, 26, 35, 24, 36, 24, 31, 41, 39, 36, 47, 34, 42, 51, 34, 33, 33, 36, 43, 47, 32, 42, 36, 42, 31, 41, 46, 35, 30, 35, 47, 35, 39, 37, 31, 49, 57, 33, 35, 39, 34, 32, 53, 30, 30, 44, 50, 56, 58, 54, 31, 41, 31, 39, 37, 41, 50, 49, 31, 52, 33, 32, 35, 52, 32, 36, 27, 39, 34, 35, 32, 42, 37, 34, 27, 35, 22, 45, 29, 59, 55, 32, 49, 43, 47, 41, 50, 46, 32, 47, 54, 29, 33, 27, 35, 37, 33, 54, 30, 40, 37, 34, 25, 59, 25, 42, 33, 50, 39, 33, 33, 41, 36, 44, 40, 42, 41, 33, 32, 45, 29, 35, 35, 45, 34, 50, 28, 33, 42, 43, 56, 29, 31, 31, 28, 43, 44, 43, 41, 31, 59, 32, 24, 38, 37, 33, 27, 34, 46, 30, 31, 56, 52, 30, 34, 33, 30, 28, 24, 41, 26, 40, 42, 56, 25, 25, 33, 34, 36, 38, 28, 56, 58, 30, 48, 30, 43, 33, 36, 54, 29, 28, 59, 45, 32, 55, 29, 31, 34, 25, 35, 49, 35, 36, 29, 30, 24, 32, 34, 34, 39, 47, 32, 29, 57, 49, 42, 29, 34, 51, 47, 53, 28, 23, 30, 42, 38, 29, 44, 59, 45, 51, 28, 29, 28, 29, 40, 43, 54, 42, 55, 49, 52, 32, 23, 34, 36, 54, 39, 50, 27, 32, 54, 40, 50, 35, 26, 45, 28, 28, 50, 31, 34, 56, 29, 58, 46, 35, 34, 39, 40, 40, 54, 25, 40, 49, 41, 32, 44, 30, 27, 41, 36, 54, 30, 25, 42, 36, 45, 38, 38, 34, 44, 37, 57, 34, 25, 52, 23, 57, 50, 46, 43, 38, 53, 35, 28, 25, 56, 56, 33, 31, 45, 24, 33, 38, 48, 28, 50, 29, 38, 18, 31, 34, 38, 57, 35, 77, 29, 46, 43, 43, 31, 39, 44, 32, 43, 48, 28, 36, 52, 34, 37, 25, 48, 36, 27, 34, 42, 37, 41, 51, 27, 35, 31, 31, 31, 33, 41, 34, 41, 36, 59, 59, 32, 40, 34, 41, 33, 31, 29, 38, 34, 27, 32, 49, 36, 46, 47, 37, 31, 36, 32, 54, 28, 31, 57, 49, 45, 33, 53, 31, 32, 29, 31, 29, 49, 26, 43, 56, 29, 31, 50, 37, 42, 30, 25, 35, 37, 30, 36, 46, 26, 40, 50, 36, 43, 57, 38, 27, 35, 28, 57, 40, 43, 34, 67, 48, 35, 27, 25, 42, 47, 49, 35, 29, 45, 53, 41, 50, 31, 46, 36, 43, 48, 31, 21, 56, 54, 44, 31, 26, 37, 37, 50, 47, 41, 32, 38, 48, 46, 48, 38, 38, 55, 27, 28, 29, 47, 34, 51, 40, 38, 42, 30, 36, 33, 47, 30, 54, 47, 32, 32, 38, 38, 38, 53, 26, 27, 38, 48, 32, 35, 51, 35, 60, 28, 35, 27, 34, 36, 28, 32, 55, 37, 35, 32, 35, 35, 26, 47, 29, 37, 32, 46, 36, 31, 46, 85, 29, 31, 34, 29, 46, 54, 26, 27, 57, 32, 35, 32, 59, 29, 37, 40, 55, 33, 36, 59, 34, 30, 29, 34, 47, 41, 30, 33, 33, 33, 59, 29, 36, 41, 55, 39, 48, 56, 63, 50, 42, 43, 32, 28, 26, 24, 38, 30, 29, 56, 33, 47, 50, 41, 54, 32, 38, 34, 34, 55, 31, 43, 56, 32, 36, 42, 29, 33, 56, 31, 34, 33, 23, 26, 55, 47, 36, 33, 60, 49, 35, 47, 30, 27, 36, 46, 30, 88, 45, 30, 43, 48, 56, 42, 30, 56, 35, 39, 49, 30, 39, 32, 38, 49, 28, 39, 37, 51, 31, 59, 46, 36, 31, 26, 36, 50, 41, 50, 32, 56, 42, 38, 36, 45, 52, 55, 38, 71, 22, 78, 30, 51, 35, 26, 34, 49, 50, 51, 57, 33, 35, 39, 39, 20, 55, 27, 33, 24, 39, 55, 35, 42, 50, 39, 40, 51, 59, 54, 42, 33, 26, 27, 30, 42, 53, 29, 45, 35, 33, 38, 29, 32, 34, 36, 51, 34, 50, 54, 53, 52, 52, 53, 36, 43, 31, 46, 38, 34, 37, 40, 42, 40, 27, 57, 45, 46, 47, 56, 32, 54, 58, 30, 39, 41, 32, 32, 29, 43, 41, 30, 28, 35, 44, 25, 47, 26, 35, 34, 57, 38, 33, 32, 47, 34, 36, 28, 72, 27, 43, 39, 35, 34, 36, 35, 56, 31, 45, 20, 42, 39, 45, 50, 29, 38, 34, 36, 35, 41, 42, 39, 34, 52, 59, 37, 33, 35, 33, 40, 39, 32, 29, 35, 38, 32, 32, 34, 28, 53, 27, 43, 35, 42, 36, 35, 38, 45, 24, 30, 31, 30, 50, 32, 55, 31, 55, 37, 41, 34, 42, 56, 46, 42, 33, 53, 43, 52, 40, 49, 41, 26, 39, 33, 36, 33, 36, 61, 40, 31, 41, 39, 39, 38, 47, 24, 45, 34, 51, 53, 24, 24, 35, 71, 27, 32, 56, 35, 35, 38, 52, 27, 35, 40, 38, 32, 35, 28, 25, 28, 53, 32, 73, 34, 41, 34, 50, 39, 34, 37, 40, 38, 41, 38, 47, 23, 30, 49, 51, 36, 49, 21, 34, 34, 36, 45, 37, 32, 51, 35, 36, 32, 34, 51, 24, 37, 37, 56, 27, 59, 34, 36, 54, 30, 37, 46, 50, 35, 55, 51, 41, 54, 46, 30, 33, 38, 36, 36, 46, 40, 35, 55, 49, 36, 42, 48, 40, 53, 42, 40, 38, 34, 36, 38, 32, 49, 38, 38, 28, 27, 59, 26, 38, 39, 30, 40, 37, 31, 47, 54, 32, 41, 55, 29, 47, 49, 51, 40, 28, 46, 46, 52, 25, 31, 38, 52, 39, 55, 46, 55, 45, 46, 50, 39, 50, 34, 36, 29, 43, 42, 51, 26, 47, 54, 40, 39, 55, 43, 26, 33, 42, 36, 36, 45, 39, 28, 38, 49, 38, 36, 51, 57, 58, 28, 34, 55, 18, 39, 36, 34, 35, 36, 37, 24, 57, 59, 32, 36, 33, 43, 39, 26, 47, 24, 35, 26, 31, 53, 34, 41, 33, 33, 47, 29, 25, 35, 29, 57, 49, 35, 31, 43, 34, 38, 43, 38, 46, 39, 47, 25, 38, 36, 47, 46, 45, 38, 30, 31, 52, 48, 27, 43, 45, 32, 30, 60, 32, 32, 54, 53, 36, 27, 29, 55, 38, 28, 37, 37, 30, 32, 43, 35, 39, 38, 29, 41, 45, 35, 56, 30, 41, 41, 31, 29, 38, 48, 24, 53, 56, 32, 29, 32, 28, 33, 28, 43, 54, 31, 36, 56, 45, 54, 48, 60, 35, 27, 40, 36, 34, 44, 37, 46, 52, 23, 39, 34, 43, 45, 34, 37, 32, 66, 32, 35, 33, 57, 57, 47, 56, 38, 40, 59, 34, 40, 49, 48, 41, 39, 42, 32, 47, 35, 60, 30, 54, 39, 61, 43, 48, 37, 34, 41, 36, 33, 36, 58, 40, 36, 49, 45, 55, 28, 46, 28, 30, 52, 42, 51, 29, 47, 33, 38, 32, 35, 41, 30, 36, 38, 28, 42, 31, 39, 37, 52, 33, 37, 34, 32, 56, 47, 41, 34, 35, 19, 28, 41, 27, 36, 35, 32, 43, 42, 30, 34, 26, 30, 61, 48, 38, 50, 32, 36, 28, 35, 37, 48, 35, 47, 53, 27, 28, 52, 56, 39, 33, 53, 32, 29, 36, 24, 49, 28, 51, 33, 34, 35, 34, 29, 49, 32, 53, 51, 37, 29, 51, 41, 27, 31, 49, 47, 39, 56, 42, 44, 52, 25, 36, 41, 37, 38, 34, 31, 39, 36, 38, 39, 51, 52, 55, 35, 41, 29, 38, 51, 35, 34, 47, 32, 39, 56, 44, 36, 37, 32, 48, 51, 30, 37, 38, 36, 55, 51, 42, 29, 59, 31, 34, 37, 25, 34, 37, 26, 24, 37, 28, 31, 32, 41, 32, 24, 48, 36, 46, 55, 34, 37, 33, 29, 30, 33, 31, 47, 24, 30, 48, 29, 47, 32, 48, 34, 42, 33, 28, 43, 43, 30, 36, 50, 37, 30, 46, 34, 52, 54, 43, 35, 40, 32, 31, 41, 29, 53, 51, 35, 51, 44, 59, 31, 31, 41, 32, 32, 56, 53, 25, 33, 41, 28, 28, 43, 29, 36, 49, 55, 34, 29, 35, 40, 42, 34, 47, 39, 55, 44, 34, 45, 55, 28, 30, 32, 31, 32, 39, 24, 27, 32, 37, 29, 58, 32, 48, 42, 31, 41, 33, 45, 30, 30, 53, 32, 27, 46, 29, 43, 26, 47, 29, 56, 32, 33, 49, 33, 58, 37, 48, 39, 53, 59, 40, 44, 30, 48, 51, 29, 38, 30, 62, 30, 32, 56, 39, 36, 36, 34, 44, 37, 37, 30, 47, 41, 33, 57, 29, 33, 40, 27, 41, 58, 28, 54, 56, 56, 40, 49, 30, 29, 31, 30, 34, 44, 32, 37, 29, 30, 54, 43, 33, 32, 57, 29, 36, 30, 45, 42, 31, 28, 58, 32, 31, 53, 53, 32, 32, 43, 44, 45, 41, 64, 30, 38, 37, 50, 60, 50, 34, 45, 39, 36, 27, 35, 50, 53, 27, 57, 37, 59, 49, 32, 34, 25, 45, 34, 29, 53, 29, 39, 40, 55, 32, 54, 39, 43, 41, 26, 52, 44, 38, 42, 44, 27, 34, 55, 34, 25, 31, 35, 50, 22, 48, 35, 34, 50, 25, 51, 32, 59, 37, 40, 26, 32, 35, 32, 35, 44, 35, 48, 52, 41, 65, 43, 40, 30, 66, 44, 35, 57, 26, 39, 45, 42, 36, 46, 35, 24, 50, 36, 39, 57, 42, 31, 25, 58, 33, 42, 41, 49, 44, 52, 26, 43, 43, 26, 34, 24, 33, 38, 31, 32, 25, 26, 56, 38, 37, 50, 34, 35, 48, 25, 39, 48, 44, 30, 32, 52, 44, 41, 26, 32, 31, 29, 58, 56, 23, 31, 48, 27, 24, 35, 42, 37, 33, 58, 54, 54, 39, 48, 34, 28, 30, 59, 29, 25, 47, 32, 30, 24, 58, 44, 36, 33, 31, 35, 29, 58, 43, 55, 53, 38, 36, 56, 32, 48, 31, 50, 38, 34, 41, 51, 41, 26, 49, 39, 38, 52, 38, 31, 57, 42, 32, 31, 32, 40, 44, 46, 47, 44, 39, 59, 49, 51, 55, 49, 44, 29, 49, 49, 45, 39, 35, 30, 26, 37, 29, 54, 35, 41, 31, 30, 43, 31, 30, 47, 32, 49, 41, 60, 42, 52, 29, 40, 30, 38, 37, 60, 26, 37, 56, 44, 46, 52, 40, 44, 35, 33, 38, 56, 48, 45, 56, 33, 49, 54, 57, 31, 51, 35, 30, 30, 32, 45, 48, 31, 40, 56, 57, 47, 36, 53, 58, 36, 35, 34, 30, 30, 37, 53, 34, 28, 29, 44, 31, 40, 47, 37, 57, 37, 52, 34, 43, 34, 49, 25, 38, 40, 31, 29, 57, 38, 48, 30, 52, 34, 60, 37, 47, 28, 36, 53, 36, 31, 44, 37, 32, 44, 29, 37, 48, 38, 41, 57, 35, 34, 50, 49, 28, 53, 52, 35, 65, 26, 56, 39, 23, 32, 35, 50, 52, 58, 37, 54, 60, 30, 34, 30, 43, 37, 34, 30, 31, 48, 42, 38, 42, 40, 33, 37, 37, 52, 44, 38, 24, 32, 32, 39, 57, 36, 40, 47, 36, 33, 27, 60, 37, 35, 49, 40, 43, 33, 40, 58, 46, 38, 47, 59, 35, 29, 50, 39, 32, 31, 24, 41, 22, 28, 41, 36, 53, 28, 52, 29, 39, 33, 32, 49, 31, 27, 38, 31, 40, 56, 35, 56, 35, 46, 32, 34, 56, 24, 50, 43, 52, 59, 27, 33, 25, 47, 31, 43, 34, 50, 31, 45, 35, 29, 28, 45, 47, 41, 42, 32, 33, 43, 34, 59, 31, 24, 27, 37, 53, 56, 35, 39, 44, 49, 47, 30, 29, 39, 33, 32, 32, 52, 29, 47, 36, 59, 45, 29, 74, 46, 43, 46, 49, 28, 34, 43, 45, 46, 36, 44, 30, 42, 34, 33, 40, 37, 30, 33, 32, 44, 58, 62, 42, 46, 37, 34, 46, 37, 47, 36, 32, 46, 51, 24, 53, 46, 51, 56, 35, 34, 38, 35, 32, 38, 44, 37, 24, 35, 30, 33, 43, 41, 57, 49, 30, 45, 41, 53, 29, 45, 24, 43, 45, 34, 35, 25, 58, 31, 30, 30, 58, 34, 34, 43, 30, 35, 33, 45, 28, 29, 31, 41, 29, 24, 34, 52, 30, 39, 39, 32, 36, 34, 34, 35, 39, 51, 35, 46, 35, 23, 49, 33, 41, 48, 43, 76, 54, 43, 27, 55, 37, 29, 37, 30, 29, 30, 25, 34, 58, 26, 51, 48, 53, 55, 59, 52, 36, 56, 35, 30, 45, 48, 36, 40, 32, 60, 37, 58, 48, 31, 35, 41, 42, 55, 36, 34, 27, 32, 30, 39, 39, 39, 48, 33, 46, 51, 44, 26, 53, 42, 31, 32, 31, 50, 31, 39, 37, 58, 32, 33, 29, 32, 42, 32, 29, 51, 36, 37, 48, 50, 40, 31, 39, 38, 58, 34, 39, 78, 43, 49, 32, 58, 42, 31, 45, 43, 53, 42, 40, 41, 47, 53, 60, 32, 67, 49, 31, 31, 33, 41, 45, 29, 39, 35, 33, 27, 32, 45, 36, 41, 40, 42, 31, 32, 32, 27, 35, 41, 45, 45, 44, 51, 50, 41, 29, 44, 39, 39, 50, 43, 36, 36, 29, 48, 51, 47, 36, 37, 34, 69, 42, 48, 41, 59, 50, 36, 38, 44, 35, 30, 32, 53, 36, 51, 30, 33, 53, 49, 35, 40, 42, 41, 31, 40, 53, 53, 48, 32, 27, 51, 39, 31, 54, 45, 36, 55, 51, 27, 41, 40, 28, 57, 58, 34, 28, 57, 37, 37, 35, 42, 36, 49, 52, 31, 56, 37, 32, 36, 36, 48, 57, 45, 46, 38, 24, 38, 60, 32, 38, 45, 44, 44, 31, 32, 45, 40, 45, 44, 25, 47, 39, 32, 41, 58, 42, 50, 42, 50, 48, 30, 43, 36, 37, 55, 47, 54, 26, 27, 32, 43, 32, 32, 28, 33, 42, 53, 70, 47, 43, 51, 34, 57, 41, 36, 37, 28, 58, 54, 50, 38, 37, 31, 28, 46, 31, 31, 30, 35, 36, 34, 32, 43, 57, 41, 34, 46, 45, 41, 49, 50, 34, 47, 47, 55, 46, 24, 32, 31, 31, 29, 48, 33, 43, 29, 47, 47, 33, 56, 33, 30, 36, 50, 45, 31, 30, 39, 37, 36, 22, 33, 37, 38, 53, 31, 31, 30, 47, 28, 33, 45, 32, 41, 42, 45, 52, 39, 20, 36, 67, 42, 41, 37, 35, 34, 48, 46, 57, 54, 34, 29, 38, 27, 42, 35, 40, 44, 33, 54, 32, 47, 40, 28, 40, 39, 51, 39, 46, 49, 47, 32, 35, 27, 42, 35, 37, 48, 29, 50, 30, 58, 52, 32, 55, 49, 35, 41, 44, 35, 44, 27, 33, 35, 32, 39, 53, 26, 25, 39, 33, 59, 52, 25, 29, 48, 35, 39, 31, 28, 40, 39, 41, 39, 30, 40, 32, 37, 43, 31, 45, 47, 58, 33, 28, 47, 60, 28, 41, 33, 41, 30, 54, 46, 32, 42, 29, 41, 24, 44, 58, 31, 34, 44, 59, 34, 48, 47, 54, 44, 31, 34, 29, 38, 56, 26, 31, 31, 57, 36, 43, 46, 24, 37, 33, 41, 53, 51, 36, 47, 44, 45, 38, 36, 30, 55, 45, 33, 36, 33, 44, 56, 31, 32, 31, 36, 55, 57, 34, 30, 40, 41, 35, 59, 41, 35, 41, 32, 46, 60, 48, 50, 46, 50, 30, 44, 23, 36, 40, 53, 53, 34, 34, 48, 47, 39, 50, 38, 37, 29, 24, 46, 35, 32, 33, 58, 36, 41, 33, 29, 44, 42, 43, 32, 32, 38, 32, 31, 37, 43, 30, 34, 36, 29, 52, 54, 31, 37, 40, 43, 35, 37, 35, 53, 55, 28, 39, 41, 46, 52, 44, 31, 31, 31, 35, 58, 51, 36, 47, 49, 39, 33, 36, 46, 44, 32, 52, 26, 30, 34, 30, 56, 33, 31, 47, 46, 54, 30, 40, 45, 45, 55, 30, 39, 46, 33, 39, 37, 41, 39, 27, 39, 46, 38, 54, 25, 28, 53, 58, 31, 42, 37, 37, 24, 33, 59, 60, 31, 38, 35, 52, 35, 42, 46, 40, 58, 52, 30, 44, 53, 30, 43, 43, 57, 32, 40, 41, 46, 33, 49, 31, 32, 37, 45, 39, 28, 45, 33, 37, 34, 39, 31, 41, 55, 49, 36, 26, 46, 38, 40, 38, 49, 51, 41, 42, 32, 37, 46, 33, 41, 32, 29, 37, 40, 36, 33, 53, 56, 38, 22, 50, 58, 56, 53, 41, 80, 50, 33, 29, 45, 22, 34, 35, 46, 47, 33, 51, 38, 58, 49, 45, 42, 31, 45, 24, 37, 27, 48, 46, 57, 56, 33, 42, 53, 28, 38, 45, 55, 45, 25, 54, 43, 33, 48, 36, 42, 24, 33, 34, 56, 29, 54, 43, 49, 51, 34, 32, 31, 54, 31, 35, 44, 63, 28, 56, 31, 33, 25, 44, 54, 32, 54, 32, 46, 57, 30, 54, 48, 28, 37, 40, 28, 41, 27, 45, 45, 43, 35, 36, 47, 57, 27, 29, 45, 26, 54, 29, 39, 46, 44, 36, 56, 33, 51, 59, 46, 21, 33, 46, 24, 35, 35, 32, 34, 47, 60, 43, 58, 31, 38, 35, 34, 31, 30, 49, 41, 53, 45, 58, 46, 56, 28, 38, 32, 27, 46, 45, 52, 53, 26, 48, 32, 34, 35, 38, 44, 53, 39, 38, 37, 29, 33, 28, 26, 35, 46, 43, 50, 42, 28, 36, 28, 25, 43, 36, 34, 34, 56, 34, 28, 52, 38, 32, 55, 33, 33, 48, 36, 33, 40, 29, 55, 53, 28, 30, 38, 32, 55, 40, 33, 33, 48, 57, 46, 27, 38, 31, 33, 27, 43, 36, 38, 50, 54, 72, 48, 54, 31, 40, 29, 68, 47, 30, 34, 52, 30, 37, 43, 31, 29, 34, 47, 38, 42, 55, 46, 50, 34, 34, 26, 34, 30, 27, 38, 45, 50, 31, 29, 41, 45, 32, 38, 52, 37, 33, 57, 33, 41, 31, 49, 35, 55, 42, 29, 51, 35, 45, 41, 44, 66, 39, 47, 42, 58, 48, 30, 24, 36, 54, 42, 49, 28, 52, 26, 54, 58, 28, 32, 48, 37, 31, 41, 52, 35, 40, 32, 24, 73, 28, 29, 43, 31, 41, 61, 30, 50, 30, 32, 47, 43, 34, 52, 30, 35, 39, 30, 47, 44, 43, 39, 42, 55, 56, 30, 34, 38, 39, 27, 27, 35, 35, 53, 37, 33, 54, 39, 45, 33, 36, 27, 42, 38, 44, 23, 50, 54, 38, 33, 31, 44, 26, 35, 31, 56, 37, 46, 49, 31, 38, 37, 56, 35, 46, 30, 40, 54, 32, 34, 35, 38, 42, 49, 27, 52, 54, 59, 48, 47, 27, 41, 47, 36, 40, 57, 31, 65, 60, 53, 81, 47, 55, 70, 32, 31, 46, 36, 68, 31, 52, 58, 54, 40, 44, 42, 30, 42, 54, 29, 43, 38, 30, 56, 62, 36, 33, 41, 34, 58, 41, 35, 31, 43, 42, 47, 45, 36, 32, 63, 53, 30, 31, 31, 30, 39, 27, 58, 34], \"xaxis\": \"x\", \"yaxis\": \"y\"}, {\"alignmentgroup\": \"True\", \"bingroup\": \"x\", \"hoverlabel\": {\"namelength\": 0}, \"hovertemplate\": \"y=yes<br>age=%{x}<br>count=%{y}\", \"legendgroup\": \"y=yes\", \"marker\": {\"color\": \"#EF553B\"}, \"name\": \"y=yes\", \"offsetgroup\": \"y=yes\", \"orientation\": \"v\", \"showlegend\": true, \"type\": \"histogram\", \"x\": [50, 39, 38, 24, 60, 52, 32, 39, 51, 31, 47, 45, 41, 75, 38, 58, 53, 28, 82, 31, 45, 27, 52, 50, 50, 76, 33, 41, 32, 54, 58, 59, 26, 57, 36, 29, 81, 34, 48, 30, 45, 61, 67, 73, 44, 30, 18, 29, 31, 44, 51, 38, 59, 60, 33, 23, 38, 33, 37, 31, 36, 77, 35, 40, 35, 54, 27, 42, 49, 31, 25, 34, 34, 58, 30, 57, 41, 86, 41, 42, 31, 31, 33, 45, 41, 75, 47, 27, 30, 41, 39, 48, 21, 64, 56, 38, 24, 30, 51, 54, 26, 33, 51, 33, 25, 38, 54, 36, 50, 48, 33, 41, 39, 52, 49, 50, 58, 35, 29, 29, 36, 59, 53, 59, 28, 30, 37, 55, 36, 71, 58, 32, 27, 39, 31, 47, 32, 36, 42, 51, 68, 33, 31, 38, 64, 51, 45, 54, 54, 78, 27, 38, 32, 35, 26, 80, 32, 33, 44, 39, 44, 54, 29, 31, 29, 33, 36, 44, 27, 41, 29, 37, 55, 50, 48, 33, 43, 30, 34, 47, 42, 41, 33, 51, 36, 86, 37, 30, 31, 28, 42, 37, 32, 36, 32, 76, 56, 31, 41, 35, 40, 29, 39, 39, 30, 39, 26, 32, 31, 46, 31, 31, 52, 36, 57, 32, 58, 28, 37, 47, 51, 48, 30, 50, 57, 44, 31, 39, 33, 30, 39, 36, 21, 31, 43, 55, 38, 48, 53, 31, 27, 34, 31, 27, 28, 47, 33, 31, 38, 30, 32, 35, 41, 22, 52, 29, 50, 29, 38, 26, 34, 41, 32, 57, 58, 38, 55, 33, 39, 59, 53, 48, 62, 24, 50, 46, 42, 41, 56, 32, 57, 61, 33, 33, 34, 41, 21, 38, 44, 50, 50, 47, 62, 28, 39, 60, 28, 45, 39, 59, 32, 31, 54, 49, 28, 23, 66, 48, 37, 46, 59, 30, 37, 27, 58, 30, 29, 54, 22, 48, 32, 29, 55, 31, 27, 43, 32, 47, 37, 35, 32, 60, 30, 80, 30, 24, 31, 34, 61, 69, 28, 58, 37, 30, 25, 26, 26, 44, 43, 53, 54, 31, 26, 33, 30, 31, 48, 25, 30, 32, 33, 80, 38, 45, 44, 43, 42, 50, 49, 44, 34, 30, 27, 35, 63, 52, 28, 38, 33, 58, 30, 25, 41, 53, 34, 43, 37, 32, 41, 51, 52, 40, 38, 66, 50, 82, 55, 28, 37, 26, 39, 37, 52, 68, 36, 57, 33, 48, 54, 30, 28, 38, 52, 60, 64, 59, 31, 32, 36, 40, 31, 49, 53, 33, 33, 45, 49, 52, 32, 41, 50, 32, 33, 25, 71, 27, 45, 29, 26, 54, 28, 39, 43, 33, 66, 57, 74, 81, 60, 47, 25], \"xaxis\": \"x\", \"yaxis\": \"y\"}],\n",
              "                        {\"barmode\": \"group\", \"legend\": {\"tracegroupgap\": 0}, \"margin\": {\"t\": 60}, \"template\": {\"data\": {\"bar\": [{\"error_x\": {\"color\": \"#2a3f5f\"}, \"error_y\": {\"color\": \"#2a3f5f\"}, \"marker\": {\"line\": {\"color\": \"#E5ECF6\", \"width\": 0.5}}, \"type\": \"bar\"}], \"barpolar\": [{\"marker\": {\"line\": {\"color\": \"#E5ECF6\", \"width\": 0.5}}, \"type\": \"barpolar\"}], \"carpet\": [{\"aaxis\": {\"endlinecolor\": \"#2a3f5f\", \"gridcolor\": \"white\", \"linecolor\": \"white\", \"minorgridcolor\": \"white\", \"startlinecolor\": \"#2a3f5f\"}, \"baxis\": {\"endlinecolor\": \"#2a3f5f\", \"gridcolor\": \"white\", \"linecolor\": \"white\", \"minorgridcolor\": \"white\", \"startlinecolor\": \"#2a3f5f\"}, \"type\": \"carpet\"}], \"choropleth\": [{\"colorbar\": {\"outlinewidth\": 0, \"ticks\": \"\"}, \"type\": \"choropleth\"}], \"contour\": [{\"colorbar\": {\"outlinewidth\": 0, \"ticks\": \"\"}, \"colorscale\": [[0.0, \"#0d0887\"], [0.1111111111111111, \"#46039f\"], [0.2222222222222222, \"#7201a8\"], [0.3333333333333333, \"#9c179e\"], [0.4444444444444444, \"#bd3786\"], [0.5555555555555556, \"#d8576b\"], [0.6666666666666666, \"#ed7953\"], [0.7777777777777778, \"#fb9f3a\"], [0.8888888888888888, \"#fdca26\"], [1.0, \"#f0f921\"]], \"type\": \"contour\"}], \"contourcarpet\": [{\"colorbar\": {\"outlinewidth\": 0, \"ticks\": \"\"}, \"type\": \"contourcarpet\"}], \"heatmap\": [{\"colorbar\": {\"outlinewidth\": 0, \"ticks\": \"\"}, \"colorscale\": [[0.0, \"#0d0887\"], [0.1111111111111111, \"#46039f\"], [0.2222222222222222, \"#7201a8\"], [0.3333333333333333, \"#9c179e\"], [0.4444444444444444, \"#bd3786\"], [0.5555555555555556, \"#d8576b\"], [0.6666666666666666, \"#ed7953\"], [0.7777777777777778, \"#fb9f3a\"], [0.8888888888888888, \"#fdca26\"], [1.0, \"#f0f921\"]], \"type\": \"heatmap\"}], \"heatmapgl\": [{\"colorbar\": {\"outlinewidth\": 0, \"ticks\": \"\"}, \"colorscale\": [[0.0, \"#0d0887\"], [0.1111111111111111, \"#46039f\"], [0.2222222222222222, \"#7201a8\"], [0.3333333333333333, \"#9c179e\"], [0.4444444444444444, \"#bd3786\"], [0.5555555555555556, \"#d8576b\"], [0.6666666666666666, \"#ed7953\"], [0.7777777777777778, \"#fb9f3a\"], [0.8888888888888888, \"#fdca26\"], [1.0, \"#f0f921\"]], \"type\": \"heatmapgl\"}], \"histogram\": [{\"marker\": {\"colorbar\": {\"outlinewidth\": 0, \"ticks\": \"\"}}, \"type\": \"histogram\"}], \"histogram2d\": [{\"colorbar\": {\"outlinewidth\": 0, \"ticks\": \"\"}, \"colorscale\": [[0.0, \"#0d0887\"], [0.1111111111111111, \"#46039f\"], [0.2222222222222222, \"#7201a8\"], [0.3333333333333333, \"#9c179e\"], [0.4444444444444444, \"#bd3786\"], [0.5555555555555556, \"#d8576b\"], [0.6666666666666666, \"#ed7953\"], [0.7777777777777778, \"#fb9f3a\"], [0.8888888888888888, \"#fdca26\"], [1.0, \"#f0f921\"]], \"type\": \"histogram2d\"}], \"histogram2dcontour\": [{\"colorbar\": {\"outlinewidth\": 0, \"ticks\": \"\"}, \"colorscale\": [[0.0, \"#0d0887\"], [0.1111111111111111, \"#46039f\"], [0.2222222222222222, \"#7201a8\"], [0.3333333333333333, \"#9c179e\"], [0.4444444444444444, \"#bd3786\"], [0.5555555555555556, \"#d8576b\"], [0.6666666666666666, \"#ed7953\"], [0.7777777777777778, \"#fb9f3a\"], [0.8888888888888888, \"#fdca26\"], [1.0, \"#f0f921\"]], \"type\": \"histogram2dcontour\"}], \"mesh3d\": [{\"colorbar\": {\"outlinewidth\": 0, \"ticks\": \"\"}, \"type\": \"mesh3d\"}], \"parcoords\": [{\"line\": {\"colorbar\": {\"outlinewidth\": 0, \"ticks\": \"\"}}, \"type\": \"parcoords\"}], \"pie\": [{\"automargin\": true, \"type\": \"pie\"}], \"scatter\": [{\"marker\": {\"colorbar\": {\"outlinewidth\": 0, \"ticks\": \"\"}}, \"type\": \"scatter\"}], \"scatter3d\": [{\"line\": {\"colorbar\": {\"outlinewidth\": 0, \"ticks\": \"\"}}, \"marker\": {\"colorbar\": {\"outlinewidth\": 0, \"ticks\": \"\"}}, \"type\": \"scatter3d\"}], \"scattercarpet\": [{\"marker\": {\"colorbar\": {\"outlinewidth\": 0, \"ticks\": \"\"}}, \"type\": \"scattercarpet\"}], \"scattergeo\": [{\"marker\": {\"colorbar\": {\"outlinewidth\": 0, \"ticks\": \"\"}}, \"type\": \"scattergeo\"}], \"scattergl\": [{\"marker\": {\"colorbar\": {\"outlinewidth\": 0, \"ticks\": \"\"}}, \"type\": \"scattergl\"}], \"scattermapbox\": [{\"marker\": {\"colorbar\": {\"outlinewidth\": 0, \"ticks\": \"\"}}, \"type\": \"scattermapbox\"}], \"scatterpolar\": [{\"marker\": {\"colorbar\": {\"outlinewidth\": 0, \"ticks\": \"\"}}, \"type\": \"scatterpolar\"}], \"scatterpolargl\": [{\"marker\": {\"colorbar\": {\"outlinewidth\": 0, \"ticks\": \"\"}}, \"type\": \"scatterpolargl\"}], \"scatterternary\": [{\"marker\": {\"colorbar\": {\"outlinewidth\": 0, \"ticks\": \"\"}}, \"type\": \"scatterternary\"}], \"surface\": [{\"colorbar\": {\"outlinewidth\": 0, \"ticks\": \"\"}, \"colorscale\": [[0.0, \"#0d0887\"], [0.1111111111111111, \"#46039f\"], [0.2222222222222222, \"#7201a8\"], [0.3333333333333333, \"#9c179e\"], [0.4444444444444444, \"#bd3786\"], [0.5555555555555556, \"#d8576b\"], [0.6666666666666666, \"#ed7953\"], [0.7777777777777778, \"#fb9f3a\"], [0.8888888888888888, \"#fdca26\"], [1.0, \"#f0f921\"]], \"type\": \"surface\"}], \"table\": [{\"cells\": {\"fill\": {\"color\": \"#EBF0F8\"}, \"line\": {\"color\": \"white\"}}, \"header\": {\"fill\": {\"color\": \"#C8D4E3\"}, \"line\": {\"color\": \"white\"}}, \"type\": \"table\"}]}, \"layout\": {\"annotationdefaults\": {\"arrowcolor\": \"#2a3f5f\", \"arrowhead\": 0, \"arrowwidth\": 1}, \"coloraxis\": {\"colorbar\": {\"outlinewidth\": 0, \"ticks\": \"\"}}, \"colorscale\": {\"diverging\": [[0, \"#8e0152\"], [0.1, \"#c51b7d\"], [0.2, \"#de77ae\"], [0.3, \"#f1b6da\"], [0.4, \"#fde0ef\"], [0.5, \"#f7f7f7\"], [0.6, \"#e6f5d0\"], [0.7, \"#b8e186\"], [0.8, \"#7fbc41\"], [0.9, \"#4d9221\"], [1, \"#276419\"]], \"sequential\": [[0.0, \"#0d0887\"], [0.1111111111111111, \"#46039f\"], [0.2222222222222222, \"#7201a8\"], [0.3333333333333333, \"#9c179e\"], [0.4444444444444444, \"#bd3786\"], [0.5555555555555556, \"#d8576b\"], [0.6666666666666666, \"#ed7953\"], [0.7777777777777778, \"#fb9f3a\"], [0.8888888888888888, \"#fdca26\"], [1.0, \"#f0f921\"]], \"sequentialminus\": [[0.0, \"#0d0887\"], [0.1111111111111111, \"#46039f\"], [0.2222222222222222, \"#7201a8\"], [0.3333333333333333, \"#9c179e\"], [0.4444444444444444, \"#bd3786\"], [0.5555555555555556, \"#d8576b\"], [0.6666666666666666, \"#ed7953\"], [0.7777777777777778, \"#fb9f3a\"], [0.8888888888888888, \"#fdca26\"], [1.0, \"#f0f921\"]]}, \"colorway\": [\"#636efa\", \"#EF553B\", \"#00cc96\", \"#ab63fa\", \"#FFA15A\", \"#19d3f3\", \"#FF6692\", \"#B6E880\", \"#FF97FF\", \"#FECB52\"], \"font\": {\"color\": \"#2a3f5f\"}, \"geo\": {\"bgcolor\": \"white\", \"lakecolor\": \"white\", \"landcolor\": \"#E5ECF6\", \"showlakes\": true, \"showland\": true, \"subunitcolor\": \"white\"}, \"hoverlabel\": {\"align\": \"left\"}, \"hovermode\": \"closest\", \"mapbox\": {\"style\": \"light\"}, \"paper_bgcolor\": \"white\", \"plot_bgcolor\": \"#E5ECF6\", \"polar\": {\"angularaxis\": {\"gridcolor\": \"white\", \"linecolor\": \"white\", \"ticks\": \"\"}, \"bgcolor\": \"#E5ECF6\", \"radialaxis\": {\"gridcolor\": \"white\", \"linecolor\": \"white\", \"ticks\": \"\"}}, \"scene\": {\"xaxis\": {\"backgroundcolor\": \"#E5ECF6\", \"gridcolor\": \"white\", \"gridwidth\": 2, \"linecolor\": \"white\", \"showbackground\": true, \"ticks\": \"\", \"zerolinecolor\": \"white\"}, \"yaxis\": {\"backgroundcolor\": \"#E5ECF6\", \"gridcolor\": \"white\", \"gridwidth\": 2, \"linecolor\": \"white\", \"showbackground\": true, \"ticks\": \"\", \"zerolinecolor\": \"white\"}, \"zaxis\": {\"backgroundcolor\": \"#E5ECF6\", \"gridcolor\": \"white\", \"gridwidth\": 2, \"linecolor\": \"white\", \"showbackground\": true, \"ticks\": \"\", \"zerolinecolor\": \"white\"}}, \"shapedefaults\": {\"line\": {\"color\": \"#2a3f5f\"}}, \"ternary\": {\"aaxis\": {\"gridcolor\": \"white\", \"linecolor\": \"white\", \"ticks\": \"\"}, \"baxis\": {\"gridcolor\": \"white\", \"linecolor\": \"white\", \"ticks\": \"\"}, \"bgcolor\": \"#E5ECF6\", \"caxis\": {\"gridcolor\": \"white\", \"linecolor\": \"white\", \"ticks\": \"\"}}, \"title\": {\"x\": 0.05}, \"xaxis\": {\"automargin\": true, \"gridcolor\": \"white\", \"linecolor\": \"white\", \"ticks\": \"\", \"title\": {\"standoff\": 15}, \"zerolinecolor\": \"white\", \"zerolinewidth\": 2}, \"yaxis\": {\"automargin\": true, \"gridcolor\": \"white\", \"linecolor\": \"white\", \"ticks\": \"\", \"title\": {\"standoff\": 15}, \"zerolinecolor\": \"white\", \"zerolinewidth\": 2}}}, \"xaxis\": {\"anchor\": \"y\", \"domain\": [0.0, 1.0], \"title\": {\"text\": \"age\"}}, \"yaxis\": {\"anchor\": \"x\", \"domain\": [0.0, 1.0], \"title\": {\"text\": \"count\"}}},\n",
              "                        {\"responsive\": true}\n",
              "                    ).then(function(){\n",
              "                            \n",
              "var gd = document.getElementById('cbad85d5-8391-44ac-8631-c20dbeebd6e0');\n",
              "var x = new MutationObserver(function (mutations, observer) {{\n",
              "        var display = window.getComputedStyle(gd).display;\n",
              "        if (!display || display === 'none') {{\n",
              "            console.log([gd, 'removed!']);\n",
              "            Plotly.purge(gd);\n",
              "            observer.disconnect();\n",
              "        }}\n",
              "}});\n",
              "\n",
              "// Listen for the removal of the full notebook cells\n",
              "var notebookContainer = gd.closest('#notebook-container');\n",
              "if (notebookContainer) {{\n",
              "    x.observe(notebookContainer, {childList: true});\n",
              "}}\n",
              "\n",
              "// Listen for the clearing of the current output cell\n",
              "var outputEl = gd.closest('.output');\n",
              "if (outputEl) {{\n",
              "    x.observe(outputEl, {childList: true});\n",
              "}}\n",
              "\n",
              "                        })\n",
              "                };\n",
              "                \n",
              "            </script>\n",
              "        </div>\n",
              "</body>\n",
              "</html>"
            ]
          },
          "metadata": {}
        }
      ]
    },
    {
      "cell_type": "code",
      "metadata": {
        "colab": {
          "base_uri": "https://localhost:8080/",
          "height": 542
        },
        "id": "H3LZnGa8LnRy",
        "outputId": "5526aae5-4e6d-4643-a0cd-0b65b087028a"
      },
      "source": [
        "px.histogram(data,x='poutcome',barmode='group',color='y')"
      ],
      "execution_count": null,
      "outputs": [
        {
          "output_type": "display_data",
          "data": {
            "text/html": [
              "<html>\n",
              "<head><meta charset=\"utf-8\" /></head>\n",
              "<body>\n",
              "    <div>\n",
              "            <script src=\"https://cdnjs.cloudflare.com/ajax/libs/mathjax/2.7.5/MathJax.js?config=TeX-AMS-MML_SVG\"></script><script type=\"text/javascript\">if (window.MathJax) {MathJax.Hub.Config({SVG: {font: \"STIX-Web\"}});}</script>\n",
              "                <script type=\"text/javascript\">window.PlotlyConfig = {MathJaxConfig: 'local'};</script>\n",
              "        <script src=\"https://cdn.plot.ly/plotly-latest.min.js\"></script>    \n",
              "            <div id=\"bf25bac3-2154-42df-b4cc-d27ca4ca2717\" class=\"plotly-graph-div\" style=\"height:525px; width:100%;\"></div>\n",
              "            <script type=\"text/javascript\">\n",
              "                \n",
              "                    window.PLOTLYENV=window.PLOTLYENV || {};\n",
              "                    \n",
              "                if (document.getElementById(\"bf25bac3-2154-42df-b4cc-d27ca4ca2717\")) {\n",
              "                    Plotly.newPlot(\n",
              "                        'bf25bac3-2154-42df-b4cc-d27ca4ca2717',\n",
              "                        [{\"alignmentgroup\": \"True\", \"bingroup\": \"x\", \"hoverlabel\": {\"namelength\": 0}, \"hovertemplate\": \"y=no<br>poutcome=%{x}<br>count=%{y}\", \"legendgroup\": \"y=no\", \"marker\": {\"color\": \"#636efa\"}, \"name\": \"y=no\", \"offsetgroup\": \"y=no\", \"orientation\": \"v\", \"showlegend\": true, \"type\": \"histogram\", \"x\": [\"nonexistent\", \"nonexistent\", \"nonexistent\", \"nonexistent\", \"nonexistent\", \"failure\", \"nonexistent\", \"nonexistent\", \"failure\", \"nonexistent\", \"nonexistent\", \"nonexistent\", \"nonexistent\", \"nonexistent\", \"nonexistent\", \"nonexistent\", \"nonexistent\", \"nonexistent\", \"nonexistent\", \"nonexistent\", \"nonexistent\", \"nonexistent\", \"nonexistent\", \"nonexistent\", \"failure\", \"nonexistent\", \"nonexistent\", \"failure\", \"nonexistent\", \"nonexistent\", \"nonexistent\", \"nonexistent\", \"nonexistent\", \"nonexistent\", \"nonexistent\", \"failure\", \"failure\", \"nonexistent\", \"nonexistent\", \"failure\", \"nonexistent\", \"nonexistent\", \"nonexistent\", \"nonexistent\", \"nonexistent\", \"nonexistent\", \"nonexistent\", \"failure\", \"nonexistent\", \"nonexistent\", \"nonexistent\", \"nonexistent\", \"nonexistent\", \"nonexistent\", \"nonexistent\", \"failure\", \"nonexistent\", \"nonexistent\", \"nonexistent\", \"nonexistent\", \"nonexistent\", \"nonexistent\", \"failure\", \"nonexistent\", \"nonexistent\", \"nonexistent\", \"nonexistent\", \"nonexistent\", \"nonexistent\", \"nonexistent\", \"nonexistent\", \"nonexistent\", \"nonexistent\", \"success\", \"nonexistent\", \"nonexistent\", \"nonexistent\", \"nonexistent\", \"nonexistent\", \"failure\", \"nonexistent\", \"nonexistent\", \"nonexistent\", \"nonexistent\", \"nonexistent\", \"nonexistent\", \"nonexistent\", \"nonexistent\", \"failure\", \"nonexistent\", \"nonexistent\", \"nonexistent\", \"nonexistent\", \"nonexistent\", \"nonexistent\", \"nonexistent\", \"nonexistent\", \"nonexistent\", \"nonexistent\", \"nonexistent\", \"nonexistent\", \"failure\", \"nonexistent\", \"nonexistent\", \"nonexistent\", \"nonexistent\", \"nonexistent\", \"nonexistent\", \"failure\", \"nonexistent\", \"failure\", \"nonexistent\", \"nonexistent\", \"failure\", \"nonexistent\", \"nonexistent\", \"nonexistent\", \"nonexistent\", \"nonexistent\", \"nonexistent\", \"nonexistent\", \"nonexistent\", \"nonexistent\", \"nonexistent\", \"nonexistent\", \"nonexistent\", \"nonexistent\", \"nonexistent\", \"nonexistent\", \"nonexistent\", \"failure\", \"nonexistent\", \"nonexistent\", \"nonexistent\", \"nonexistent\", \"nonexistent\", \"nonexistent\", \"nonexistent\", \"nonexistent\", \"nonexistent\", \"nonexistent\", \"failure\", \"nonexistent\", \"failure\", \"nonexistent\", \"nonexistent\", \"nonexistent\", \"nonexistent\", \"nonexistent\", \"nonexistent\", \"nonexistent\", \"nonexistent\", \"failure\", \"nonexistent\", \"nonexistent\", \"nonexistent\", \"nonexistent\", \"nonexistent\", \"nonexistent\", \"nonexistent\", \"nonexistent\", \"nonexistent\", \"nonexistent\", \"nonexistent\", \"nonexistent\", \"nonexistent\", \"nonexistent\", \"nonexistent\", \"nonexistent\", \"nonexistent\", \"failure\", \"failure\", \"nonexistent\", \"nonexistent\", \"nonexistent\", \"failure\", \"nonexistent\", \"nonexistent\", \"nonexistent\", \"success\", \"nonexistent\", \"nonexistent\", \"nonexistent\", \"nonexistent\", \"nonexistent\", \"nonexistent\", \"nonexistent\", \"nonexistent\", \"failure\", \"failure\", \"nonexistent\", \"nonexistent\", \"nonexistent\", \"nonexistent\", \"nonexistent\", \"nonexistent\", \"nonexistent\", \"nonexistent\", \"nonexistent\", \"nonexistent\", \"failure\", \"nonexistent\", \"nonexistent\", \"nonexistent\", \"nonexistent\", \"nonexistent\", \"nonexistent\", \"nonexistent\", \"nonexistent\", \"nonexistent\", \"nonexistent\", \"nonexistent\", \"nonexistent\", \"nonexistent\", \"nonexistent\", \"nonexistent\", \"nonexistent\", \"nonexistent\", \"nonexistent\", \"failure\", \"nonexistent\", \"nonexistent\", \"nonexistent\", \"nonexistent\", \"nonexistent\", \"nonexistent\", \"nonexistent\", \"nonexistent\", \"nonexistent\", \"nonexistent\", \"nonexistent\", \"nonexistent\", \"nonexistent\", \"nonexistent\", \"nonexistent\", \"nonexistent\", \"nonexistent\", \"nonexistent\", \"nonexistent\", \"nonexistent\", \"nonexistent\", \"nonexistent\", \"nonexistent\", \"failure\", \"nonexistent\", \"nonexistent\", \"nonexistent\", \"nonexistent\", \"nonexistent\", \"nonexistent\", \"nonexistent\", \"failure\", \"nonexistent\", \"nonexistent\", \"nonexistent\", \"nonexistent\", \"failure\", \"nonexistent\", \"nonexistent\", \"failure\", \"nonexistent\", \"nonexistent\", \"nonexistent\", \"nonexistent\", \"failure\", \"nonexistent\", \"nonexistent\", \"nonexistent\", \"nonexistent\", \"nonexistent\", \"nonexistent\", \"nonexistent\", \"nonexistent\", \"nonexistent\", \"nonexistent\", \"nonexistent\", \"nonexistent\", \"nonexistent\", \"nonexistent\", \"nonexistent\", \"nonexistent\", \"nonexistent\", \"nonexistent\", \"nonexistent\", \"success\", \"nonexistent\", \"nonexistent\", \"nonexistent\", \"nonexistent\", \"nonexistent\", \"nonexistent\", \"nonexistent\", \"nonexistent\", \"nonexistent\", \"nonexistent\", \"nonexistent\", \"nonexistent\", \"nonexistent\", \"nonexistent\", \"failure\", \"nonexistent\", \"nonexistent\", \"nonexistent\", \"nonexistent\", \"nonexistent\", \"nonexistent\", \"nonexistent\", \"success\", \"nonexistent\", \"nonexistent\", \"nonexistent\", \"nonexistent\", \"nonexistent\", \"nonexistent\", \"nonexistent\", \"nonexistent\", \"nonexistent\", \"nonexistent\", \"nonexistent\", \"failure\", \"nonexistent\", \"nonexistent\", \"nonexistent\", \"nonexistent\", \"nonexistent\", \"nonexistent\", \"nonexistent\", \"nonexistent\", \"nonexistent\", \"nonexistent\", \"nonexistent\", \"nonexistent\", \"nonexistent\", \"nonexistent\", \"nonexistent\", \"nonexistent\", \"nonexistent\", \"nonexistent\", \"nonexistent\", \"nonexistent\", \"nonexistent\", \"nonexistent\", \"nonexistent\", \"nonexistent\", \"nonexistent\", \"nonexistent\", \"nonexistent\", \"nonexistent\", \"failure\", \"nonexistent\", \"nonexistent\", \"nonexistent\", \"nonexistent\", \"nonexistent\", \"nonexistent\", \"nonexistent\", \"nonexistent\", \"nonexistent\", \"nonexistent\", \"failure\", \"nonexistent\", \"nonexistent\", \"nonexistent\", \"nonexistent\", \"nonexistent\", \"success\", \"nonexistent\", \"nonexistent\", \"nonexistent\", \"nonexistent\", \"nonexistent\", \"nonexistent\", \"nonexistent\", \"nonexistent\", \"nonexistent\", \"nonexistent\", \"failure\", \"nonexistent\", \"nonexistent\", \"nonexistent\", \"nonexistent\", \"nonexistent\", \"failure\", \"nonexistent\", \"nonexistent\", \"nonexistent\", \"failure\", \"nonexistent\", \"nonexistent\", \"nonexistent\", \"nonexistent\", \"nonexistent\", \"nonexistent\", \"nonexistent\", \"failure\", \"nonexistent\", \"nonexistent\", \"nonexistent\", \"nonexistent\", \"nonexistent\", \"nonexistent\", \"nonexistent\", \"nonexistent\", \"nonexistent\", \"nonexistent\", \"nonexistent\", \"nonexistent\", \"nonexistent\", \"nonexistent\", \"nonexistent\", \"failure\", \"nonexistent\", \"nonexistent\", \"nonexistent\", \"nonexistent\", \"nonexistent\", \"nonexistent\", \"nonexistent\", \"nonexistent\", \"success\", \"nonexistent\", \"nonexistent\", \"nonexistent\", \"nonexistent\", \"failure\", \"nonexistent\", \"nonexistent\", \"nonexistent\", \"nonexistent\", \"nonexistent\", \"nonexistent\", \"nonexistent\", \"nonexistent\", \"nonexistent\", \"nonexistent\", \"nonexistent\", \"nonexistent\", \"nonexistent\", \"nonexistent\", \"nonexistent\", \"failure\", \"nonexistent\", \"nonexistent\", \"failure\", \"nonexistent\", \"nonexistent\", \"nonexistent\", \"failure\", \"nonexistent\", \"nonexistent\", \"nonexistent\", \"nonexistent\", \"nonexistent\", \"nonexistent\", \"nonexistent\", \"nonexistent\", \"nonexistent\", \"nonexistent\", \"failure\", \"nonexistent\", \"nonexistent\", \"nonexistent\", \"failure\", \"nonexistent\", \"failure\", \"nonexistent\", \"nonexistent\", \"nonexistent\", \"nonexistent\", \"nonexistent\", \"nonexistent\", \"nonexistent\", \"nonexistent\", \"nonexistent\", \"nonexistent\", \"nonexistent\", \"nonexistent\", \"nonexistent\", \"nonexistent\", \"nonexistent\", \"nonexistent\", \"failure\", \"nonexistent\", \"nonexistent\", \"nonexistent\", \"nonexistent\", \"nonexistent\", \"nonexistent\", \"nonexistent\", \"nonexistent\", \"nonexistent\", \"nonexistent\", \"nonexistent\", \"nonexistent\", \"nonexistent\", \"nonexistent\", \"nonexistent\", \"nonexistent\", \"nonexistent\", \"nonexistent\", \"nonexistent\", \"nonexistent\", \"nonexistent\", \"nonexistent\", \"nonexistent\", \"nonexistent\", \"nonexistent\", \"nonexistent\", \"nonexistent\", \"nonexistent\", \"nonexistent\", \"nonexistent\", \"nonexistent\", \"nonexistent\", \"nonexistent\", \"nonexistent\", \"nonexistent\", \"nonexistent\", \"nonexistent\", \"nonexistent\", \"nonexistent\", \"nonexistent\", \"nonexistent\", \"nonexistent\", \"nonexistent\", \"nonexistent\", \"nonexistent\", \"nonexistent\", \"nonexistent\", \"nonexistent\", \"nonexistent\", \"nonexistent\", \"nonexistent\", \"nonexistent\", \"nonexistent\", \"failure\", \"nonexistent\", \"nonexistent\", \"nonexistent\", \"nonexistent\", \"nonexistent\", \"failure\", \"nonexistent\", \"nonexistent\", \"nonexistent\", \"nonexistent\", \"nonexistent\", \"failure\", \"nonexistent\", \"nonexistent\", \"nonexistent\", \"nonexistent\", \"nonexistent\", \"nonexistent\", \"nonexistent\", \"nonexistent\", \"nonexistent\", \"nonexistent\", \"nonexistent\", \"nonexistent\", \"nonexistent\", \"failure\", \"nonexistent\", \"nonexistent\", \"nonexistent\", \"nonexistent\", \"nonexistent\", \"failure\", \"nonexistent\", \"nonexistent\", \"nonexistent\", \"nonexistent\", \"nonexistent\", \"nonexistent\", \"nonexistent\", \"failure\", \"nonexistent\", \"nonexistent\", \"nonexistent\", \"nonexistent\", \"nonexistent\", \"nonexistent\", \"nonexistent\", \"nonexistent\", \"nonexistent\", \"nonexistent\", \"nonexistent\", \"failure\", \"nonexistent\", \"failure\", \"nonexistent\", \"nonexistent\", \"failure\", \"nonexistent\", \"failure\", \"nonexistent\", \"nonexistent\", \"nonexistent\", \"nonexistent\", \"nonexistent\", \"success\", \"nonexistent\", \"nonexistent\", \"nonexistent\", \"nonexistent\", \"nonexistent\", \"nonexistent\", \"nonexistent\", \"nonexistent\", \"nonexistent\", \"nonexistent\", \"nonexistent\", \"nonexistent\", \"nonexistent\", \"nonexistent\", \"nonexistent\", \"nonexistent\", \"failure\", \"failure\", \"nonexistent\", \"nonexistent\", \"failure\", \"nonexistent\", \"nonexistent\", \"nonexistent\", \"nonexistent\", \"nonexistent\", \"nonexistent\", \"nonexistent\", \"nonexistent\", \"nonexistent\", \"nonexistent\", \"nonexistent\", \"nonexistent\", \"nonexistent\", \"nonexistent\", \"nonexistent\", \"nonexistent\", \"failure\", \"nonexistent\", \"nonexistent\", \"nonexistent\", \"nonexistent\", \"nonexistent\", \"failure\", \"nonexistent\", \"nonexistent\", \"nonexistent\", \"nonexistent\", \"nonexistent\", \"nonexistent\", \"nonexistent\", \"nonexistent\", \"nonexistent\", \"nonexistent\", \"nonexistent\", \"nonexistent\", \"nonexistent\", \"nonexistent\", \"nonexistent\", \"failure\", \"nonexistent\", \"nonexistent\", \"nonexistent\", \"failure\", \"nonexistent\", \"failure\", \"nonexistent\", \"nonexistent\", \"nonexistent\", \"nonexistent\", \"nonexistent\", \"nonexistent\", \"nonexistent\", \"failure\", \"nonexistent\", \"nonexistent\", \"failure\", \"nonexistent\", \"failure\", \"nonexistent\", \"nonexistent\", \"nonexistent\", \"nonexistent\", \"nonexistent\", \"nonexistent\", \"success\", \"nonexistent\", \"nonexistent\", \"failure\", \"nonexistent\", \"nonexistent\", \"nonexistent\", \"nonexistent\", \"nonexistent\", \"failure\", \"nonexistent\", \"failure\", \"nonexistent\", \"nonexistent\", \"nonexistent\", \"nonexistent\", \"nonexistent\", \"nonexistent\", \"nonexistent\", \"nonexistent\", \"nonexistent\", \"failure\", \"nonexistent\", \"failure\", \"failure\", \"nonexistent\", \"nonexistent\", \"nonexistent\", \"failure\", \"nonexistent\", \"failure\", \"nonexistent\", \"nonexistent\", \"nonexistent\", \"failure\", \"nonexistent\", \"nonexistent\", \"nonexistent\", \"nonexistent\", \"nonexistent\", \"failure\", \"nonexistent\", \"nonexistent\", \"nonexistent\", \"nonexistent\", \"nonexistent\", \"nonexistent\", \"nonexistent\", \"nonexistent\", \"nonexistent\", \"nonexistent\", \"nonexistent\", \"nonexistent\", \"nonexistent\", \"failure\", \"nonexistent\", \"failure\", \"nonexistent\", \"nonexistent\", \"nonexistent\", \"nonexistent\", \"nonexistent\", \"nonexistent\", \"nonexistent\", \"nonexistent\", \"nonexistent\", \"nonexistent\", \"nonexistent\", \"nonexistent\", \"nonexistent\", \"failure\", \"nonexistent\", \"nonexistent\", \"nonexistent\", \"nonexistent\", \"nonexistent\", \"failure\", \"nonexistent\", \"nonexistent\", \"nonexistent\", \"nonexistent\", \"nonexistent\", \"failure\", \"nonexistent\", \"failure\", \"failure\", \"nonexistent\", \"nonexistent\", \"nonexistent\", \"nonexistent\", \"nonexistent\", \"nonexistent\", \"failure\", \"nonexistent\", \"nonexistent\", \"nonexistent\", \"nonexistent\", \"failure\", \"nonexistent\", \"nonexistent\", \"nonexistent\", \"nonexistent\", \"nonexistent\", \"failure\", \"nonexistent\", \"nonexistent\", \"nonexistent\", \"nonexistent\", \"nonexistent\", \"nonexistent\", \"nonexistent\", \"nonexistent\", \"nonexistent\", \"nonexistent\", \"nonexistent\", \"nonexistent\", \"nonexistent\", \"nonexistent\", \"nonexistent\", \"nonexistent\", \"nonexistent\", \"nonexistent\", \"nonexistent\", \"nonexistent\", \"nonexistent\", \"success\", \"nonexistent\", \"nonexistent\", \"nonexistent\", \"nonexistent\", \"nonexistent\", \"nonexistent\", \"failure\", \"nonexistent\", \"nonexistent\", \"failure\", \"failure\", \"nonexistent\", \"nonexistent\", \"failure\", \"failure\", \"failure\", \"nonexistent\", \"nonexistent\", \"nonexistent\", \"nonexistent\", \"nonexistent\", \"nonexistent\", \"failure\", \"nonexistent\", \"nonexistent\", \"nonexistent\", \"nonexistent\", \"nonexistent\", \"nonexistent\", \"nonexistent\", \"nonexistent\", \"nonexistent\", \"failure\", \"nonexistent\", \"nonexistent\", \"nonexistent\", \"nonexistent\", \"nonexistent\", \"nonexistent\", \"nonexistent\", \"nonexistent\", \"nonexistent\", \"nonexistent\", \"nonexistent\", \"failure\", \"nonexistent\", \"nonexistent\", \"nonexistent\", \"failure\", \"nonexistent\", \"nonexistent\", \"nonexistent\", \"nonexistent\", \"nonexistent\", \"failure\", \"nonexistent\", \"failure\", \"nonexistent\", \"nonexistent\", \"nonexistent\", \"failure\", \"nonexistent\", \"nonexistent\", \"nonexistent\", \"failure\", \"nonexistent\", \"nonexistent\", \"nonexistent\", \"nonexistent\", \"nonexistent\", \"nonexistent\", \"nonexistent\", \"nonexistent\", \"nonexistent\", \"nonexistent\", \"failure\", \"nonexistent\", \"nonexistent\", \"nonexistent\", \"nonexistent\", \"nonexistent\", \"success\", \"failure\", \"nonexistent\", \"nonexistent\", \"nonexistent\", \"nonexistent\", \"nonexistent\", \"nonexistent\", \"nonexistent\", \"nonexistent\", \"nonexistent\", \"failure\", \"nonexistent\", \"nonexistent\", \"nonexistent\", \"nonexistent\", \"nonexistent\", \"nonexistent\", \"failure\", \"nonexistent\", \"nonexistent\", \"failure\", \"success\", \"nonexistent\", \"nonexistent\", \"nonexistent\", \"nonexistent\", \"nonexistent\", \"nonexistent\", \"nonexistent\", \"nonexistent\", \"nonexistent\", \"nonexistent\", \"nonexistent\", \"nonexistent\", \"nonexistent\", \"nonexistent\", \"nonexistent\", \"failure\", \"nonexistent\", \"nonexistent\", \"nonexistent\", \"nonexistent\", \"nonexistent\", \"nonexistent\", \"nonexistent\", \"nonexistent\", \"nonexistent\", \"nonexistent\", \"nonexistent\", \"nonexistent\", \"nonexistent\", \"failure\", \"nonexistent\", \"nonexistent\", \"nonexistent\", \"nonexistent\", \"nonexistent\", \"nonexistent\", \"failure\", \"nonexistent\", \"nonexistent\", \"nonexistent\", \"failure\", \"nonexistent\", \"nonexistent\", \"nonexistent\", \"nonexistent\", \"nonexistent\", \"nonexistent\", \"nonexistent\", \"nonexistent\", \"nonexistent\", \"nonexistent\", \"nonexistent\", \"nonexistent\", \"failure\", \"nonexistent\", \"nonexistent\", \"nonexistent\", \"nonexistent\", \"nonexistent\", \"nonexistent\", \"nonexistent\", \"nonexistent\", \"nonexistent\", \"nonexistent\", \"nonexistent\", \"nonexistent\", \"nonexistent\", \"nonexistent\", \"success\", \"nonexistent\", \"nonexistent\", \"nonexistent\", \"nonexistent\", \"nonexistent\", \"nonexistent\", \"nonexistent\", \"nonexistent\", \"nonexistent\", \"nonexistent\", \"nonexistent\", \"failure\", \"nonexistent\", \"success\", \"nonexistent\", \"nonexistent\", \"nonexistent\", \"nonexistent\", \"nonexistent\", \"nonexistent\", \"nonexistent\", \"nonexistent\", \"nonexistent\", \"nonexistent\", \"nonexistent\", \"nonexistent\", \"nonexistent\", \"nonexistent\", \"failure\", \"nonexistent\", \"nonexistent\", \"nonexistent\", \"nonexistent\", \"nonexistent\", \"nonexistent\", \"nonexistent\", \"nonexistent\", \"nonexistent\", \"nonexistent\", \"nonexistent\", \"nonexistent\", \"failure\", \"nonexistent\", \"failure\", \"nonexistent\", \"nonexistent\", \"nonexistent\", \"nonexistent\", \"nonexistent\", \"failure\", \"nonexistent\", \"nonexistent\", \"nonexistent\", \"nonexistent\", \"nonexistent\", \"nonexistent\", \"nonexistent\", \"nonexistent\", \"nonexistent\", \"nonexistent\", \"nonexistent\", \"nonexistent\", \"nonexistent\", \"nonexistent\", \"nonexistent\", \"nonexistent\", \"nonexistent\", \"nonexistent\", \"failure\", \"nonexistent\", \"nonexistent\", \"nonexistent\", \"nonexistent\", \"nonexistent\", \"failure\", \"nonexistent\", \"nonexistent\", \"success\", \"nonexistent\", \"nonexistent\", \"nonexistent\", \"nonexistent\", \"failure\", \"nonexistent\", \"nonexistent\", \"nonexistent\", \"nonexistent\", \"nonexistent\", \"nonexistent\", \"nonexistent\", \"nonexistent\", \"nonexistent\", \"nonexistent\", \"nonexistent\", \"nonexistent\", \"nonexistent\", \"nonexistent\", \"nonexistent\", \"nonexistent\", \"nonexistent\", \"nonexistent\", \"nonexistent\", \"nonexistent\", \"nonexistent\", \"nonexistent\", \"nonexistent\", \"failure\", \"nonexistent\", \"nonexistent\", \"nonexistent\", \"nonexistent\", \"nonexistent\", \"nonexistent\", \"nonexistent\", \"nonexistent\", \"nonexistent\", \"nonexistent\", \"nonexistent\", \"nonexistent\", \"failure\", \"nonexistent\", \"nonexistent\", \"nonexistent\", \"nonexistent\", \"nonexistent\", \"success\", \"nonexistent\", \"nonexistent\", \"nonexistent\", \"nonexistent\", \"nonexistent\", \"nonexistent\", \"nonexistent\", \"nonexistent\", \"nonexistent\", \"nonexistent\", \"nonexistent\", \"nonexistent\", \"nonexistent\", \"failure\", \"nonexistent\", \"nonexistent\", \"nonexistent\", \"nonexistent\", \"nonexistent\", \"nonexistent\", \"nonexistent\", \"success\", \"nonexistent\", \"failure\", \"nonexistent\", \"nonexistent\", \"nonexistent\", \"nonexistent\", \"nonexistent\", \"nonexistent\", \"nonexistent\", \"nonexistent\", \"failure\", \"nonexistent\", \"nonexistent\", \"nonexistent\", \"nonexistent\", \"nonexistent\", \"nonexistent\", \"nonexistent\", \"nonexistent\", \"nonexistent\", \"nonexistent\", \"nonexistent\", \"nonexistent\", \"nonexistent\", \"nonexistent\", \"nonexistent\", \"nonexistent\", \"nonexistent\", \"nonexistent\", \"failure\", \"nonexistent\", \"nonexistent\", \"nonexistent\", \"nonexistent\", \"nonexistent\", \"nonexistent\", \"nonexistent\", \"nonexistent\", \"nonexistent\", \"nonexistent\", \"nonexistent\", \"nonexistent\", \"nonexistent\", \"failure\", \"nonexistent\", \"nonexistent\", \"nonexistent\", \"nonexistent\", \"nonexistent\", \"nonexistent\", \"nonexistent\", \"nonexistent\", \"nonexistent\", \"nonexistent\", \"nonexistent\", \"nonexistent\", \"nonexistent\", \"nonexistent\", \"nonexistent\", \"nonexistent\", \"nonexistent\", \"nonexistent\", \"nonexistent\", \"nonexistent\", \"nonexistent\", \"nonexistent\", \"failure\", \"failure\", \"failure\", \"nonexistent\", \"nonexistent\", \"nonexistent\", \"nonexistent\", \"nonexistent\", \"nonexistent\", \"nonexistent\", \"nonexistent\", \"nonexistent\", \"nonexistent\", \"nonexistent\", \"nonexistent\", \"nonexistent\", \"nonexistent\", \"nonexistent\", \"nonexistent\", \"nonexistent\", \"nonexistent\", \"failure\", \"nonexistent\", \"nonexistent\", \"nonexistent\", \"failure\", \"failure\", \"nonexistent\", \"nonexistent\", \"nonexistent\", \"nonexistent\", \"failure\", \"nonexistent\", \"nonexistent\", \"nonexistent\", \"nonexistent\", \"nonexistent\", \"nonexistent\", \"nonexistent\", \"nonexistent\", \"nonexistent\", \"nonexistent\", \"nonexistent\", \"nonexistent\", \"nonexistent\", \"nonexistent\", \"nonexistent\", \"nonexistent\", \"nonexistent\", \"nonexistent\", \"nonexistent\", \"nonexistent\", \"nonexistent\", \"nonexistent\", \"nonexistent\", \"success\", \"nonexistent\", \"nonexistent\", \"failure\", \"failure\", \"nonexistent\", \"nonexistent\", \"nonexistent\", \"nonexistent\", \"nonexistent\", \"nonexistent\", \"nonexistent\", \"nonexistent\", \"nonexistent\", \"nonexistent\", \"nonexistent\", \"nonexistent\", \"nonexistent\", \"nonexistent\", \"nonexistent\", \"failure\", \"nonexistent\", \"nonexistent\", \"nonexistent\", \"nonexistent\", \"nonexistent\", \"nonexistent\", \"nonexistent\", \"nonexistent\", \"nonexistent\", \"nonexistent\", \"nonexistent\", \"nonexistent\", \"nonexistent\", \"nonexistent\", \"nonexistent\", \"nonexistent\", \"nonexistent\", \"nonexistent\", \"nonexistent\", \"nonexistent\", \"nonexistent\", \"nonexistent\", \"failure\", \"nonexistent\", \"nonexistent\", \"nonexistent\", \"nonexistent\", \"nonexistent\", \"nonexistent\", \"nonexistent\", \"nonexistent\", \"nonexistent\", \"failure\", \"nonexistent\", \"nonexistent\", \"failure\", \"nonexistent\", \"nonexistent\", \"nonexistent\", \"failure\", \"nonexistent\", \"nonexistent\", \"failure\", \"nonexistent\", \"nonexistent\", \"nonexistent\", \"nonexistent\", \"success\", \"nonexistent\", \"nonexistent\", \"nonexistent\", \"nonexistent\", \"failure\", \"nonexistent\", \"nonexistent\", \"failure\", \"nonexistent\", \"nonexistent\", \"nonexistent\", \"nonexistent\", \"nonexistent\", \"nonexistent\", \"nonexistent\", \"failure\", \"nonexistent\", \"nonexistent\", \"nonexistent\", \"nonexistent\", \"nonexistent\", \"nonexistent\", \"nonexistent\", \"nonexistent\", \"nonexistent\", \"nonexistent\", \"nonexistent\", \"nonexistent\", \"nonexistent\", \"nonexistent\", \"nonexistent\", \"nonexistent\", \"nonexistent\", \"nonexistent\", \"nonexistent\", \"nonexistent\", \"nonexistent\", \"nonexistent\", \"nonexistent\", \"failure\", \"nonexistent\", \"nonexistent\", \"nonexistent\", \"nonexistent\", \"nonexistent\", \"nonexistent\", \"nonexistent\", \"nonexistent\", \"failure\", \"nonexistent\", \"nonexistent\", \"nonexistent\", \"nonexistent\", \"nonexistent\", \"failure\", \"nonexistent\", \"nonexistent\", \"nonexistent\", \"nonexistent\", \"nonexistent\", \"failure\", \"nonexistent\", \"nonexistent\", \"nonexistent\", \"nonexistent\", \"nonexistent\", \"nonexistent\", \"nonexistent\", \"nonexistent\", \"nonexistent\", \"nonexistent\", \"nonexistent\", \"nonexistent\", \"nonexistent\", \"nonexistent\", \"nonexistent\", \"nonexistent\", \"failure\", \"nonexistent\", \"nonexistent\", \"nonexistent\", \"nonexistent\", \"nonexistent\", \"nonexistent\", \"nonexistent\", \"nonexistent\", \"nonexistent\", \"nonexistent\", \"nonexistent\", \"nonexistent\", \"nonexistent\", \"nonexistent\", \"nonexistent\", \"nonexistent\", \"nonexistent\", \"nonexistent\", \"nonexistent\", \"nonexistent\", \"nonexistent\", \"nonexistent\", \"nonexistent\", \"nonexistent\", \"nonexistent\", \"nonexistent\", \"nonexistent\", \"nonexistent\", \"failure\", \"nonexistent\", \"nonexistent\", \"nonexistent\", \"nonexistent\", \"nonexistent\", \"failure\", \"nonexistent\", \"nonexistent\", \"nonexistent\", \"nonexistent\", \"nonexistent\", \"nonexistent\", \"nonexistent\", \"nonexistent\", \"nonexistent\", \"nonexistent\", \"nonexistent\", \"nonexistent\", \"nonexistent\", \"nonexistent\", \"nonexistent\", \"nonexistent\", \"failure\", \"nonexistent\", \"nonexistent\", \"nonexistent\", \"nonexistent\", \"nonexistent\", \"nonexistent\", \"nonexistent\", \"nonexistent\", \"nonexistent\", \"nonexistent\", \"nonexistent\", \"nonexistent\", \"nonexistent\", \"nonexistent\", \"nonexistent\", \"nonexistent\", \"nonexistent\", \"nonexistent\", \"nonexistent\", \"nonexistent\", \"nonexistent\", \"nonexistent\", \"nonexistent\", \"nonexistent\", \"nonexistent\", \"nonexistent\", \"nonexistent\", \"nonexistent\", \"nonexistent\", \"nonexistent\", \"nonexistent\", \"nonexistent\", \"nonexistent\", \"nonexistent\", \"nonexistent\", \"failure\", \"success\", \"nonexistent\", \"nonexistent\", \"nonexistent\", \"failure\", \"nonexistent\", \"nonexistent\", \"nonexistent\", \"nonexistent\", \"failure\", \"nonexistent\", \"nonexistent\", \"nonexistent\", \"nonexistent\", \"nonexistent\", \"nonexistent\", \"success\", \"nonexistent\", \"nonexistent\", \"failure\", \"nonexistent\", \"nonexistent\", \"nonexistent\", \"nonexistent\", \"nonexistent\", \"nonexistent\", \"nonexistent\", \"nonexistent\", \"nonexistent\", \"nonexistent\", \"nonexistent\", \"failure\", \"failure\", \"nonexistent\", \"nonexistent\", \"nonexistent\", \"nonexistent\", \"nonexistent\", \"nonexistent\", \"nonexistent\", \"nonexistent\", \"nonexistent\", \"nonexistent\", \"nonexistent\", \"nonexistent\", \"nonexistent\", \"nonexistent\", \"nonexistent\", \"nonexistent\", \"nonexistent\", \"nonexistent\", \"nonexistent\", \"nonexistent\", \"nonexistent\", \"nonexistent\", \"nonexistent\", \"nonexistent\", \"nonexistent\", \"nonexistent\", \"nonexistent\", \"nonexistent\", \"nonexistent\", \"nonexistent\", \"nonexistent\", \"nonexistent\", \"nonexistent\", \"failure\", \"nonexistent\", \"nonexistent\", \"nonexistent\", \"nonexistent\", \"nonexistent\", \"nonexistent\", \"nonexistent\", \"nonexistent\", \"nonexistent\", \"nonexistent\", \"nonexistent\", \"nonexistent\", \"nonexistent\", \"failure\", \"nonexistent\", \"nonexistent\", \"nonexistent\", \"nonexistent\", \"nonexistent\", \"nonexistent\", \"nonexistent\", \"nonexistent\", \"nonexistent\", \"failure\", \"nonexistent\", \"nonexistent\", \"nonexistent\", \"nonexistent\", \"nonexistent\", \"nonexistent\", \"failure\", \"nonexistent\", \"nonexistent\", \"nonexistent\", \"nonexistent\", \"nonexistent\", \"nonexistent\", \"nonexistent\", \"nonexistent\", \"nonexistent\", \"nonexistent\", \"nonexistent\", \"failure\", \"nonexistent\", \"nonexistent\", \"nonexistent\", \"nonexistent\", \"nonexistent\", \"nonexistent\", \"nonexistent\", \"nonexistent\", \"nonexistent\", \"nonexistent\", \"failure\", \"nonexistent\", \"nonexistent\", \"nonexistent\", \"nonexistent\", \"nonexistent\", \"nonexistent\", \"failure\", \"nonexistent\", \"nonexistent\", \"nonexistent\", \"nonexistent\", \"nonexistent\", \"nonexistent\", \"nonexistent\", \"nonexistent\", \"nonexistent\", \"nonexistent\", \"nonexistent\", \"nonexistent\", \"nonexistent\", \"nonexistent\", \"nonexistent\", \"nonexistent\", \"nonexistent\", \"nonexistent\", \"nonexistent\", \"nonexistent\", \"nonexistent\", \"nonexistent\", \"nonexistent\", \"nonexistent\", \"nonexistent\", \"nonexistent\", \"nonexistent\", \"success\", \"nonexistent\", \"nonexistent\", \"nonexistent\", \"nonexistent\", \"failure\", \"nonexistent\", \"failure\", \"nonexistent\", \"nonexistent\", \"nonexistent\", \"failure\", \"nonexistent\", \"nonexistent\", \"nonexistent\", \"nonexistent\", \"nonexistent\", \"nonexistent\", \"nonexistent\", \"nonexistent\", \"nonexistent\", \"success\", \"nonexistent\", \"failure\", \"nonexistent\", \"nonexistent\", \"nonexistent\", \"failure\", \"failure\", \"nonexistent\", \"nonexistent\", \"nonexistent\", \"nonexistent\", \"nonexistent\", \"nonexistent\", \"nonexistent\", \"nonexistent\", \"nonexistent\", \"nonexistent\", \"nonexistent\", \"nonexistent\", \"nonexistent\", \"nonexistent\", \"nonexistent\", \"nonexistent\", \"nonexistent\", \"nonexistent\", \"nonexistent\", \"nonexistent\", \"nonexistent\", \"nonexistent\", \"nonexistent\", \"nonexistent\", \"nonexistent\", \"nonexistent\", \"nonexistent\", \"nonexistent\", \"nonexistent\", \"nonexistent\", \"nonexistent\", \"nonexistent\", \"nonexistent\", \"nonexistent\", \"nonexistent\", \"nonexistent\", \"nonexistent\", \"nonexistent\", \"nonexistent\", \"nonexistent\", \"nonexistent\", \"failure\", \"nonexistent\", \"nonexistent\", \"nonexistent\", \"nonexistent\", \"nonexistent\", \"nonexistent\", \"nonexistent\", \"nonexistent\", \"nonexistent\", \"nonexistent\", \"nonexistent\", \"nonexistent\", \"nonexistent\", \"nonexistent\", \"nonexistent\", \"nonexistent\", \"nonexistent\", \"nonexistent\", \"nonexistent\", \"nonexistent\", \"nonexistent\", \"nonexistent\", \"nonexistent\", \"nonexistent\", \"nonexistent\", \"nonexistent\", \"nonexistent\", \"nonexistent\", \"nonexistent\", \"nonexistent\", \"nonexistent\", \"nonexistent\", \"nonexistent\", \"nonexistent\", \"nonexistent\", \"nonexistent\", \"failure\", \"nonexistent\", \"failure\", \"nonexistent\", \"nonexistent\", \"failure\", \"nonexistent\", \"nonexistent\", \"nonexistent\", \"failure\", \"failure\", \"nonexistent\", \"nonexistent\", \"nonexistent\", \"nonexistent\", \"nonexistent\", \"nonexistent\", \"failure\", \"nonexistent\", \"nonexistent\", \"nonexistent\", \"nonexistent\", \"nonexistent\", \"failure\", \"nonexistent\", \"nonexistent\", \"nonexistent\", \"failure\", \"nonexistent\", \"nonexistent\", \"nonexistent\", \"nonexistent\", \"nonexistent\", \"nonexistent\", \"nonexistent\", \"failure\", \"failure\", \"nonexistent\", \"nonexistent\", \"nonexistent\", \"nonexistent\", \"failure\", \"nonexistent\", \"nonexistent\", \"nonexistent\", \"nonexistent\", \"nonexistent\", \"nonexistent\", \"nonexistent\", \"nonexistent\", \"nonexistent\", \"nonexistent\", \"nonexistent\", \"nonexistent\", \"failure\", \"nonexistent\", \"failure\", \"nonexistent\", \"nonexistent\", \"nonexistent\", \"nonexistent\", \"nonexistent\", \"nonexistent\", \"nonexistent\", \"nonexistent\", \"nonexistent\", \"nonexistent\", \"nonexistent\", \"nonexistent\", \"failure\", \"nonexistent\", \"nonexistent\", \"nonexistent\", \"nonexistent\", \"success\", \"nonexistent\", \"nonexistent\", \"nonexistent\", \"nonexistent\", \"nonexistent\", \"nonexistent\", \"failure\", \"nonexistent\", \"nonexistent\", \"nonexistent\", \"nonexistent\", \"nonexistent\", \"failure\", \"nonexistent\", \"nonexistent\", \"nonexistent\", \"nonexistent\", \"nonexistent\", \"nonexistent\", \"nonexistent\", \"nonexistent\", \"nonexistent\", \"nonexistent\", \"nonexistent\", \"nonexistent\", \"nonexistent\", \"nonexistent\", \"nonexistent\", \"nonexistent\", \"nonexistent\", \"nonexistent\", \"nonexistent\", \"failure\", \"nonexistent\", \"nonexistent\", \"nonexistent\", \"nonexistent\", \"nonexistent\", \"nonexistent\", \"nonexistent\", \"nonexistent\", \"nonexistent\", \"success\", \"nonexistent\", \"nonexistent\", \"nonexistent\", \"nonexistent\", \"failure\", \"nonexistent\", \"nonexistent\", \"nonexistent\", \"nonexistent\", \"nonexistent\", \"nonexistent\", \"nonexistent\", \"nonexistent\", \"nonexistent\", \"nonexistent\", \"nonexistent\", \"nonexistent\", \"nonexistent\", \"nonexistent\", \"nonexistent\", \"nonexistent\", \"nonexistent\", \"nonexistent\", \"nonexistent\", \"nonexistent\", \"nonexistent\", \"success\", \"nonexistent\", \"nonexistent\", \"nonexistent\", \"nonexistent\", \"nonexistent\", \"nonexistent\", \"nonexistent\", \"failure\", \"nonexistent\", \"nonexistent\", \"nonexistent\", \"failure\", \"nonexistent\", \"nonexistent\", \"success\", \"nonexistent\", \"failure\", \"nonexistent\", \"failure\", \"nonexistent\", \"nonexistent\", \"nonexistent\", \"nonexistent\", \"nonexistent\", \"nonexistent\", \"nonexistent\", \"nonexistent\", \"nonexistent\", \"nonexistent\", \"nonexistent\", \"nonexistent\", \"nonexistent\", \"nonexistent\", \"nonexistent\", \"nonexistent\", \"nonexistent\", \"nonexistent\", \"nonexistent\", \"nonexistent\", \"nonexistent\", \"nonexistent\", \"nonexistent\", \"nonexistent\", \"nonexistent\", \"nonexistent\", \"nonexistent\", \"nonexistent\", \"nonexistent\", \"nonexistent\", \"nonexistent\", \"nonexistent\", \"nonexistent\", \"nonexistent\", \"nonexistent\", \"nonexistent\", \"nonexistent\", \"nonexistent\", \"nonexistent\", \"failure\", \"nonexistent\", \"nonexistent\", \"nonexistent\", \"nonexistent\", \"nonexistent\", \"failure\", \"nonexistent\", \"nonexistent\", \"nonexistent\", \"nonexistent\", \"nonexistent\", \"nonexistent\", \"nonexistent\", \"nonexistent\", \"nonexistent\", \"nonexistent\", \"nonexistent\", \"nonexistent\", \"nonexistent\", \"nonexistent\", \"failure\", \"nonexistent\", \"nonexistent\", \"failure\", \"nonexistent\", \"nonexistent\", \"nonexistent\", \"nonexistent\", \"nonexistent\", \"nonexistent\", \"nonexistent\", \"nonexistent\", \"nonexistent\", \"nonexistent\", \"failure\", \"nonexistent\", \"nonexistent\", \"nonexistent\", \"failure\", \"nonexistent\", \"nonexistent\", \"nonexistent\", \"nonexistent\", \"nonexistent\", \"failure\", \"nonexistent\", \"nonexistent\", \"nonexistent\", \"nonexistent\", \"nonexistent\", \"nonexistent\", \"nonexistent\", \"nonexistent\", \"nonexistent\", \"nonexistent\", \"nonexistent\", \"nonexistent\", \"nonexistent\", \"nonexistent\", \"nonexistent\", \"nonexistent\", \"nonexistent\", \"nonexistent\", \"nonexistent\", \"nonexistent\", \"nonexistent\", \"nonexistent\", \"nonexistent\", \"failure\", \"nonexistent\", \"nonexistent\", \"failure\", \"nonexistent\", \"success\", \"nonexistent\", \"failure\", \"nonexistent\", \"nonexistent\", \"nonexistent\", \"failure\", \"nonexistent\", \"nonexistent\", \"nonexistent\", \"nonexistent\", \"failure\", \"nonexistent\", \"nonexistent\", \"nonexistent\", \"nonexistent\", \"nonexistent\", \"failure\", \"failure\", \"nonexistent\", \"success\", \"nonexistent\", \"failure\", \"nonexistent\", \"nonexistent\", \"nonexistent\", \"nonexistent\", \"nonexistent\", \"nonexistent\", \"nonexistent\", \"nonexistent\", \"failure\", \"nonexistent\", \"nonexistent\", \"nonexistent\", \"failure\", \"nonexistent\", \"failure\", \"nonexistent\", \"nonexistent\", \"nonexistent\", \"nonexistent\", \"nonexistent\", \"nonexistent\", \"failure\", \"failure\", \"nonexistent\", \"nonexistent\", \"nonexistent\", \"nonexistent\", \"nonexistent\", \"nonexistent\", \"nonexistent\", \"nonexistent\", \"nonexistent\", \"nonexistent\", \"nonexistent\", \"nonexistent\", \"nonexistent\", \"nonexistent\", \"nonexistent\", \"nonexistent\", \"nonexistent\", \"failure\", \"nonexistent\", \"nonexistent\", \"nonexistent\", \"failure\", \"nonexistent\", \"nonexistent\", \"nonexistent\", \"nonexistent\", \"nonexistent\", \"failure\", \"nonexistent\", \"nonexistent\", \"nonexistent\", \"nonexistent\", \"nonexistent\", \"nonexistent\", \"nonexistent\", \"nonexistent\", \"nonexistent\", \"nonexistent\", \"nonexistent\", \"failure\", \"nonexistent\", \"nonexistent\", \"failure\", \"nonexistent\", \"nonexistent\", \"nonexistent\", \"nonexistent\", \"nonexistent\", \"nonexistent\", \"nonexistent\", \"nonexistent\", \"failure\", \"nonexistent\", \"nonexistent\", \"nonexistent\", \"failure\", \"nonexistent\", \"nonexistent\", \"nonexistent\", \"nonexistent\", \"nonexistent\", \"nonexistent\", \"nonexistent\", \"nonexistent\", \"nonexistent\", \"nonexistent\", \"nonexistent\", \"nonexistent\", \"nonexistent\", \"nonexistent\", \"nonexistent\", \"failure\", \"nonexistent\", \"nonexistent\", \"nonexistent\", \"failure\", \"nonexistent\", \"nonexistent\", \"nonexistent\", \"nonexistent\", \"nonexistent\", \"nonexistent\", \"nonexistent\", \"nonexistent\", \"nonexistent\", \"nonexistent\", \"nonexistent\", \"nonexistent\", \"nonexistent\", \"nonexistent\", \"nonexistent\", \"nonexistent\", \"nonexistent\", \"nonexistent\", \"nonexistent\", \"failure\", \"nonexistent\", \"nonexistent\", \"nonexistent\", \"nonexistent\", \"nonexistent\", \"nonexistent\", \"nonexistent\", \"nonexistent\", \"failure\", \"nonexistent\", \"nonexistent\", \"nonexistent\", \"nonexistent\", \"nonexistent\", \"nonexistent\", \"nonexistent\", \"nonexistent\", \"failure\", \"nonexistent\", \"nonexistent\", \"nonexistent\", \"nonexistent\", \"nonexistent\", \"nonexistent\", \"nonexistent\", \"nonexistent\", \"nonexistent\", \"nonexistent\", \"nonexistent\", \"nonexistent\", \"failure\", \"nonexistent\", \"nonexistent\", \"nonexistent\", \"failure\", \"nonexistent\", \"nonexistent\", \"nonexistent\", \"failure\", \"nonexistent\", \"nonexistent\", \"failure\", \"nonexistent\", \"nonexistent\", \"nonexistent\", \"failure\", \"nonexistent\", \"nonexistent\", \"nonexistent\", \"nonexistent\", \"nonexistent\", \"nonexistent\", \"nonexistent\", \"nonexistent\", \"nonexistent\", \"nonexistent\", \"nonexistent\", \"nonexistent\", \"nonexistent\", \"nonexistent\", \"nonexistent\", \"failure\", \"nonexistent\", \"nonexistent\", \"nonexistent\", \"nonexistent\", \"nonexistent\", \"nonexistent\", \"nonexistent\", \"nonexistent\", \"nonexistent\", \"nonexistent\", \"nonexistent\", \"failure\", \"nonexistent\", \"nonexistent\", \"nonexistent\", \"nonexistent\", \"nonexistent\", \"failure\", \"nonexistent\", \"failure\", \"nonexistent\", \"nonexistent\", \"nonexistent\", \"nonexistent\", \"nonexistent\", \"nonexistent\", \"nonexistent\", \"nonexistent\", \"nonexistent\", \"nonexistent\", \"nonexistent\", \"failure\", \"nonexistent\", \"nonexistent\", \"nonexistent\", \"nonexistent\", \"nonexistent\", \"failure\", \"failure\", \"nonexistent\", \"nonexistent\", \"nonexistent\", \"nonexistent\", \"success\", \"failure\", \"nonexistent\", \"nonexistent\", \"nonexistent\", \"nonexistent\", \"nonexistent\", \"nonexistent\", \"failure\", \"nonexistent\", \"nonexistent\", \"nonexistent\", \"failure\", \"nonexistent\", \"nonexistent\", \"nonexistent\", \"nonexistent\", \"nonexistent\", \"nonexistent\", \"nonexistent\", \"success\", \"nonexistent\", \"nonexistent\", \"failure\", \"nonexistent\", \"nonexistent\", \"nonexistent\", \"nonexistent\", \"nonexistent\", \"nonexistent\", \"nonexistent\", \"nonexistent\", \"failure\", \"failure\", \"nonexistent\", \"nonexistent\", \"nonexistent\", \"nonexistent\", \"nonexistent\", \"nonexistent\", \"nonexistent\", \"failure\", \"nonexistent\", \"nonexistent\", \"success\", \"nonexistent\", \"nonexistent\", \"nonexistent\", \"nonexistent\", \"nonexistent\", \"nonexistent\", \"nonexistent\", \"nonexistent\", \"nonexistent\", \"nonexistent\", \"nonexistent\", \"nonexistent\", \"nonexistent\", \"nonexistent\", \"nonexistent\", \"failure\", \"nonexistent\", \"nonexistent\", \"nonexistent\", \"failure\", \"failure\", \"failure\", \"nonexistent\", \"nonexistent\", \"nonexistent\", \"nonexistent\", \"nonexistent\", \"nonexistent\", \"nonexistent\", \"nonexistent\", \"nonexistent\", \"nonexistent\", \"nonexistent\", \"nonexistent\", \"nonexistent\", \"nonexistent\", \"nonexistent\", \"nonexistent\", \"nonexistent\", \"nonexistent\", \"nonexistent\", \"nonexistent\", \"nonexistent\", \"nonexistent\", \"nonexistent\", \"nonexistent\", \"nonexistent\", \"nonexistent\", \"nonexistent\", \"nonexistent\", \"nonexistent\", \"nonexistent\", \"nonexistent\", \"nonexistent\", \"nonexistent\", \"nonexistent\", \"nonexistent\", \"nonexistent\", \"nonexistent\", \"failure\", \"failure\", \"nonexistent\", \"nonexistent\", \"nonexistent\", \"nonexistent\", \"nonexistent\", \"nonexistent\", \"nonexistent\", \"nonexistent\", \"failure\", \"nonexistent\", \"nonexistent\", \"nonexistent\", \"nonexistent\", \"nonexistent\", \"nonexistent\", \"nonexistent\", \"nonexistent\", \"nonexistent\", \"nonexistent\", \"nonexistent\", \"nonexistent\", \"nonexistent\", \"nonexistent\", \"failure\", \"nonexistent\", \"failure\", \"nonexistent\", \"nonexistent\", \"failure\", \"success\", \"nonexistent\", \"nonexistent\", \"nonexistent\", \"nonexistent\", \"nonexistent\", \"nonexistent\", \"failure\", \"nonexistent\", \"nonexistent\", \"nonexistent\", \"nonexistent\", \"nonexistent\", \"nonexistent\", \"nonexistent\", \"nonexistent\", \"nonexistent\", \"nonexistent\", \"nonexistent\", \"nonexistent\", \"nonexistent\", \"nonexistent\", \"nonexistent\", \"nonexistent\", \"nonexistent\", \"nonexistent\", \"nonexistent\", \"nonexistent\", \"nonexistent\", \"nonexistent\", \"failure\", \"nonexistent\", \"nonexistent\", \"nonexistent\", \"nonexistent\", \"nonexistent\", \"nonexistent\", \"nonexistent\", \"failure\", \"nonexistent\", \"nonexistent\", \"nonexistent\", \"nonexistent\", \"nonexistent\", \"nonexistent\", \"nonexistent\", \"nonexistent\", \"nonexistent\", \"nonexistent\", \"nonexistent\", \"nonexistent\", \"nonexistent\", \"failure\", \"nonexistent\", \"nonexistent\", \"nonexistent\", \"nonexistent\", \"nonexistent\", \"nonexistent\", \"nonexistent\", \"nonexistent\", \"nonexistent\", \"nonexistent\", \"nonexistent\", \"nonexistent\", \"nonexistent\", \"nonexistent\", \"nonexistent\", \"nonexistent\", \"nonexistent\", \"nonexistent\", \"nonexistent\", \"nonexistent\", \"nonexistent\", \"success\", \"nonexistent\", \"nonexistent\", \"nonexistent\", \"nonexistent\", \"nonexistent\", \"nonexistent\", \"nonexistent\", \"nonexistent\", \"nonexistent\", \"nonexistent\", \"nonexistent\", \"nonexistent\", \"nonexistent\", \"nonexistent\", \"nonexistent\", \"nonexistent\", \"nonexistent\", \"nonexistent\", \"failure\", \"nonexistent\", \"nonexistent\", \"nonexistent\", \"nonexistent\", \"nonexistent\", \"nonexistent\", \"nonexistent\", \"nonexistent\", \"nonexistent\", \"failure\", \"nonexistent\", \"nonexistent\", \"nonexistent\", \"nonexistent\", \"nonexistent\", \"nonexistent\", \"nonexistent\", \"nonexistent\", \"nonexistent\", \"nonexistent\", \"nonexistent\", \"nonexistent\", \"nonexistent\", \"failure\", \"failure\", \"nonexistent\", \"nonexistent\", \"nonexistent\", \"nonexistent\", \"nonexistent\", \"nonexistent\", \"failure\", \"nonexistent\", \"failure\", \"nonexistent\", \"nonexistent\", \"nonexistent\", \"nonexistent\", \"nonexistent\", \"nonexistent\", \"nonexistent\", \"nonexistent\", \"failure\", \"nonexistent\", \"nonexistent\", \"failure\", \"nonexistent\", \"nonexistent\", \"nonexistent\", \"nonexistent\", \"failure\", \"nonexistent\", \"nonexistent\", \"nonexistent\", \"failure\", \"nonexistent\", \"nonexistent\", \"nonexistent\", \"nonexistent\", \"nonexistent\", \"nonexistent\", \"nonexistent\", \"nonexistent\", \"nonexistent\", \"failure\", \"nonexistent\", \"nonexistent\", \"nonexistent\", \"nonexistent\", \"nonexistent\", \"success\", \"nonexistent\", \"nonexistent\", \"nonexistent\", \"nonexistent\", \"nonexistent\", \"nonexistent\", \"failure\", \"nonexistent\", \"nonexistent\", \"nonexistent\", \"failure\", \"nonexistent\", \"nonexistent\", \"nonexistent\", \"nonexistent\", \"nonexistent\", \"nonexistent\", \"success\", \"nonexistent\", \"nonexistent\", \"failure\", \"nonexistent\", \"nonexistent\", \"nonexistent\", \"nonexistent\", \"nonexistent\", \"nonexistent\", \"failure\", \"nonexistent\", \"failure\", \"failure\", \"nonexistent\", \"nonexistent\", \"nonexistent\", \"failure\", \"nonexistent\", \"nonexistent\", \"nonexistent\", \"nonexistent\", \"nonexistent\", \"nonexistent\", \"nonexistent\", \"nonexistent\", \"nonexistent\", \"nonexistent\", \"nonexistent\", \"nonexistent\", \"nonexistent\", \"nonexistent\", \"nonexistent\", \"nonexistent\", \"nonexistent\", \"nonexistent\", \"nonexistent\", \"nonexistent\", \"nonexistent\", \"nonexistent\", \"nonexistent\", \"nonexistent\", \"nonexistent\", \"nonexistent\", \"nonexistent\", \"nonexistent\", \"nonexistent\", \"nonexistent\", \"nonexistent\", \"nonexistent\", \"nonexistent\", \"nonexistent\", \"nonexistent\", \"nonexistent\", \"nonexistent\", \"nonexistent\", \"nonexistent\", \"nonexistent\", \"nonexistent\", \"nonexistent\", \"nonexistent\", \"nonexistent\", \"nonexistent\", \"nonexistent\", \"nonexistent\", \"nonexistent\", \"failure\", \"nonexistent\", \"nonexistent\", \"nonexistent\", \"nonexistent\", \"nonexistent\", \"nonexistent\", \"nonexistent\", \"failure\", \"nonexistent\", \"nonexistent\", \"nonexistent\", \"failure\", \"failure\", \"nonexistent\", \"nonexistent\", \"nonexistent\", \"nonexistent\", \"nonexistent\", \"nonexistent\", \"nonexistent\", \"nonexistent\", \"nonexistent\", \"nonexistent\", \"nonexistent\", \"nonexistent\", \"nonexistent\", \"nonexistent\", \"nonexistent\", \"nonexistent\", \"failure\", \"nonexistent\", \"nonexistent\", \"nonexistent\", \"nonexistent\", \"nonexistent\", \"nonexistent\", \"nonexistent\", \"nonexistent\", \"nonexistent\", \"nonexistent\", \"nonexistent\", \"nonexistent\", \"nonexistent\", \"nonexistent\", \"nonexistent\", \"nonexistent\", \"nonexistent\", \"nonexistent\", \"nonexistent\", \"nonexistent\", \"nonexistent\", \"nonexistent\", \"nonexistent\", \"success\", \"nonexistent\", \"nonexistent\", \"nonexistent\", \"nonexistent\", \"nonexistent\", \"nonexistent\", \"nonexistent\", \"nonexistent\", \"nonexistent\", \"nonexistent\", \"nonexistent\", \"nonexistent\", \"failure\", \"nonexistent\", \"nonexistent\", \"nonexistent\", \"nonexistent\", \"nonexistent\", \"failure\", \"nonexistent\", \"failure\", \"nonexistent\", \"nonexistent\", \"nonexistent\", \"failure\", \"nonexistent\", \"nonexistent\", \"nonexistent\", \"nonexistent\", \"nonexistent\", \"nonexistent\", \"nonexistent\", \"nonexistent\", \"nonexistent\", \"nonexistent\", \"nonexistent\", \"failure\", \"nonexistent\", \"nonexistent\", \"nonexistent\", \"nonexistent\", \"failure\", \"nonexistent\", \"nonexistent\", \"nonexistent\", \"nonexistent\", \"failure\", \"nonexistent\", \"nonexistent\", \"nonexistent\", \"nonexistent\", \"nonexistent\", \"failure\", \"nonexistent\", \"nonexistent\", \"nonexistent\", \"nonexistent\", \"nonexistent\", \"nonexistent\", \"failure\", \"nonexistent\", \"nonexistent\", \"nonexistent\", \"nonexistent\", \"nonexistent\", \"nonexistent\", \"nonexistent\", \"nonexistent\", \"nonexistent\", \"nonexistent\", \"nonexistent\", \"nonexistent\", \"nonexistent\", \"nonexistent\", \"nonexistent\", \"nonexistent\", \"nonexistent\", \"nonexistent\", \"nonexistent\", \"nonexistent\", \"nonexistent\", \"nonexistent\", \"nonexistent\", \"nonexistent\", \"nonexistent\", \"nonexistent\", \"nonexistent\", \"nonexistent\", \"nonexistent\", \"nonexistent\", \"nonexistent\", \"nonexistent\", \"nonexistent\", \"nonexistent\", \"nonexistent\", \"nonexistent\", \"nonexistent\", \"nonexistent\", \"nonexistent\", \"nonexistent\", \"nonexistent\", \"nonexistent\", \"nonexistent\", \"nonexistent\", \"nonexistent\", \"nonexistent\", \"nonexistent\", \"nonexistent\", \"nonexistent\", \"nonexistent\", \"nonexistent\", \"nonexistent\", \"nonexistent\", \"nonexistent\", \"nonexistent\", \"nonexistent\", \"nonexistent\", \"nonexistent\", \"nonexistent\", \"nonexistent\", \"nonexistent\", \"nonexistent\", \"nonexistent\", \"nonexistent\", \"nonexistent\", \"nonexistent\", \"nonexistent\", \"nonexistent\", \"nonexistent\", \"nonexistent\", \"nonexistent\", \"nonexistent\", \"nonexistent\", \"nonexistent\", \"nonexistent\", \"nonexistent\", \"nonexistent\", \"nonexistent\", \"nonexistent\", \"nonexistent\", \"nonexistent\", \"success\", \"nonexistent\", \"nonexistent\", \"nonexistent\", \"nonexistent\", \"nonexistent\", \"nonexistent\", \"nonexistent\", \"nonexistent\", \"failure\", \"nonexistent\", \"nonexistent\", \"nonexistent\", \"nonexistent\", \"nonexistent\", \"nonexistent\", \"nonexistent\", \"nonexistent\", \"nonexistent\", \"nonexistent\", \"nonexistent\", \"nonexistent\", \"nonexistent\", \"nonexistent\", \"nonexistent\", \"nonexistent\", \"nonexistent\", \"nonexistent\", \"nonexistent\", \"nonexistent\", \"nonexistent\", \"nonexistent\", \"nonexistent\", \"nonexistent\", \"nonexistent\", \"nonexistent\", \"nonexistent\", \"failure\", \"nonexistent\", \"nonexistent\", \"nonexistent\", \"nonexistent\", \"nonexistent\", \"nonexistent\", \"nonexistent\", \"nonexistent\", \"nonexistent\", \"failure\", \"nonexistent\", \"nonexistent\", \"failure\", \"nonexistent\", \"failure\", \"nonexistent\", \"nonexistent\", \"nonexistent\", \"nonexistent\", \"nonexistent\", \"nonexistent\", \"nonexistent\", \"failure\", \"nonexistent\", \"nonexistent\", \"failure\", \"nonexistent\", \"nonexistent\", \"nonexistent\", \"nonexistent\", \"nonexistent\", \"nonexistent\", \"success\", \"nonexistent\", \"nonexistent\", \"nonexistent\", \"nonexistent\", \"nonexistent\", \"nonexistent\", \"nonexistent\", \"nonexistent\", \"nonexistent\", \"nonexistent\", \"nonexistent\", \"nonexistent\", \"nonexistent\", \"nonexistent\", \"nonexistent\", \"nonexistent\", \"nonexistent\", \"nonexistent\", \"nonexistent\", \"failure\", \"nonexistent\", \"nonexistent\", \"nonexistent\", \"nonexistent\", \"nonexistent\", \"nonexistent\", \"nonexistent\", \"nonexistent\", \"failure\", \"nonexistent\", \"success\", \"nonexistent\", \"nonexistent\", \"nonexistent\", \"nonexistent\", \"nonexistent\", \"nonexistent\", \"nonexistent\", \"nonexistent\", \"nonexistent\", \"success\", \"nonexistent\", \"failure\", \"failure\", \"nonexistent\", \"nonexistent\", \"nonexistent\", \"nonexistent\", \"nonexistent\", \"nonexistent\", \"nonexistent\", \"nonexistent\", \"nonexistent\", \"nonexistent\", \"nonexistent\", \"nonexistent\", \"nonexistent\", \"nonexistent\", \"nonexistent\", \"nonexistent\", \"nonexistent\", \"nonexistent\", \"nonexistent\", \"nonexistent\", \"nonexistent\", \"nonexistent\", \"nonexistent\", \"nonexistent\", \"nonexistent\", \"nonexistent\", \"nonexistent\", \"nonexistent\", \"failure\", \"nonexistent\", \"nonexistent\", \"nonexistent\", \"nonexistent\", \"nonexistent\", \"nonexistent\", \"nonexistent\", \"failure\", \"nonexistent\", \"success\", \"nonexistent\", \"nonexistent\", \"failure\", \"nonexistent\", \"nonexistent\", \"nonexistent\", \"nonexistent\", \"nonexistent\", \"failure\", \"nonexistent\", \"nonexistent\", \"nonexistent\", \"nonexistent\", \"nonexistent\", \"nonexistent\", \"failure\", \"nonexistent\", \"nonexistent\", \"nonexistent\", \"nonexistent\", \"failure\", \"nonexistent\", \"nonexistent\", \"nonexistent\", \"nonexistent\", \"nonexistent\", \"nonexistent\", \"nonexistent\", \"nonexistent\", \"nonexistent\", \"nonexistent\", \"nonexistent\", \"nonexistent\", \"nonexistent\", \"nonexistent\", \"failure\", \"failure\", \"nonexistent\", \"nonexistent\", \"nonexistent\", \"nonexistent\", \"failure\", \"nonexistent\", \"nonexistent\", \"failure\", \"nonexistent\", \"nonexistent\", \"nonexistent\", \"nonexistent\", \"nonexistent\", \"success\", \"nonexistent\", \"nonexistent\", \"nonexistent\", \"nonexistent\", \"failure\", \"failure\", \"nonexistent\", \"nonexistent\", \"nonexistent\", \"nonexistent\", \"nonexistent\", \"nonexistent\", \"nonexistent\", \"nonexistent\", \"nonexistent\", \"nonexistent\", \"nonexistent\", \"nonexistent\", \"nonexistent\", \"nonexistent\", \"nonexistent\", \"nonexistent\", \"nonexistent\", \"nonexistent\", \"nonexistent\", \"nonexistent\", \"nonexistent\", \"failure\", \"nonexistent\", \"nonexistent\", \"nonexistent\", \"nonexistent\", \"nonexistent\", \"nonexistent\", \"nonexistent\", \"nonexistent\", \"nonexistent\", \"nonexistent\", \"nonexistent\", \"failure\", \"nonexistent\", \"nonexistent\", \"nonexistent\", \"nonexistent\", \"nonexistent\", \"nonexistent\", \"nonexistent\", \"nonexistent\", \"nonexistent\", \"nonexistent\", \"nonexistent\", \"nonexistent\", \"failure\", \"nonexistent\", \"nonexistent\", \"nonexistent\", \"nonexistent\", \"nonexistent\", \"nonexistent\", \"failure\", \"nonexistent\", \"nonexistent\", \"nonexistent\", \"failure\", \"nonexistent\", \"nonexistent\", \"nonexistent\", \"nonexistent\", \"nonexistent\", \"nonexistent\", \"nonexistent\", \"nonexistent\", \"nonexistent\", \"nonexistent\", \"nonexistent\", \"nonexistent\", \"failure\", \"nonexistent\", \"nonexistent\", \"nonexistent\", \"nonexistent\", \"nonexistent\", \"nonexistent\", \"failure\", \"nonexistent\", \"nonexistent\", \"nonexistent\", \"nonexistent\", \"nonexistent\", \"nonexistent\", \"nonexistent\", \"nonexistent\", \"nonexistent\", \"success\", \"nonexistent\", \"nonexistent\", \"nonexistent\", \"nonexistent\", \"nonexistent\", \"nonexistent\", \"nonexistent\", \"nonexistent\", \"nonexistent\", \"nonexistent\", \"failure\", \"nonexistent\", \"nonexistent\", \"nonexistent\", \"nonexistent\", \"nonexistent\", \"failure\", \"nonexistent\", \"nonexistent\", \"nonexistent\", \"failure\", \"nonexistent\", \"nonexistent\", \"nonexistent\", \"nonexistent\", \"nonexistent\", \"nonexistent\", \"nonexistent\", \"nonexistent\", \"nonexistent\", \"nonexistent\", \"nonexistent\", \"nonexistent\", \"nonexistent\", \"nonexistent\", \"nonexistent\", \"nonexistent\", \"nonexistent\", \"nonexistent\", \"nonexistent\", \"failure\", \"nonexistent\", \"nonexistent\", \"failure\", \"nonexistent\", \"nonexistent\", \"failure\", \"nonexistent\", \"nonexistent\", \"nonexistent\", \"nonexistent\", \"nonexistent\", \"nonexistent\", \"nonexistent\", \"nonexistent\", \"nonexistent\", \"nonexistent\", \"nonexistent\", \"nonexistent\", \"nonexistent\", \"nonexistent\", \"success\", \"failure\", \"nonexistent\", \"nonexistent\", \"nonexistent\", \"nonexistent\", \"nonexistent\", \"nonexistent\", \"nonexistent\", \"nonexistent\", \"nonexistent\", \"nonexistent\", \"nonexistent\", \"nonexistent\", \"nonexistent\", \"nonexistent\", \"failure\", \"nonexistent\", \"failure\", \"nonexistent\", \"nonexistent\", \"nonexistent\", \"nonexistent\", \"nonexistent\", \"nonexistent\", \"nonexistent\", \"success\", \"nonexistent\", \"nonexistent\", \"nonexistent\", \"nonexistent\", \"nonexistent\", \"failure\", \"nonexistent\", \"nonexistent\", \"nonexistent\", \"nonexistent\", \"nonexistent\", \"nonexistent\", \"nonexistent\", \"failure\", \"nonexistent\", \"nonexistent\", \"success\", \"failure\", \"nonexistent\", \"nonexistent\", \"nonexistent\", \"nonexistent\", \"nonexistent\", \"nonexistent\", \"failure\", \"nonexistent\", \"nonexistent\", \"nonexistent\", \"failure\", \"nonexistent\", \"nonexistent\", \"nonexistent\", \"nonexistent\", \"nonexistent\", \"nonexistent\", \"nonexistent\", \"nonexistent\", \"nonexistent\", \"nonexistent\", \"nonexistent\", \"nonexistent\", \"nonexistent\", \"nonexistent\", \"nonexistent\", \"nonexistent\", \"nonexistent\", \"nonexistent\", \"nonexistent\", \"nonexistent\", \"nonexistent\", \"failure\", \"nonexistent\", \"nonexistent\", \"nonexistent\", \"nonexistent\", \"nonexistent\", \"nonexistent\", \"failure\", \"nonexistent\", \"nonexistent\", \"failure\", \"nonexistent\", \"nonexistent\", \"nonexistent\", \"nonexistent\", \"nonexistent\", \"nonexistent\", \"nonexistent\", \"nonexistent\", \"nonexistent\", \"nonexistent\", \"nonexistent\", \"failure\", \"nonexistent\", \"nonexistent\", \"nonexistent\", \"nonexistent\", \"failure\", \"nonexistent\", \"nonexistent\", \"nonexistent\", \"nonexistent\", \"nonexistent\", \"nonexistent\", \"nonexistent\", \"nonexistent\", \"nonexistent\", \"nonexistent\", \"failure\", \"nonexistent\", \"nonexistent\", \"nonexistent\", \"nonexistent\", \"nonexistent\", \"nonexistent\", \"nonexistent\", \"nonexistent\", \"nonexistent\", \"nonexistent\", \"nonexistent\", \"failure\", \"nonexistent\", \"nonexistent\", \"nonexistent\", \"nonexistent\", \"nonexistent\", \"nonexistent\", \"nonexistent\", \"failure\", \"nonexistent\", \"nonexistent\", \"nonexistent\", \"failure\", \"nonexistent\", \"failure\", \"failure\", \"nonexistent\", \"nonexistent\", \"nonexistent\", \"nonexistent\", \"failure\", \"nonexistent\", \"nonexistent\", \"nonexistent\", \"nonexistent\", \"nonexistent\", \"nonexistent\", \"nonexistent\", \"nonexistent\", \"nonexistent\", \"nonexistent\", \"nonexistent\", \"failure\", \"nonexistent\", \"nonexistent\", \"nonexistent\", \"nonexistent\", \"nonexistent\", \"failure\", \"nonexistent\", \"failure\", \"nonexistent\", \"failure\", \"nonexistent\", \"nonexistent\", \"nonexistent\", \"success\", \"nonexistent\", \"nonexistent\", \"nonexistent\", \"nonexistent\", \"nonexistent\", \"nonexistent\", \"nonexistent\", \"nonexistent\", \"nonexistent\", \"nonexistent\", \"nonexistent\", \"nonexistent\", \"nonexistent\", \"nonexistent\", \"nonexistent\", \"nonexistent\", \"nonexistent\", \"nonexistent\", \"nonexistent\", \"nonexistent\", \"nonexistent\", \"nonexistent\", \"nonexistent\", \"nonexistent\", \"nonexistent\", \"nonexistent\", \"nonexistent\", \"nonexistent\", \"nonexistent\", \"nonexistent\", \"nonexistent\", \"nonexistent\", \"nonexistent\", \"nonexistent\", \"nonexistent\", \"nonexistent\", \"nonexistent\", \"nonexistent\", \"nonexistent\", \"nonexistent\", \"nonexistent\", \"nonexistent\", \"failure\", \"nonexistent\", \"nonexistent\", \"failure\", \"nonexistent\", \"nonexistent\", \"nonexistent\", \"nonexistent\", \"nonexistent\", \"nonexistent\", \"nonexistent\", \"nonexistent\", \"nonexistent\", \"nonexistent\", \"nonexistent\", \"nonexistent\", \"nonexistent\", \"nonexistent\", \"nonexistent\", \"nonexistent\", \"nonexistent\", \"failure\", \"nonexistent\", \"nonexistent\", \"nonexistent\", \"nonexistent\", \"nonexistent\", \"nonexistent\", \"failure\", \"nonexistent\", \"nonexistent\", \"nonexistent\", \"nonexistent\", \"nonexistent\", \"nonexistent\", \"nonexistent\", \"nonexistent\", \"nonexistent\", \"nonexistent\", \"nonexistent\", \"nonexistent\", \"nonexistent\", \"nonexistent\", \"nonexistent\", \"nonexistent\", \"nonexistent\", \"nonexistent\", \"nonexistent\", \"nonexistent\", \"nonexistent\", \"nonexistent\", \"nonexistent\", \"nonexistent\", \"failure\", \"nonexistent\", \"nonexistent\", \"nonexistent\", \"nonexistent\", \"nonexistent\", \"nonexistent\", \"nonexistent\", \"failure\", \"nonexistent\", \"nonexistent\", \"nonexistent\", \"nonexistent\", \"nonexistent\", \"failure\", \"nonexistent\", \"nonexistent\", \"nonexistent\", \"failure\", \"nonexistent\", \"nonexistent\", \"nonexistent\", \"nonexistent\", \"nonexistent\", \"failure\", \"nonexistent\", \"failure\", \"nonexistent\", \"nonexistent\", \"nonexistent\", \"nonexistent\", \"nonexistent\", \"failure\", \"nonexistent\", \"nonexistent\", \"failure\", \"nonexistent\", \"nonexistent\", \"nonexistent\", \"failure\", \"nonexistent\", \"nonexistent\", \"nonexistent\", \"nonexistent\", \"failure\", \"failure\", \"nonexistent\", \"nonexistent\", \"nonexistent\", \"failure\", \"nonexistent\", \"nonexistent\", \"nonexistent\", \"failure\", \"nonexistent\", \"nonexistent\", \"nonexistent\", \"success\", \"nonexistent\", \"nonexistent\", \"nonexistent\", \"nonexistent\", \"nonexistent\", \"nonexistent\", \"nonexistent\", \"nonexistent\", \"nonexistent\", \"nonexistent\", \"nonexistent\", \"failure\", \"nonexistent\", \"nonexistent\", \"nonexistent\", \"nonexistent\", \"failure\", \"nonexistent\", \"failure\", \"nonexistent\", \"nonexistent\", \"nonexistent\", \"failure\", \"nonexistent\", \"failure\", \"nonexistent\", \"nonexistent\", \"nonexistent\", \"success\", \"nonexistent\", \"nonexistent\", \"nonexistent\", \"nonexistent\", \"nonexistent\", \"nonexistent\", \"nonexistent\", \"nonexistent\", \"nonexistent\", \"nonexistent\", \"nonexistent\", \"nonexistent\", \"nonexistent\", \"nonexistent\", \"nonexistent\", \"nonexistent\", \"nonexistent\", \"nonexistent\", \"nonexistent\", \"nonexistent\", \"nonexistent\", \"failure\", \"nonexistent\", \"nonexistent\", \"nonexistent\", \"nonexistent\", \"nonexistent\", \"nonexistent\", \"failure\", \"failure\", \"nonexistent\", \"failure\", \"nonexistent\", \"failure\", \"nonexistent\", \"nonexistent\", \"nonexistent\", \"nonexistent\", \"nonexistent\", \"nonexistent\", \"nonexistent\", \"nonexistent\", \"nonexistent\", \"nonexistent\", \"failure\", \"nonexistent\", \"nonexistent\", \"nonexistent\", \"nonexistent\", \"nonexistent\", \"nonexistent\", \"nonexistent\", \"failure\", \"failure\", \"nonexistent\", \"failure\", \"nonexistent\", \"nonexistent\", \"nonexistent\", \"nonexistent\", \"nonexistent\", \"nonexistent\", \"nonexistent\", \"nonexistent\", \"nonexistent\", \"nonexistent\", \"nonexistent\", \"nonexistent\", \"nonexistent\", \"nonexistent\", \"nonexistent\", \"nonexistent\", \"nonexistent\", \"success\", \"nonexistent\", \"nonexistent\", \"nonexistent\", \"nonexistent\", \"nonexistent\", \"nonexistent\", \"nonexistent\", \"nonexistent\", \"nonexistent\", \"nonexistent\", \"nonexistent\", \"nonexistent\", \"nonexistent\", \"nonexistent\", \"nonexistent\", \"nonexistent\", \"failure\", \"nonexistent\", \"nonexistent\", \"nonexistent\", \"nonexistent\", \"failure\", \"nonexistent\", \"nonexistent\"], \"xaxis\": \"x\", \"yaxis\": \"y\"}, {\"alignmentgroup\": \"True\", \"bingroup\": \"x\", \"hoverlabel\": {\"namelength\": 0}, \"hovertemplate\": \"y=yes<br>poutcome=%{x}<br>count=%{y}\", \"legendgroup\": \"y=yes\", \"marker\": {\"color\": \"#EF553B\"}, \"name\": \"y=yes\", \"offsetgroup\": \"y=yes\", \"orientation\": \"v\", \"showlegend\": true, \"type\": \"histogram\", \"x\": [\"nonexistent\", \"success\", \"nonexistent\", \"success\", \"failure\", \"success\", \"success\", \"nonexistent\", \"nonexistent\", \"nonexistent\", \"nonexistent\", \"nonexistent\", \"nonexistent\", \"failure\", \"nonexistent\", \"nonexistent\", \"nonexistent\", \"success\", \"success\", \"success\", \"success\", \"success\", \"nonexistent\", \"success\", \"nonexistent\", \"success\", \"nonexistent\", \"nonexistent\", \"nonexistent\", \"success\", \"nonexistent\", \"failure\", \"success\", \"nonexistent\", \"failure\", \"nonexistent\", \"nonexistent\", \"success\", \"nonexistent\", \"success\", \"success\", \"success\", \"success\", \"nonexistent\", \"failure\", \"nonexistent\", \"success\", \"nonexistent\", \"nonexistent\", \"nonexistent\", \"failure\", \"nonexistent\", \"nonexistent\", \"nonexistent\", \"nonexistent\", \"failure\", \"nonexistent\", \"nonexistent\", \"success\", \"nonexistent\", \"nonexistent\", \"success\", \"nonexistent\", \"failure\", \"success\", \"failure\", \"nonexistent\", \"failure\", \"nonexistent\", \"success\", \"nonexistent\", \"nonexistent\", \"nonexistent\", \"nonexistent\", \"nonexistent\", \"nonexistent\", \"nonexistent\", \"success\", \"nonexistent\", \"success\", \"nonexistent\", \"nonexistent\", \"success\", \"nonexistent\", \"nonexistent\", \"failure\", \"nonexistent\", \"failure\", \"nonexistent\", \"nonexistent\", \"nonexistent\", \"nonexistent\", \"nonexistent\", \"nonexistent\", \"nonexistent\", \"success\", \"nonexistent\", \"failure\", \"nonexistent\", \"failure\", \"nonexistent\", \"nonexistent\", \"failure\", \"nonexistent\", \"nonexistent\", \"nonexistent\", \"nonexistent\", \"nonexistent\", \"failure\", \"success\", \"nonexistent\", \"nonexistent\", \"success\", \"failure\", \"nonexistent\", \"failure\", \"failure\", \"nonexistent\", \"nonexistent\", \"nonexistent\", \"nonexistent\", \"nonexistent\", \"failure\", \"nonexistent\", \"nonexistent\", \"nonexistent\", \"success\", \"failure\", \"failure\", \"nonexistent\", \"nonexistent\", \"nonexistent\", \"nonexistent\", \"nonexistent\", \"nonexistent\", \"nonexistent\", \"nonexistent\", \"nonexistent\", \"nonexistent\", \"nonexistent\", \"failure\", \"nonexistent\", \"success\", \"nonexistent\", \"nonexistent\", \"nonexistent\", \"nonexistent\", \"success\", \"nonexistent\", \"nonexistent\", \"nonexistent\", \"nonexistent\", \"nonexistent\", \"nonexistent\", \"success\", \"success\", \"nonexistent\", \"nonexistent\", \"nonexistent\", \"nonexistent\", \"success\", \"nonexistent\", \"nonexistent\", \"failure\", \"success\", \"nonexistent\", \"nonexistent\", \"nonexistent\", \"nonexistent\", \"nonexistent\", \"failure\", \"failure\", \"failure\", \"nonexistent\", \"nonexistent\", \"nonexistent\", \"failure\", \"nonexistent\", \"success\", \"nonexistent\", \"success\", \"nonexistent\", \"nonexistent\", \"nonexistent\", \"success\", \"nonexistent\", \"failure\", \"nonexistent\", \"nonexistent\", \"failure\", \"nonexistent\", \"failure\", \"nonexistent\", \"success\", \"nonexistent\", \"success\", \"success\", \"failure\", \"success\", \"success\", \"nonexistent\", \"nonexistent\", \"nonexistent\", \"success\", \"nonexistent\", \"nonexistent\", \"success\", \"nonexistent\", \"nonexistent\", \"failure\", \"nonexistent\", \"failure\", \"nonexistent\", \"nonexistent\", \"success\", \"nonexistent\", \"nonexistent\", \"nonexistent\", \"nonexistent\", \"nonexistent\", \"nonexistent\", \"nonexistent\", \"nonexistent\", \"success\", \"nonexistent\", \"nonexistent\", \"success\", \"nonexistent\", \"success\", \"nonexistent\", \"nonexistent\", \"success\", \"nonexistent\", \"nonexistent\", \"failure\", \"success\", \"nonexistent\", \"success\", \"nonexistent\", \"nonexistent\", \"nonexistent\", \"nonexistent\", \"failure\", \"success\", \"nonexistent\", \"nonexistent\", \"nonexistent\", \"nonexistent\", \"nonexistent\", \"failure\", \"nonexistent\", \"failure\", \"nonexistent\", \"nonexistent\", \"failure\", \"success\", \"nonexistent\", \"nonexistent\", \"nonexistent\", \"nonexistent\", \"success\", \"success\", \"nonexistent\", \"nonexistent\", \"nonexistent\", \"nonexistent\", \"nonexistent\", \"success\", \"success\", \"nonexistent\", \"nonexistent\", \"failure\", \"nonexistent\", \"nonexistent\", \"nonexistent\", \"nonexistent\", \"nonexistent\", \"failure\", \"nonexistent\", \"nonexistent\", \"nonexistent\", \"nonexistent\", \"failure\", \"success\", \"success\", \"nonexistent\", \"nonexistent\", \"failure\", \"nonexistent\", \"nonexistent\", \"nonexistent\", \"success\", \"nonexistent\", \"nonexistent\", \"nonexistent\", \"nonexistent\", \"nonexistent\", \"nonexistent\", \"nonexistent\", \"failure\", \"nonexistent\", \"nonexistent\", \"nonexistent\", \"nonexistent\", \"nonexistent\", \"failure\", \"nonexistent\", \"nonexistent\", \"nonexistent\", \"failure\", \"success\", \"failure\", \"nonexistent\", \"success\", \"success\", \"nonexistent\", \"nonexistent\", \"nonexistent\", \"failure\", \"nonexistent\", \"nonexistent\", \"nonexistent\", \"success\", \"nonexistent\", \"failure\", \"nonexistent\", \"nonexistent\", \"nonexistent\", \"nonexistent\", \"nonexistent\", \"nonexistent\", \"nonexistent\", \"failure\", \"nonexistent\", \"success\", \"nonexistent\", \"failure\", \"nonexistent\", \"nonexistent\", \"nonexistent\", \"nonexistent\", \"success\", \"nonexistent\", \"failure\", \"success\", \"success\", \"nonexistent\", \"success\", \"failure\", \"nonexistent\", \"nonexistent\", \"success\", \"nonexistent\", \"failure\", \"success\", \"nonexistent\", \"success\", \"nonexistent\", \"nonexistent\", \"nonexistent\", \"nonexistent\", \"success\", \"success\", \"success\", \"failure\", \"nonexistent\", \"nonexistent\", \"failure\", \"nonexistent\", \"nonexistent\", \"nonexistent\", \"nonexistent\", \"nonexistent\", \"nonexistent\", \"failure\", \"nonexistent\", \"nonexistent\", \"success\", \"nonexistent\", \"nonexistent\", \"nonexistent\", \"nonexistent\", \"nonexistent\", \"success\", \"failure\", \"nonexistent\", \"nonexistent\", \"failure\", \"failure\", \"nonexistent\", \"nonexistent\", \"nonexistent\", \"success\", \"failure\", \"nonexistent\", \"nonexistent\", \"nonexistent\", \"nonexistent\", \"success\", \"success\", \"nonexistent\", \"nonexistent\", \"nonexistent\", \"nonexistent\", \"nonexistent\", \"nonexistent\", \"nonexistent\", \"nonexistent\", \"nonexistent\", \"nonexistent\", \"nonexistent\", \"nonexistent\", \"success\", \"success\", \"nonexistent\", \"success\", \"nonexistent\", \"failure\", \"success\", \"nonexistent\", \"nonexistent\", \"nonexistent\", \"nonexistent\", \"success\", \"failure\", \"success\", \"nonexistent\", \"success\", \"success\", \"nonexistent\", \"success\", \"nonexistent\", \"nonexistent\", \"nonexistent\", \"nonexistent\", \"nonexistent\", \"nonexistent\", \"nonexistent\", \"failure\", \"nonexistent\", \"nonexistent\", \"nonexistent\", \"nonexistent\", \"nonexistent\", \"failure\", \"nonexistent\", \"nonexistent\", \"failure\", \"nonexistent\", \"success\", \"failure\"], \"xaxis\": \"x\", \"yaxis\": \"y\"}],\n",
              "                        {\"barmode\": \"group\", \"legend\": {\"tracegroupgap\": 0}, \"margin\": {\"t\": 60}, \"template\": {\"data\": {\"bar\": [{\"error_x\": {\"color\": \"#2a3f5f\"}, \"error_y\": {\"color\": \"#2a3f5f\"}, \"marker\": {\"line\": {\"color\": \"#E5ECF6\", \"width\": 0.5}}, \"type\": \"bar\"}], \"barpolar\": [{\"marker\": {\"line\": {\"color\": \"#E5ECF6\", \"width\": 0.5}}, \"type\": \"barpolar\"}], \"carpet\": [{\"aaxis\": {\"endlinecolor\": \"#2a3f5f\", \"gridcolor\": \"white\", \"linecolor\": \"white\", \"minorgridcolor\": \"white\", \"startlinecolor\": \"#2a3f5f\"}, \"baxis\": {\"endlinecolor\": \"#2a3f5f\", \"gridcolor\": \"white\", \"linecolor\": \"white\", \"minorgridcolor\": \"white\", \"startlinecolor\": \"#2a3f5f\"}, \"type\": \"carpet\"}], \"choropleth\": [{\"colorbar\": {\"outlinewidth\": 0, \"ticks\": \"\"}, \"type\": \"choropleth\"}], \"contour\": [{\"colorbar\": {\"outlinewidth\": 0, \"ticks\": \"\"}, \"colorscale\": [[0.0, \"#0d0887\"], [0.1111111111111111, \"#46039f\"], [0.2222222222222222, \"#7201a8\"], [0.3333333333333333, \"#9c179e\"], [0.4444444444444444, \"#bd3786\"], [0.5555555555555556, \"#d8576b\"], [0.6666666666666666, \"#ed7953\"], [0.7777777777777778, \"#fb9f3a\"], [0.8888888888888888, \"#fdca26\"], [1.0, \"#f0f921\"]], \"type\": \"contour\"}], \"contourcarpet\": [{\"colorbar\": {\"outlinewidth\": 0, \"ticks\": \"\"}, \"type\": \"contourcarpet\"}], \"heatmap\": [{\"colorbar\": {\"outlinewidth\": 0, \"ticks\": \"\"}, \"colorscale\": [[0.0, \"#0d0887\"], [0.1111111111111111, \"#46039f\"], [0.2222222222222222, \"#7201a8\"], [0.3333333333333333, \"#9c179e\"], [0.4444444444444444, \"#bd3786\"], [0.5555555555555556, \"#d8576b\"], [0.6666666666666666, \"#ed7953\"], [0.7777777777777778, \"#fb9f3a\"], [0.8888888888888888, \"#fdca26\"], [1.0, \"#f0f921\"]], \"type\": \"heatmap\"}], \"heatmapgl\": [{\"colorbar\": {\"outlinewidth\": 0, \"ticks\": \"\"}, \"colorscale\": [[0.0, \"#0d0887\"], [0.1111111111111111, \"#46039f\"], [0.2222222222222222, \"#7201a8\"], [0.3333333333333333, \"#9c179e\"], [0.4444444444444444, \"#bd3786\"], [0.5555555555555556, \"#d8576b\"], [0.6666666666666666, \"#ed7953\"], [0.7777777777777778, \"#fb9f3a\"], [0.8888888888888888, \"#fdca26\"], [1.0, \"#f0f921\"]], \"type\": \"heatmapgl\"}], \"histogram\": [{\"marker\": {\"colorbar\": {\"outlinewidth\": 0, \"ticks\": \"\"}}, \"type\": \"histogram\"}], \"histogram2d\": [{\"colorbar\": {\"outlinewidth\": 0, \"ticks\": \"\"}, \"colorscale\": [[0.0, \"#0d0887\"], [0.1111111111111111, \"#46039f\"], [0.2222222222222222, \"#7201a8\"], [0.3333333333333333, \"#9c179e\"], [0.4444444444444444, \"#bd3786\"], [0.5555555555555556, \"#d8576b\"], [0.6666666666666666, \"#ed7953\"], [0.7777777777777778, \"#fb9f3a\"], [0.8888888888888888, \"#fdca26\"], [1.0, \"#f0f921\"]], \"type\": \"histogram2d\"}], \"histogram2dcontour\": [{\"colorbar\": {\"outlinewidth\": 0, \"ticks\": \"\"}, \"colorscale\": [[0.0, \"#0d0887\"], [0.1111111111111111, \"#46039f\"], [0.2222222222222222, \"#7201a8\"], [0.3333333333333333, \"#9c179e\"], [0.4444444444444444, \"#bd3786\"], [0.5555555555555556, \"#d8576b\"], [0.6666666666666666, \"#ed7953\"], [0.7777777777777778, \"#fb9f3a\"], [0.8888888888888888, \"#fdca26\"], [1.0, \"#f0f921\"]], \"type\": \"histogram2dcontour\"}], \"mesh3d\": [{\"colorbar\": {\"outlinewidth\": 0, \"ticks\": \"\"}, \"type\": \"mesh3d\"}], \"parcoords\": [{\"line\": {\"colorbar\": {\"outlinewidth\": 0, \"ticks\": \"\"}}, \"type\": \"parcoords\"}], \"pie\": [{\"automargin\": true, \"type\": \"pie\"}], \"scatter\": [{\"marker\": {\"colorbar\": {\"outlinewidth\": 0, \"ticks\": \"\"}}, \"type\": \"scatter\"}], \"scatter3d\": [{\"line\": {\"colorbar\": {\"outlinewidth\": 0, \"ticks\": \"\"}}, \"marker\": {\"colorbar\": {\"outlinewidth\": 0, \"ticks\": \"\"}}, \"type\": \"scatter3d\"}], \"scattercarpet\": [{\"marker\": {\"colorbar\": {\"outlinewidth\": 0, \"ticks\": \"\"}}, \"type\": \"scattercarpet\"}], \"scattergeo\": [{\"marker\": {\"colorbar\": {\"outlinewidth\": 0, \"ticks\": \"\"}}, \"type\": \"scattergeo\"}], \"scattergl\": [{\"marker\": {\"colorbar\": {\"outlinewidth\": 0, \"ticks\": \"\"}}, \"type\": \"scattergl\"}], \"scattermapbox\": [{\"marker\": {\"colorbar\": {\"outlinewidth\": 0, \"ticks\": \"\"}}, \"type\": \"scattermapbox\"}], \"scatterpolar\": [{\"marker\": {\"colorbar\": {\"outlinewidth\": 0, \"ticks\": \"\"}}, \"type\": \"scatterpolar\"}], \"scatterpolargl\": [{\"marker\": {\"colorbar\": {\"outlinewidth\": 0, \"ticks\": \"\"}}, \"type\": \"scatterpolargl\"}], \"scatterternary\": [{\"marker\": {\"colorbar\": {\"outlinewidth\": 0, \"ticks\": \"\"}}, \"type\": \"scatterternary\"}], \"surface\": [{\"colorbar\": {\"outlinewidth\": 0, \"ticks\": \"\"}, \"colorscale\": [[0.0, \"#0d0887\"], [0.1111111111111111, \"#46039f\"], [0.2222222222222222, \"#7201a8\"], [0.3333333333333333, \"#9c179e\"], [0.4444444444444444, \"#bd3786\"], [0.5555555555555556, \"#d8576b\"], [0.6666666666666666, \"#ed7953\"], [0.7777777777777778, \"#fb9f3a\"], [0.8888888888888888, \"#fdca26\"], [1.0, \"#f0f921\"]], \"type\": \"surface\"}], \"table\": [{\"cells\": {\"fill\": {\"color\": \"#EBF0F8\"}, \"line\": {\"color\": \"white\"}}, \"header\": {\"fill\": {\"color\": \"#C8D4E3\"}, \"line\": {\"color\": \"white\"}}, \"type\": \"table\"}]}, \"layout\": {\"annotationdefaults\": {\"arrowcolor\": \"#2a3f5f\", \"arrowhead\": 0, \"arrowwidth\": 1}, \"coloraxis\": {\"colorbar\": {\"outlinewidth\": 0, \"ticks\": \"\"}}, \"colorscale\": {\"diverging\": [[0, \"#8e0152\"], [0.1, \"#c51b7d\"], [0.2, \"#de77ae\"], [0.3, \"#f1b6da\"], [0.4, \"#fde0ef\"], [0.5, \"#f7f7f7\"], [0.6, \"#e6f5d0\"], [0.7, \"#b8e186\"], [0.8, \"#7fbc41\"], [0.9, \"#4d9221\"], [1, \"#276419\"]], \"sequential\": [[0.0, \"#0d0887\"], [0.1111111111111111, \"#46039f\"], [0.2222222222222222, \"#7201a8\"], [0.3333333333333333, \"#9c179e\"], [0.4444444444444444, \"#bd3786\"], [0.5555555555555556, \"#d8576b\"], [0.6666666666666666, \"#ed7953\"], [0.7777777777777778, \"#fb9f3a\"], [0.8888888888888888, \"#fdca26\"], [1.0, \"#f0f921\"]], \"sequentialminus\": [[0.0, \"#0d0887\"], [0.1111111111111111, \"#46039f\"], [0.2222222222222222, \"#7201a8\"], [0.3333333333333333, \"#9c179e\"], [0.4444444444444444, \"#bd3786\"], [0.5555555555555556, \"#d8576b\"], [0.6666666666666666, \"#ed7953\"], [0.7777777777777778, \"#fb9f3a\"], [0.8888888888888888, \"#fdca26\"], [1.0, \"#f0f921\"]]}, \"colorway\": [\"#636efa\", \"#EF553B\", \"#00cc96\", \"#ab63fa\", \"#FFA15A\", \"#19d3f3\", \"#FF6692\", \"#B6E880\", \"#FF97FF\", \"#FECB52\"], \"font\": {\"color\": \"#2a3f5f\"}, \"geo\": {\"bgcolor\": \"white\", \"lakecolor\": \"white\", \"landcolor\": \"#E5ECF6\", \"showlakes\": true, \"showland\": true, \"subunitcolor\": \"white\"}, \"hoverlabel\": {\"align\": \"left\"}, \"hovermode\": \"closest\", \"mapbox\": {\"style\": \"light\"}, \"paper_bgcolor\": \"white\", \"plot_bgcolor\": \"#E5ECF6\", \"polar\": {\"angularaxis\": {\"gridcolor\": \"white\", \"linecolor\": \"white\", \"ticks\": \"\"}, \"bgcolor\": \"#E5ECF6\", \"radialaxis\": {\"gridcolor\": \"white\", \"linecolor\": \"white\", \"ticks\": \"\"}}, \"scene\": {\"xaxis\": {\"backgroundcolor\": \"#E5ECF6\", \"gridcolor\": \"white\", \"gridwidth\": 2, \"linecolor\": \"white\", \"showbackground\": true, \"ticks\": \"\", \"zerolinecolor\": \"white\"}, \"yaxis\": {\"backgroundcolor\": \"#E5ECF6\", \"gridcolor\": \"white\", \"gridwidth\": 2, \"linecolor\": \"white\", \"showbackground\": true, \"ticks\": \"\", \"zerolinecolor\": \"white\"}, \"zaxis\": {\"backgroundcolor\": \"#E5ECF6\", \"gridcolor\": \"white\", \"gridwidth\": 2, \"linecolor\": \"white\", \"showbackground\": true, \"ticks\": \"\", \"zerolinecolor\": \"white\"}}, \"shapedefaults\": {\"line\": {\"color\": \"#2a3f5f\"}}, \"ternary\": {\"aaxis\": {\"gridcolor\": \"white\", \"linecolor\": \"white\", \"ticks\": \"\"}, \"baxis\": {\"gridcolor\": \"white\", \"linecolor\": \"white\", \"ticks\": \"\"}, \"bgcolor\": \"#E5ECF6\", \"caxis\": {\"gridcolor\": \"white\", \"linecolor\": \"white\", \"ticks\": \"\"}}, \"title\": {\"x\": 0.05}, \"xaxis\": {\"automargin\": true, \"gridcolor\": \"white\", \"linecolor\": \"white\", \"ticks\": \"\", \"title\": {\"standoff\": 15}, \"zerolinecolor\": \"white\", \"zerolinewidth\": 2}, \"yaxis\": {\"automargin\": true, \"gridcolor\": \"white\", \"linecolor\": \"white\", \"ticks\": \"\", \"title\": {\"standoff\": 15}, \"zerolinecolor\": \"white\", \"zerolinewidth\": 2}}}, \"xaxis\": {\"anchor\": \"y\", \"domain\": [0.0, 1.0], \"title\": {\"text\": \"poutcome\"}}, \"yaxis\": {\"anchor\": \"x\", \"domain\": [0.0, 1.0], \"title\": {\"text\": \"count\"}}},\n",
              "                        {\"responsive\": true}\n",
              "                    ).then(function(){\n",
              "                            \n",
              "var gd = document.getElementById('bf25bac3-2154-42df-b4cc-d27ca4ca2717');\n",
              "var x = new MutationObserver(function (mutations, observer) {{\n",
              "        var display = window.getComputedStyle(gd).display;\n",
              "        if (!display || display === 'none') {{\n",
              "            console.log([gd, 'removed!']);\n",
              "            Plotly.purge(gd);\n",
              "            observer.disconnect();\n",
              "        }}\n",
              "}});\n",
              "\n",
              "// Listen for the removal of the full notebook cells\n",
              "var notebookContainer = gd.closest('#notebook-container');\n",
              "if (notebookContainer) {{\n",
              "    x.observe(notebookContainer, {childList: true});\n",
              "}}\n",
              "\n",
              "// Listen for the clearing of the current output cell\n",
              "var outputEl = gd.closest('.output');\n",
              "if (outputEl) {{\n",
              "    x.observe(outputEl, {childList: true});\n",
              "}}\n",
              "\n",
              "                        })\n",
              "                };\n",
              "                \n",
              "            </script>\n",
              "        </div>\n",
              "</body>\n",
              "</html>"
            ]
          },
          "metadata": {}
        }
      ]
    },
    {
      "cell_type": "code",
      "metadata": {
        "id": "mKqG0ov2NK9h"
      },
      "source": [
        "features = [col for col in data.columns]\n",
        "categorical_features = [col for col in features if data.dtypes[col]==np.object and col!=\"y\"]\n",
        "binary_features = data.nunique()[data.nunique() == 2].keys().tolist()\n",
        "numerical_features  = [col for col in features if col not in categorical_features]"
      ],
      "execution_count": null,
      "outputs": []
    },
    {
      "cell_type": "code",
      "metadata": {
        "id": "f4dgGlQRNmDd"
      },
      "source": [
        "for category in categorical_features:\n",
        "  cat_list = 'cat'+\"_\"+category\n",
        "  cat_dumies = pd.get_dummies(data[category],prefix=cat_list)"
      ],
      "execution_count": null,
      "outputs": []
    },
    {
      "cell_type": "code",
      "metadata": {
        "id": "ezKq5o64PBgv"
      },
      "source": [
        "data_enc = pd.get_dummies(data, columns=categorical_features)"
      ],
      "execution_count": null,
      "outputs": []
    },
    {
      "cell_type": "code",
      "metadata": {
        "id": "gE-pxWMwPRm0"
      },
      "source": [
        "from sklearn.preprocessing import LabelEncoder\n",
        "data_enc['y']= LabelEncoder().fit_transform(data_enc['y'])"
      ],
      "execution_count": null,
      "outputs": []
    },
    {
      "cell_type": "code",
      "metadata": {
        "id": "vaqz0vQcPoBj"
      },
      "source": [
        "y = data_enc['y']\n",
        "data_vars = [col for col in data_enc.columns if col != 'y']\n",
        "X = data_enc[data_vars]"
      ],
      "execution_count": null,
      "outputs": []
    },
    {
      "cell_type": "markdown",
      "metadata": {
        "id": "O5QbSMohUtAN"
      },
      "source": [
        "## Features selection"
      ]
    },
    {
      "cell_type": "code",
      "metadata": {
        "id": "4oSvAm1VU2H7"
      },
      "source": [
        "from sklearn import datasets\n",
        "from sklearn.feature_selection import RFE\n",
        "from sklearn.linear_model import LogisticRegression"
      ],
      "execution_count": null,
      "outputs": []
    },
    {
      "cell_type": "code",
      "metadata": {
        "colab": {
          "base_uri": "https://localhost:8080/",
          "height": 456
        },
        "id": "DR2nqFn6WVhz",
        "outputId": "44221ba5-de7d-4eb5-9498-c983de9cd3a2"
      },
      "source": [
        "data_enc"
      ],
      "execution_count": null,
      "outputs": [
        {
          "output_type": "execute_result",
          "data": {
            "text/html": [
              "<div>\n",
              "<style scoped>\n",
              "    .dataframe tbody tr th:only-of-type {\n",
              "        vertical-align: middle;\n",
              "    }\n",
              "\n",
              "    .dataframe tbody tr th {\n",
              "        vertical-align: top;\n",
              "    }\n",
              "\n",
              "    .dataframe thead th {\n",
              "        text-align: right;\n",
              "    }\n",
              "</style>\n",
              "<table border=\"1\" class=\"dataframe\">\n",
              "  <thead>\n",
              "    <tr style=\"text-align: right;\">\n",
              "      <th></th>\n",
              "      <th>age</th>\n",
              "      <th>duration</th>\n",
              "      <th>campaign</th>\n",
              "      <th>pdays</th>\n",
              "      <th>previous</th>\n",
              "      <th>emp.var.rate</th>\n",
              "      <th>cons.price.idx</th>\n",
              "      <th>cons.conf.idx</th>\n",
              "      <th>euribor3m</th>\n",
              "      <th>nr.employed</th>\n",
              "      <th>y</th>\n",
              "      <th>job_admin.</th>\n",
              "      <th>job_blue-collar</th>\n",
              "      <th>job_entrepreneur</th>\n",
              "      <th>job_housemaid</th>\n",
              "      <th>job_management</th>\n",
              "      <th>job_retired</th>\n",
              "      <th>job_self-employed</th>\n",
              "      <th>job_services</th>\n",
              "      <th>job_student</th>\n",
              "      <th>job_technician</th>\n",
              "      <th>job_unemployed</th>\n",
              "      <th>job_unknown</th>\n",
              "      <th>marital_divorced</th>\n",
              "      <th>marital_married</th>\n",
              "      <th>marital_single</th>\n",
              "      <th>marital_unknown</th>\n",
              "      <th>education_basic</th>\n",
              "      <th>education_high_school</th>\n",
              "      <th>education_illiterate</th>\n",
              "      <th>education_professional_course</th>\n",
              "      <th>education_university</th>\n",
              "      <th>education_unknown</th>\n",
              "      <th>default_no</th>\n",
              "      <th>default_unknown</th>\n",
              "      <th>default_yes</th>\n",
              "      <th>housing_no</th>\n",
              "      <th>housing_unknown</th>\n",
              "      <th>housing_yes</th>\n",
              "      <th>loan_no</th>\n",
              "      <th>loan_unknown</th>\n",
              "      <th>loan_yes</th>\n",
              "      <th>contact_cellular</th>\n",
              "      <th>contact_telephone</th>\n",
              "      <th>month_apr</th>\n",
              "      <th>month_aug</th>\n",
              "      <th>month_dec</th>\n",
              "      <th>month_jul</th>\n",
              "      <th>month_jun</th>\n",
              "      <th>month_mar</th>\n",
              "      <th>month_may</th>\n",
              "      <th>month_nov</th>\n",
              "      <th>month_oct</th>\n",
              "      <th>month_sep</th>\n",
              "      <th>day_of_week_fri</th>\n",
              "      <th>day_of_week_mon</th>\n",
              "      <th>day_of_week_thu</th>\n",
              "      <th>day_of_week_tue</th>\n",
              "      <th>day_of_week_wed</th>\n",
              "      <th>poutcome_failure</th>\n",
              "      <th>poutcome_nonexistent</th>\n",
              "      <th>poutcome_success</th>\n",
              "    </tr>\n",
              "  </thead>\n",
              "  <tbody>\n",
              "    <tr>\n",
              "      <th>0</th>\n",
              "      <td>30</td>\n",
              "      <td>487</td>\n",
              "      <td>2</td>\n",
              "      <td>999</td>\n",
              "      <td>0</td>\n",
              "      <td>-1.8</td>\n",
              "      <td>92.893</td>\n",
              "      <td>-46.2</td>\n",
              "      <td>1.313</td>\n",
              "      <td>5099.1</td>\n",
              "      <td>0</td>\n",
              "      <td>0</td>\n",
              "      <td>1</td>\n",
              "      <td>0</td>\n",
              "      <td>0</td>\n",
              "      <td>0</td>\n",
              "      <td>0</td>\n",
              "      <td>0</td>\n",
              "      <td>0</td>\n",
              "      <td>0</td>\n",
              "      <td>0</td>\n",
              "      <td>0</td>\n",
              "      <td>0</td>\n",
              "      <td>0</td>\n",
              "      <td>1</td>\n",
              "      <td>0</td>\n",
              "      <td>0</td>\n",
              "      <td>1</td>\n",
              "      <td>0</td>\n",
              "      <td>0</td>\n",
              "      <td>0</td>\n",
              "      <td>0</td>\n",
              "      <td>0</td>\n",
              "      <td>1</td>\n",
              "      <td>0</td>\n",
              "      <td>0</td>\n",
              "      <td>0</td>\n",
              "      <td>0</td>\n",
              "      <td>1</td>\n",
              "      <td>1</td>\n",
              "      <td>0</td>\n",
              "      <td>0</td>\n",
              "      <td>1</td>\n",
              "      <td>0</td>\n",
              "      <td>0</td>\n",
              "      <td>0</td>\n",
              "      <td>0</td>\n",
              "      <td>0</td>\n",
              "      <td>0</td>\n",
              "      <td>0</td>\n",
              "      <td>1</td>\n",
              "      <td>0</td>\n",
              "      <td>0</td>\n",
              "      <td>0</td>\n",
              "      <td>1</td>\n",
              "      <td>0</td>\n",
              "      <td>0</td>\n",
              "      <td>0</td>\n",
              "      <td>0</td>\n",
              "      <td>0</td>\n",
              "      <td>1</td>\n",
              "      <td>0</td>\n",
              "    </tr>\n",
              "    <tr>\n",
              "      <th>1</th>\n",
              "      <td>39</td>\n",
              "      <td>346</td>\n",
              "      <td>4</td>\n",
              "      <td>999</td>\n",
              "      <td>0</td>\n",
              "      <td>1.1</td>\n",
              "      <td>93.994</td>\n",
              "      <td>-36.4</td>\n",
              "      <td>4.855</td>\n",
              "      <td>5191.0</td>\n",
              "      <td>0</td>\n",
              "      <td>0</td>\n",
              "      <td>0</td>\n",
              "      <td>0</td>\n",
              "      <td>0</td>\n",
              "      <td>0</td>\n",
              "      <td>0</td>\n",
              "      <td>0</td>\n",
              "      <td>1</td>\n",
              "      <td>0</td>\n",
              "      <td>0</td>\n",
              "      <td>0</td>\n",
              "      <td>0</td>\n",
              "      <td>0</td>\n",
              "      <td>0</td>\n",
              "      <td>1</td>\n",
              "      <td>0</td>\n",
              "      <td>0</td>\n",
              "      <td>1</td>\n",
              "      <td>0</td>\n",
              "      <td>0</td>\n",
              "      <td>0</td>\n",
              "      <td>0</td>\n",
              "      <td>1</td>\n",
              "      <td>0</td>\n",
              "      <td>0</td>\n",
              "      <td>1</td>\n",
              "      <td>0</td>\n",
              "      <td>0</td>\n",
              "      <td>1</td>\n",
              "      <td>0</td>\n",
              "      <td>0</td>\n",
              "      <td>0</td>\n",
              "      <td>1</td>\n",
              "      <td>0</td>\n",
              "      <td>0</td>\n",
              "      <td>0</td>\n",
              "      <td>0</td>\n",
              "      <td>0</td>\n",
              "      <td>0</td>\n",
              "      <td>1</td>\n",
              "      <td>0</td>\n",
              "      <td>0</td>\n",
              "      <td>0</td>\n",
              "      <td>1</td>\n",
              "      <td>0</td>\n",
              "      <td>0</td>\n",
              "      <td>0</td>\n",
              "      <td>0</td>\n",
              "      <td>0</td>\n",
              "      <td>1</td>\n",
              "      <td>0</td>\n",
              "    </tr>\n",
              "    <tr>\n",
              "      <th>2</th>\n",
              "      <td>25</td>\n",
              "      <td>227</td>\n",
              "      <td>1</td>\n",
              "      <td>999</td>\n",
              "      <td>0</td>\n",
              "      <td>1.4</td>\n",
              "      <td>94.465</td>\n",
              "      <td>-41.8</td>\n",
              "      <td>4.962</td>\n",
              "      <td>5228.1</td>\n",
              "      <td>0</td>\n",
              "      <td>0</td>\n",
              "      <td>0</td>\n",
              "      <td>0</td>\n",
              "      <td>0</td>\n",
              "      <td>0</td>\n",
              "      <td>0</td>\n",
              "      <td>0</td>\n",
              "      <td>1</td>\n",
              "      <td>0</td>\n",
              "      <td>0</td>\n",
              "      <td>0</td>\n",
              "      <td>0</td>\n",
              "      <td>0</td>\n",
              "      <td>1</td>\n",
              "      <td>0</td>\n",
              "      <td>0</td>\n",
              "      <td>0</td>\n",
              "      <td>1</td>\n",
              "      <td>0</td>\n",
              "      <td>0</td>\n",
              "      <td>0</td>\n",
              "      <td>0</td>\n",
              "      <td>1</td>\n",
              "      <td>0</td>\n",
              "      <td>0</td>\n",
              "      <td>0</td>\n",
              "      <td>0</td>\n",
              "      <td>1</td>\n",
              "      <td>1</td>\n",
              "      <td>0</td>\n",
              "      <td>0</td>\n",
              "      <td>0</td>\n",
              "      <td>1</td>\n",
              "      <td>0</td>\n",
              "      <td>0</td>\n",
              "      <td>0</td>\n",
              "      <td>0</td>\n",
              "      <td>1</td>\n",
              "      <td>0</td>\n",
              "      <td>0</td>\n",
              "      <td>0</td>\n",
              "      <td>0</td>\n",
              "      <td>0</td>\n",
              "      <td>0</td>\n",
              "      <td>0</td>\n",
              "      <td>0</td>\n",
              "      <td>0</td>\n",
              "      <td>1</td>\n",
              "      <td>0</td>\n",
              "      <td>1</td>\n",
              "      <td>0</td>\n",
              "    </tr>\n",
              "    <tr>\n",
              "      <th>3</th>\n",
              "      <td>38</td>\n",
              "      <td>17</td>\n",
              "      <td>3</td>\n",
              "      <td>999</td>\n",
              "      <td>0</td>\n",
              "      <td>1.4</td>\n",
              "      <td>94.465</td>\n",
              "      <td>-41.8</td>\n",
              "      <td>4.959</td>\n",
              "      <td>5228.1</td>\n",
              "      <td>0</td>\n",
              "      <td>0</td>\n",
              "      <td>0</td>\n",
              "      <td>0</td>\n",
              "      <td>0</td>\n",
              "      <td>0</td>\n",
              "      <td>0</td>\n",
              "      <td>0</td>\n",
              "      <td>1</td>\n",
              "      <td>0</td>\n",
              "      <td>0</td>\n",
              "      <td>0</td>\n",
              "      <td>0</td>\n",
              "      <td>0</td>\n",
              "      <td>1</td>\n",
              "      <td>0</td>\n",
              "      <td>0</td>\n",
              "      <td>1</td>\n",
              "      <td>0</td>\n",
              "      <td>0</td>\n",
              "      <td>0</td>\n",
              "      <td>0</td>\n",
              "      <td>0</td>\n",
              "      <td>1</td>\n",
              "      <td>0</td>\n",
              "      <td>0</td>\n",
              "      <td>0</td>\n",
              "      <td>1</td>\n",
              "      <td>0</td>\n",
              "      <td>0</td>\n",
              "      <td>1</td>\n",
              "      <td>0</td>\n",
              "      <td>0</td>\n",
              "      <td>1</td>\n",
              "      <td>0</td>\n",
              "      <td>0</td>\n",
              "      <td>0</td>\n",
              "      <td>0</td>\n",
              "      <td>1</td>\n",
              "      <td>0</td>\n",
              "      <td>0</td>\n",
              "      <td>0</td>\n",
              "      <td>0</td>\n",
              "      <td>0</td>\n",
              "      <td>1</td>\n",
              "      <td>0</td>\n",
              "      <td>0</td>\n",
              "      <td>0</td>\n",
              "      <td>0</td>\n",
              "      <td>0</td>\n",
              "      <td>1</td>\n",
              "      <td>0</td>\n",
              "    </tr>\n",
              "    <tr>\n",
              "      <th>4</th>\n",
              "      <td>47</td>\n",
              "      <td>58</td>\n",
              "      <td>1</td>\n",
              "      <td>999</td>\n",
              "      <td>0</td>\n",
              "      <td>-0.1</td>\n",
              "      <td>93.200</td>\n",
              "      <td>-42.0</td>\n",
              "      <td>4.191</td>\n",
              "      <td>5195.8</td>\n",
              "      <td>0</td>\n",
              "      <td>1</td>\n",
              "      <td>0</td>\n",
              "      <td>0</td>\n",
              "      <td>0</td>\n",
              "      <td>0</td>\n",
              "      <td>0</td>\n",
              "      <td>0</td>\n",
              "      <td>0</td>\n",
              "      <td>0</td>\n",
              "      <td>0</td>\n",
              "      <td>0</td>\n",
              "      <td>0</td>\n",
              "      <td>0</td>\n",
              "      <td>1</td>\n",
              "      <td>0</td>\n",
              "      <td>0</td>\n",
              "      <td>0</td>\n",
              "      <td>0</td>\n",
              "      <td>0</td>\n",
              "      <td>0</td>\n",
              "      <td>1</td>\n",
              "      <td>0</td>\n",
              "      <td>1</td>\n",
              "      <td>0</td>\n",
              "      <td>0</td>\n",
              "      <td>0</td>\n",
              "      <td>0</td>\n",
              "      <td>1</td>\n",
              "      <td>1</td>\n",
              "      <td>0</td>\n",
              "      <td>0</td>\n",
              "      <td>1</td>\n",
              "      <td>0</td>\n",
              "      <td>0</td>\n",
              "      <td>0</td>\n",
              "      <td>0</td>\n",
              "      <td>0</td>\n",
              "      <td>0</td>\n",
              "      <td>0</td>\n",
              "      <td>0</td>\n",
              "      <td>1</td>\n",
              "      <td>0</td>\n",
              "      <td>0</td>\n",
              "      <td>0</td>\n",
              "      <td>1</td>\n",
              "      <td>0</td>\n",
              "      <td>0</td>\n",
              "      <td>0</td>\n",
              "      <td>0</td>\n",
              "      <td>1</td>\n",
              "      <td>0</td>\n",
              "    </tr>\n",
              "    <tr>\n",
              "      <th>...</th>\n",
              "      <td>...</td>\n",
              "      <td>...</td>\n",
              "      <td>...</td>\n",
              "      <td>...</td>\n",
              "      <td>...</td>\n",
              "      <td>...</td>\n",
              "      <td>...</td>\n",
              "      <td>...</td>\n",
              "      <td>...</td>\n",
              "      <td>...</td>\n",
              "      <td>...</td>\n",
              "      <td>...</td>\n",
              "      <td>...</td>\n",
              "      <td>...</td>\n",
              "      <td>...</td>\n",
              "      <td>...</td>\n",
              "      <td>...</td>\n",
              "      <td>...</td>\n",
              "      <td>...</td>\n",
              "      <td>...</td>\n",
              "      <td>...</td>\n",
              "      <td>...</td>\n",
              "      <td>...</td>\n",
              "      <td>...</td>\n",
              "      <td>...</td>\n",
              "      <td>...</td>\n",
              "      <td>...</td>\n",
              "      <td>...</td>\n",
              "      <td>...</td>\n",
              "      <td>...</td>\n",
              "      <td>...</td>\n",
              "      <td>...</td>\n",
              "      <td>...</td>\n",
              "      <td>...</td>\n",
              "      <td>...</td>\n",
              "      <td>...</td>\n",
              "      <td>...</td>\n",
              "      <td>...</td>\n",
              "      <td>...</td>\n",
              "      <td>...</td>\n",
              "      <td>...</td>\n",
              "      <td>...</td>\n",
              "      <td>...</td>\n",
              "      <td>...</td>\n",
              "      <td>...</td>\n",
              "      <td>...</td>\n",
              "      <td>...</td>\n",
              "      <td>...</td>\n",
              "      <td>...</td>\n",
              "      <td>...</td>\n",
              "      <td>...</td>\n",
              "      <td>...</td>\n",
              "      <td>...</td>\n",
              "      <td>...</td>\n",
              "      <td>...</td>\n",
              "      <td>...</td>\n",
              "      <td>...</td>\n",
              "      <td>...</td>\n",
              "      <td>...</td>\n",
              "      <td>...</td>\n",
              "      <td>...</td>\n",
              "      <td>...</td>\n",
              "    </tr>\n",
              "    <tr>\n",
              "      <th>4114</th>\n",
              "      <td>30</td>\n",
              "      <td>53</td>\n",
              "      <td>1</td>\n",
              "      <td>999</td>\n",
              "      <td>0</td>\n",
              "      <td>1.4</td>\n",
              "      <td>93.918</td>\n",
              "      <td>-42.7</td>\n",
              "      <td>4.958</td>\n",
              "      <td>5228.1</td>\n",
              "      <td>0</td>\n",
              "      <td>1</td>\n",
              "      <td>0</td>\n",
              "      <td>0</td>\n",
              "      <td>0</td>\n",
              "      <td>0</td>\n",
              "      <td>0</td>\n",
              "      <td>0</td>\n",
              "      <td>0</td>\n",
              "      <td>0</td>\n",
              "      <td>0</td>\n",
              "      <td>0</td>\n",
              "      <td>0</td>\n",
              "      <td>0</td>\n",
              "      <td>1</td>\n",
              "      <td>0</td>\n",
              "      <td>0</td>\n",
              "      <td>1</td>\n",
              "      <td>0</td>\n",
              "      <td>0</td>\n",
              "      <td>0</td>\n",
              "      <td>0</td>\n",
              "      <td>0</td>\n",
              "      <td>1</td>\n",
              "      <td>0</td>\n",
              "      <td>0</td>\n",
              "      <td>0</td>\n",
              "      <td>0</td>\n",
              "      <td>1</td>\n",
              "      <td>0</td>\n",
              "      <td>0</td>\n",
              "      <td>1</td>\n",
              "      <td>1</td>\n",
              "      <td>0</td>\n",
              "      <td>0</td>\n",
              "      <td>0</td>\n",
              "      <td>0</td>\n",
              "      <td>1</td>\n",
              "      <td>0</td>\n",
              "      <td>0</td>\n",
              "      <td>0</td>\n",
              "      <td>0</td>\n",
              "      <td>0</td>\n",
              "      <td>0</td>\n",
              "      <td>0</td>\n",
              "      <td>0</td>\n",
              "      <td>1</td>\n",
              "      <td>0</td>\n",
              "      <td>0</td>\n",
              "      <td>0</td>\n",
              "      <td>1</td>\n",
              "      <td>0</td>\n",
              "    </tr>\n",
              "    <tr>\n",
              "      <th>4115</th>\n",
              "      <td>39</td>\n",
              "      <td>219</td>\n",
              "      <td>1</td>\n",
              "      <td>999</td>\n",
              "      <td>0</td>\n",
              "      <td>1.4</td>\n",
              "      <td>93.918</td>\n",
              "      <td>-42.7</td>\n",
              "      <td>4.959</td>\n",
              "      <td>5228.1</td>\n",
              "      <td>0</td>\n",
              "      <td>1</td>\n",
              "      <td>0</td>\n",
              "      <td>0</td>\n",
              "      <td>0</td>\n",
              "      <td>0</td>\n",
              "      <td>0</td>\n",
              "      <td>0</td>\n",
              "      <td>0</td>\n",
              "      <td>0</td>\n",
              "      <td>0</td>\n",
              "      <td>0</td>\n",
              "      <td>0</td>\n",
              "      <td>0</td>\n",
              "      <td>1</td>\n",
              "      <td>0</td>\n",
              "      <td>0</td>\n",
              "      <td>0</td>\n",
              "      <td>1</td>\n",
              "      <td>0</td>\n",
              "      <td>0</td>\n",
              "      <td>0</td>\n",
              "      <td>0</td>\n",
              "      <td>1</td>\n",
              "      <td>0</td>\n",
              "      <td>0</td>\n",
              "      <td>0</td>\n",
              "      <td>0</td>\n",
              "      <td>1</td>\n",
              "      <td>1</td>\n",
              "      <td>0</td>\n",
              "      <td>0</td>\n",
              "      <td>0</td>\n",
              "      <td>1</td>\n",
              "      <td>0</td>\n",
              "      <td>0</td>\n",
              "      <td>0</td>\n",
              "      <td>1</td>\n",
              "      <td>0</td>\n",
              "      <td>0</td>\n",
              "      <td>0</td>\n",
              "      <td>0</td>\n",
              "      <td>0</td>\n",
              "      <td>0</td>\n",
              "      <td>1</td>\n",
              "      <td>0</td>\n",
              "      <td>0</td>\n",
              "      <td>0</td>\n",
              "      <td>0</td>\n",
              "      <td>0</td>\n",
              "      <td>1</td>\n",
              "      <td>0</td>\n",
              "    </tr>\n",
              "    <tr>\n",
              "      <th>4116</th>\n",
              "      <td>27</td>\n",
              "      <td>64</td>\n",
              "      <td>2</td>\n",
              "      <td>999</td>\n",
              "      <td>1</td>\n",
              "      <td>-1.8</td>\n",
              "      <td>92.893</td>\n",
              "      <td>-46.2</td>\n",
              "      <td>1.354</td>\n",
              "      <td>5099.1</td>\n",
              "      <td>0</td>\n",
              "      <td>0</td>\n",
              "      <td>0</td>\n",
              "      <td>0</td>\n",
              "      <td>0</td>\n",
              "      <td>0</td>\n",
              "      <td>0</td>\n",
              "      <td>0</td>\n",
              "      <td>0</td>\n",
              "      <td>1</td>\n",
              "      <td>0</td>\n",
              "      <td>0</td>\n",
              "      <td>0</td>\n",
              "      <td>0</td>\n",
              "      <td>0</td>\n",
              "      <td>1</td>\n",
              "      <td>0</td>\n",
              "      <td>0</td>\n",
              "      <td>1</td>\n",
              "      <td>0</td>\n",
              "      <td>0</td>\n",
              "      <td>0</td>\n",
              "      <td>0</td>\n",
              "      <td>1</td>\n",
              "      <td>0</td>\n",
              "      <td>0</td>\n",
              "      <td>1</td>\n",
              "      <td>0</td>\n",
              "      <td>0</td>\n",
              "      <td>1</td>\n",
              "      <td>0</td>\n",
              "      <td>0</td>\n",
              "      <td>1</td>\n",
              "      <td>0</td>\n",
              "      <td>0</td>\n",
              "      <td>0</td>\n",
              "      <td>0</td>\n",
              "      <td>0</td>\n",
              "      <td>0</td>\n",
              "      <td>0</td>\n",
              "      <td>1</td>\n",
              "      <td>0</td>\n",
              "      <td>0</td>\n",
              "      <td>0</td>\n",
              "      <td>0</td>\n",
              "      <td>1</td>\n",
              "      <td>0</td>\n",
              "      <td>0</td>\n",
              "      <td>0</td>\n",
              "      <td>1</td>\n",
              "      <td>0</td>\n",
              "      <td>0</td>\n",
              "    </tr>\n",
              "    <tr>\n",
              "      <th>4117</th>\n",
              "      <td>58</td>\n",
              "      <td>528</td>\n",
              "      <td>1</td>\n",
              "      <td>999</td>\n",
              "      <td>0</td>\n",
              "      <td>1.4</td>\n",
              "      <td>93.444</td>\n",
              "      <td>-36.1</td>\n",
              "      <td>4.966</td>\n",
              "      <td>5228.1</td>\n",
              "      <td>0</td>\n",
              "      <td>1</td>\n",
              "      <td>0</td>\n",
              "      <td>0</td>\n",
              "      <td>0</td>\n",
              "      <td>0</td>\n",
              "      <td>0</td>\n",
              "      <td>0</td>\n",
              "      <td>0</td>\n",
              "      <td>0</td>\n",
              "      <td>0</td>\n",
              "      <td>0</td>\n",
              "      <td>0</td>\n",
              "      <td>0</td>\n",
              "      <td>1</td>\n",
              "      <td>0</td>\n",
              "      <td>0</td>\n",
              "      <td>0</td>\n",
              "      <td>1</td>\n",
              "      <td>0</td>\n",
              "      <td>0</td>\n",
              "      <td>0</td>\n",
              "      <td>0</td>\n",
              "      <td>1</td>\n",
              "      <td>0</td>\n",
              "      <td>0</td>\n",
              "      <td>1</td>\n",
              "      <td>0</td>\n",
              "      <td>0</td>\n",
              "      <td>1</td>\n",
              "      <td>0</td>\n",
              "      <td>0</td>\n",
              "      <td>1</td>\n",
              "      <td>0</td>\n",
              "      <td>0</td>\n",
              "      <td>1</td>\n",
              "      <td>0</td>\n",
              "      <td>0</td>\n",
              "      <td>0</td>\n",
              "      <td>0</td>\n",
              "      <td>0</td>\n",
              "      <td>0</td>\n",
              "      <td>0</td>\n",
              "      <td>0</td>\n",
              "      <td>1</td>\n",
              "      <td>0</td>\n",
              "      <td>0</td>\n",
              "      <td>0</td>\n",
              "      <td>0</td>\n",
              "      <td>0</td>\n",
              "      <td>1</td>\n",
              "      <td>0</td>\n",
              "    </tr>\n",
              "    <tr>\n",
              "      <th>4118</th>\n",
              "      <td>34</td>\n",
              "      <td>175</td>\n",
              "      <td>1</td>\n",
              "      <td>999</td>\n",
              "      <td>0</td>\n",
              "      <td>-0.1</td>\n",
              "      <td>93.200</td>\n",
              "      <td>-42.0</td>\n",
              "      <td>4.120</td>\n",
              "      <td>5195.8</td>\n",
              "      <td>0</td>\n",
              "      <td>0</td>\n",
              "      <td>0</td>\n",
              "      <td>0</td>\n",
              "      <td>0</td>\n",
              "      <td>1</td>\n",
              "      <td>0</td>\n",
              "      <td>0</td>\n",
              "      <td>0</td>\n",
              "      <td>0</td>\n",
              "      <td>0</td>\n",
              "      <td>0</td>\n",
              "      <td>0</td>\n",
              "      <td>0</td>\n",
              "      <td>0</td>\n",
              "      <td>1</td>\n",
              "      <td>0</td>\n",
              "      <td>0</td>\n",
              "      <td>1</td>\n",
              "      <td>0</td>\n",
              "      <td>0</td>\n",
              "      <td>0</td>\n",
              "      <td>0</td>\n",
              "      <td>1</td>\n",
              "      <td>0</td>\n",
              "      <td>0</td>\n",
              "      <td>0</td>\n",
              "      <td>0</td>\n",
              "      <td>1</td>\n",
              "      <td>1</td>\n",
              "      <td>0</td>\n",
              "      <td>0</td>\n",
              "      <td>1</td>\n",
              "      <td>0</td>\n",
              "      <td>0</td>\n",
              "      <td>0</td>\n",
              "      <td>0</td>\n",
              "      <td>0</td>\n",
              "      <td>0</td>\n",
              "      <td>0</td>\n",
              "      <td>0</td>\n",
              "      <td>1</td>\n",
              "      <td>0</td>\n",
              "      <td>0</td>\n",
              "      <td>0</td>\n",
              "      <td>0</td>\n",
              "      <td>0</td>\n",
              "      <td>0</td>\n",
              "      <td>1</td>\n",
              "      <td>0</td>\n",
              "      <td>1</td>\n",
              "      <td>0</td>\n",
              "    </tr>\n",
              "  </tbody>\n",
              "</table>\n",
              "<p>4119 rows × 62 columns</p>\n",
              "</div>"
            ],
            "text/plain": [
              "      age  duration  ...  poutcome_nonexistent  poutcome_success\n",
              "0      30       487  ...                     1                 0\n",
              "1      39       346  ...                     1                 0\n",
              "2      25       227  ...                     1                 0\n",
              "3      38        17  ...                     1                 0\n",
              "4      47        58  ...                     1                 0\n",
              "...   ...       ...  ...                   ...               ...\n",
              "4114   30        53  ...                     1                 0\n",
              "4115   39       219  ...                     1                 0\n",
              "4116   27        64  ...                     0                 0\n",
              "4117   58       528  ...                     1                 0\n",
              "4118   34       175  ...                     1                 0\n",
              "\n",
              "[4119 rows x 62 columns]"
            ]
          },
          "metadata": {},
          "execution_count": 30
        }
      ]
    },
    {
      "cell_type": "code",
      "metadata": {
        "id": "TGimRrsjVGxs"
      },
      "source": [
        "lr = LogisticRegression(solver='liblinear')\n",
        "rfe = RFE(lr,12)\n",
        "rfe = rfe.fit(X,y)"
      ],
      "execution_count": null,
      "outputs": []
    },
    {
      "cell_type": "code",
      "metadata": {
        "colab": {
          "base_uri": "https://localhost:8080/"
        },
        "id": "QhqJ-etfXABf",
        "outputId": "0414a559-613a-4b38-b509-eef5e049a5c2"
      },
      "source": [
        "rfe.support_"
      ],
      "execution_count": null,
      "outputs": [
        {
          "output_type": "execute_result",
          "data": {
            "text/plain": [
              "array([False, False, False, False,  True, False, False, False,  True,\n",
              "       False, False, False,  True, False, False, False,  True, False,\n",
              "       False, False, False, False, False, False, False, False, False,\n",
              "       False, False, False, False, False, False, False, False, False,\n",
              "       False, False, False, False, False, False, False, False, False,\n",
              "        True,  True,  True,  True,  True, False,  True, False, False,\n",
              "       False, False, False, False,  True, False,  True])"
            ]
          },
          "metadata": {},
          "execution_count": 32
        }
      ]
    },
    {
      "cell_type": "code",
      "metadata": {
        "id": "S-erKXfwXQFb"
      },
      "source": [
        "feature_selection = pd.DataFrame(zip(data_vars,rfe.support_,rfe.ranking_),columns= ['var','selected','rank']).sort_values(by='rank')"
      ],
      "execution_count": null,
      "outputs": []
    },
    {
      "cell_type": "code",
      "metadata": {
        "id": "6Vl4fwTmXlTB"
      },
      "source": [
        "selected_vars = list(feature_selection['var'].loc[feature_selection['selected']])"
      ],
      "execution_count": null,
      "outputs": []
    },
    {
      "cell_type": "code",
      "metadata": {
        "colab": {
          "base_uri": "https://localhost:8080/"
        },
        "id": "nmwvJqi7ZkTv",
        "outputId": "c50f452e-bd28-43c8-f995-fb5d1198b3c0"
      },
      "source": [
        "selected_vars"
      ],
      "execution_count": null,
      "outputs": [
        {
          "output_type": "execute_result",
          "data": {
            "text/plain": [
              "['poutcome_success',\n",
              " 'month_jun',\n",
              " 'month_jul',\n",
              " 'job_self-employed',\n",
              " 'month_oct',\n",
              " 'job_entrepreneur',\n",
              " 'month_mar',\n",
              " 'month_dec',\n",
              " 'month_may',\n",
              " 'previous',\n",
              " 'poutcome_failure',\n",
              " 'euribor3m']"
            ]
          },
          "metadata": {},
          "execution_count": 35
        }
      ]
    },
    {
      "cell_type": "markdown",
      "metadata": {
        "id": "AYi77A4EaYPK"
      },
      "source": [
        "## Data Split"
      ]
    },
    {
      "cell_type": "code",
      "metadata": {
        "id": "2khRAuFeaXnJ"
      },
      "source": [
        "from sklearn.model_selection import train_test_split\n",
        "\n",
        "X_train,X_test,y_train,y_test = train_test_split(data_enc.loc[:,selected_vars],y,test_size=0.3,random_state=0)\n"
      ],
      "execution_count": null,
      "outputs": []
    },
    {
      "cell_type": "markdown",
      "metadata": {
        "id": "qgu2EBFZZ0Ra"
      },
      "source": [
        "## Modeling"
      ]
    },
    {
      "cell_type": "code",
      "metadata": {
        "id": "StDebPafGsi-"
      },
      "source": [
        "from sklearn import metrics"
      ],
      "execution_count": null,
      "outputs": []
    },
    {
      "cell_type": "code",
      "metadata": {
        "colab": {
          "base_uri": "https://localhost:8080/"
        },
        "id": "aiGpuQxxZ3fU",
        "outputId": "9bbac305-2cf1-4cac-a265-fd2d47a19024"
      },
      "source": [
        "lr.fit(X_train,y_train)\n",
        "lr.score(X_train,y_train)\n",
        "\n"
      ],
      "execution_count": null,
      "outputs": [
        {
          "output_type": "execute_result",
          "data": {
            "text/plain": [
              "0.9011446409989594"
            ]
          },
          "metadata": {},
          "execution_count": 38
        }
      ]
    },
    {
      "cell_type": "code",
      "metadata": {
        "colab": {
          "base_uri": "https://localhost:8080/",
          "height": 421
        },
        "id": "NLTuW7lU4bvf",
        "outputId": "e0301f9b-0779-4426-e38f-f5e62eb11d93"
      },
      "source": [
        "pd.DataFrame(zip(selected_vars,list(lr.coef_)[0]))"
      ],
      "execution_count": null,
      "outputs": [
        {
          "output_type": "execute_result",
          "data": {
            "text/html": [
              "<div>\n",
              "<style scoped>\n",
              "    .dataframe tbody tr th:only-of-type {\n",
              "        vertical-align: middle;\n",
              "    }\n",
              "\n",
              "    .dataframe tbody tr th {\n",
              "        vertical-align: top;\n",
              "    }\n",
              "\n",
              "    .dataframe thead th {\n",
              "        text-align: right;\n",
              "    }\n",
              "</style>\n",
              "<table border=\"1\" class=\"dataframe\">\n",
              "  <thead>\n",
              "    <tr style=\"text-align: right;\">\n",
              "      <th></th>\n",
              "      <th>0</th>\n",
              "      <th>1</th>\n",
              "    </tr>\n",
              "  </thead>\n",
              "  <tbody>\n",
              "    <tr>\n",
              "      <th>0</th>\n",
              "      <td>poutcome_success</td>\n",
              "      <td>1.102155</td>\n",
              "    </tr>\n",
              "    <tr>\n",
              "      <th>1</th>\n",
              "      <td>month_jun</td>\n",
              "      <td>0.453085</td>\n",
              "    </tr>\n",
              "    <tr>\n",
              "      <th>2</th>\n",
              "      <td>month_jul</td>\n",
              "      <td>0.388414</td>\n",
              "    </tr>\n",
              "    <tr>\n",
              "      <th>3</th>\n",
              "      <td>job_self-employed</td>\n",
              "      <td>-0.674854</td>\n",
              "    </tr>\n",
              "    <tr>\n",
              "      <th>4</th>\n",
              "      <td>month_oct</td>\n",
              "      <td>0.489708</td>\n",
              "    </tr>\n",
              "    <tr>\n",
              "      <th>5</th>\n",
              "      <td>job_entrepreneur</td>\n",
              "      <td>-0.147704</td>\n",
              "    </tr>\n",
              "    <tr>\n",
              "      <th>6</th>\n",
              "      <td>month_mar</td>\n",
              "      <td>0.992544</td>\n",
              "    </tr>\n",
              "    <tr>\n",
              "      <th>7</th>\n",
              "      <td>month_dec</td>\n",
              "      <td>0.778327</td>\n",
              "    </tr>\n",
              "    <tr>\n",
              "      <th>8</th>\n",
              "      <td>month_may</td>\n",
              "      <td>-0.781964</td>\n",
              "    </tr>\n",
              "    <tr>\n",
              "      <th>9</th>\n",
              "      <td>previous</td>\n",
              "      <td>0.456945</td>\n",
              "    </tr>\n",
              "    <tr>\n",
              "      <th>10</th>\n",
              "      <td>poutcome_failure</td>\n",
              "      <td>-0.785037</td>\n",
              "    </tr>\n",
              "    <tr>\n",
              "      <th>11</th>\n",
              "      <td>euribor3m</td>\n",
              "      <td>-0.511808</td>\n",
              "    </tr>\n",
              "  </tbody>\n",
              "</table>\n",
              "</div>"
            ],
            "text/plain": [
              "                    0         1\n",
              "0    poutcome_success  1.102155\n",
              "1           month_jun  0.453085\n",
              "2           month_jul  0.388414\n",
              "3   job_self-employed -0.674854\n",
              "4           month_oct  0.489708\n",
              "5    job_entrepreneur -0.147704\n",
              "6           month_mar  0.992544\n",
              "7           month_dec  0.778327\n",
              "8           month_may -0.781964\n",
              "9            previous  0.456945\n",
              "10   poutcome_failure -0.785037\n",
              "11          euribor3m -0.511808"
            ]
          },
          "metadata": {},
          "execution_count": 39
        }
      ]
    },
    {
      "cell_type": "code",
      "metadata": {
        "id": "w4dhJW5o7cb3",
        "colab": {
          "base_uri": "https://localhost:8080/"
        },
        "outputId": "64b9d6f3-ab64-49da-affc-ec1e00967c49"
      },
      "source": [
        "lr.intercept_"
      ],
      "execution_count": null,
      "outputs": [
        {
          "output_type": "execute_result",
          "data": {
            "text/plain": [
              "array([-0.55609047])"
            ]
          },
          "metadata": {},
          "execution_count": 40
        }
      ]
    },
    {
      "cell_type": "markdown",
      "metadata": {
        "id": "e6vl_tGe5-Ud"
      },
      "source": [
        "los coeficientes indican los cambios en escala logaritmica en el cociente de probabilidades por cada unidad de cambio, por ejemplo:si la variable previous incrementa en una unidad, el logaritmo del cociente de probabilidad se incrementará en 0.45 y por tanto la probabilidad de compra incrementará de forma acorde"
      ]
    },
    {
      "cell_type": "code",
      "metadata": {
        "id": "wxzY2x2F4JHz"
      },
      "source": [
        "proba = lr.predict_proba(X_test)\n",
        "# la primera columna que tan seguro estoy de mi prediccion y la segunda la probabilidad de ser clasificado como compra\n",
        "predictions = lr.predict(X_test)"
      ],
      "execution_count": null,
      "outputs": []
    },
    {
      "cell_type": "code",
      "metadata": {
        "colab": {
          "base_uri": "https://localhost:8080/"
        },
        "id": "hhDNBRc_Go1Z",
        "outputId": "1f2d71e8-a0e9-4ed1-cc3f-7160bf5981c8"
      },
      "source": [
        "metrics.accuracy_score(y_test,predictions)"
      ],
      "execution_count": null,
      "outputs": [
        {
          "output_type": "execute_result",
          "data": {
            "text/plain": [
              "0.9021035598705501"
            ]
          },
          "metadata": {},
          "execution_count": 42
        }
      ]
    },
    {
      "cell_type": "code",
      "metadata": {
        "colab": {
          "base_uri": "https://localhost:8080/",
          "height": 204
        },
        "id": "YmCs3xfsE_iL",
        "outputId": "3a38a8a7-74fe-4acb-d24f-c8eedcb551e0"
      },
      "source": [
        "probs = lr.predict_proba(X_test)[:,1]\n",
        "prob_df = pd.DataFrame(probs)\n",
        "threshold = 0.1\n",
        "prob_df['prediction'] = np.where(prob_df[0]>threshold,1,0)\n",
        "prob_df['actual'] = list(y_test)\n",
        "prob_df.head()"
      ],
      "execution_count": null,
      "outputs": [
        {
          "output_type": "execute_result",
          "data": {
            "text/html": [
              "<div>\n",
              "<style scoped>\n",
              "    .dataframe tbody tr th:only-of-type {\n",
              "        vertical-align: middle;\n",
              "    }\n",
              "\n",
              "    .dataframe tbody tr th {\n",
              "        vertical-align: top;\n",
              "    }\n",
              "\n",
              "    .dataframe thead th {\n",
              "        text-align: right;\n",
              "    }\n",
              "</style>\n",
              "<table border=\"1\" class=\"dataframe\">\n",
              "  <thead>\n",
              "    <tr style=\"text-align: right;\">\n",
              "      <th></th>\n",
              "      <th>0</th>\n",
              "      <th>prediction</th>\n",
              "      <th>actual</th>\n",
              "    </tr>\n",
              "  </thead>\n",
              "  <tbody>\n",
              "    <tr>\n",
              "      <th>0</th>\n",
              "      <td>0.066478</td>\n",
              "      <td>0</td>\n",
              "      <td>0</td>\n",
              "    </tr>\n",
              "    <tr>\n",
              "      <th>1</th>\n",
              "      <td>0.117406</td>\n",
              "      <td>1</td>\n",
              "      <td>0</td>\n",
              "    </tr>\n",
              "    <tr>\n",
              "      <th>2</th>\n",
              "      <td>0.069593</td>\n",
              "      <td>0</td>\n",
              "      <td>0</td>\n",
              "    </tr>\n",
              "    <tr>\n",
              "      <th>3</th>\n",
              "      <td>0.062666</td>\n",
              "      <td>0</td>\n",
              "      <td>0</td>\n",
              "    </tr>\n",
              "    <tr>\n",
              "      <th>4</th>\n",
              "      <td>0.065086</td>\n",
              "      <td>0</td>\n",
              "      <td>0</td>\n",
              "    </tr>\n",
              "  </tbody>\n",
              "</table>\n",
              "</div>"
            ],
            "text/plain": [
              "          0  prediction  actual\n",
              "0  0.066478           0       0\n",
              "1  0.117406           1       0\n",
              "2  0.069593           0       0\n",
              "3  0.062666           0       0\n",
              "4  0.065086           0       0"
            ]
          },
          "metadata": {},
          "execution_count": 43
        }
      ]
    },
    {
      "cell_type": "code",
      "metadata": {
        "colab": {
          "base_uri": "https://localhost:8080/",
          "height": 142
        },
        "id": "QqvyfET1GBUm",
        "outputId": "9388bfa1-079c-4cf9-f6ad-617930d390d7"
      },
      "source": [
        "pd.crosstab(prob_df.prediction,columns='count')"
      ],
      "execution_count": null,
      "outputs": [
        {
          "output_type": "execute_result",
          "data": {
            "text/html": [
              "<div>\n",
              "<style scoped>\n",
              "    .dataframe tbody tr th:only-of-type {\n",
              "        vertical-align: middle;\n",
              "    }\n",
              "\n",
              "    .dataframe tbody tr th {\n",
              "        vertical-align: top;\n",
              "    }\n",
              "\n",
              "    .dataframe thead th {\n",
              "        text-align: right;\n",
              "    }\n",
              "</style>\n",
              "<table border=\"1\" class=\"dataframe\">\n",
              "  <thead>\n",
              "    <tr style=\"text-align: right;\">\n",
              "      <th>col_0</th>\n",
              "      <th>count</th>\n",
              "    </tr>\n",
              "    <tr>\n",
              "      <th>prediction</th>\n",
              "      <th></th>\n",
              "    </tr>\n",
              "  </thead>\n",
              "  <tbody>\n",
              "    <tr>\n",
              "      <th>0</th>\n",
              "      <td>893</td>\n",
              "    </tr>\n",
              "    <tr>\n",
              "      <th>1</th>\n",
              "      <td>343</td>\n",
              "    </tr>\n",
              "  </tbody>\n",
              "</table>\n",
              "</div>"
            ],
            "text/plain": [
              "col_0       count\n",
              "prediction       \n",
              "0             893\n",
              "1             343"
            ]
          },
          "metadata": {},
          "execution_count": 44
        }
      ]
    },
    {
      "cell_type": "markdown",
      "metadata": {
        "id": "jFX1kZeER8-_"
      },
      "source": [
        "### Matrices de confusion. \n",
        "* Numero de positivos reales: $TP +FN$\n",
        "* Numero de negativos reales: $TN+FP$\n",
        "* Numero de predicciones correctas: $TP+TN$\n",
        "* Numero de predicciones incorrectas: $FP+FN$\n",
        "* Sensibilidad (TPR): $TP/(TP +FN)$\n",
        "* Especificidad (TNR): $TN/(TN+FP)$. \n",
        "El escenario perfecto seria sensibilidad y especificidad del 100%.\n",
        "\n",
        "### Curvas ROC (Caracteristica Operativa del Receptor)\n",
        "en 2d muestra en el eje horizontal el ratio de verdaderos positivos y en el eje vertical unos menos la especificidad, para diferentes thresholds.\n"
      ]
    },
    {
      "cell_type": "code",
      "metadata": {
        "id": "maAMTLG3VvBp"
      },
      "source": [
        "from sklearn import metrics"
      ],
      "execution_count": null,
      "outputs": []
    },
    {
      "cell_type": "code",
      "metadata": {
        "id": "TB8xKdD1WmWS"
      },
      "source": [
        "confussion_matrix = pd.crosstab(prob_df.prediction,prob_df.actual)\n",
        "TN=confussion_matrix[0][0]\n",
        "TP=confussion_matrix[1][1]\n",
        "FN=confussion_matrix[1][0]\n",
        "FP=confussion_matrix[0][1]\n",
        "sens = TP/(TP+FN)\n",
        "espec_1 = 1-(TN/(TN+FP))"
      ],
      "execution_count": null,
      "outputs": []
    },
    {
      "cell_type": "code",
      "metadata": {
        "colab": {
          "base_uri": "https://localhost:8080/",
          "height": 142
        },
        "id": "wYWJMfU1WwOk",
        "outputId": "eed77b8a-5d05-43b6-a214-36e80d32b72f"
      },
      "source": [
        "confussion_matrix"
      ],
      "execution_count": null,
      "outputs": [
        {
          "output_type": "execute_result",
          "data": {
            "text/html": [
              "<div>\n",
              "<style scoped>\n",
              "    .dataframe tbody tr th:only-of-type {\n",
              "        vertical-align: middle;\n",
              "    }\n",
              "\n",
              "    .dataframe tbody tr th {\n",
              "        vertical-align: top;\n",
              "    }\n",
              "\n",
              "    .dataframe thead th {\n",
              "        text-align: right;\n",
              "    }\n",
              "</style>\n",
              "<table border=\"1\" class=\"dataframe\">\n",
              "  <thead>\n",
              "    <tr style=\"text-align: right;\">\n",
              "      <th>actual</th>\n",
              "      <th>0</th>\n",
              "      <th>1</th>\n",
              "    </tr>\n",
              "    <tr>\n",
              "      <th>prediction</th>\n",
              "      <th></th>\n",
              "      <th></th>\n",
              "    </tr>\n",
              "  </thead>\n",
              "  <tbody>\n",
              "    <tr>\n",
              "      <th>0</th>\n",
              "      <td>847</td>\n",
              "      <td>46</td>\n",
              "    </tr>\n",
              "    <tr>\n",
              "      <th>1</th>\n",
              "      <td>267</td>\n",
              "      <td>76</td>\n",
              "    </tr>\n",
              "  </tbody>\n",
              "</table>\n",
              "</div>"
            ],
            "text/plain": [
              "actual        0   1\n",
              "prediction         \n",
              "0           847  46\n",
              "1           267  76"
            ]
          },
          "metadata": {},
          "execution_count": 47
        }
      ]
    },
    {
      "cell_type": "code",
      "metadata": {
        "colab": {
          "base_uri": "https://localhost:8080/"
        },
        "id": "eOQqXWdzYXgV",
        "outputId": "917e8681-95a4-4a24-e341-8af923ff986f"
      },
      "source": [
        "confussion_matrix[0][1]"
      ],
      "execution_count": null,
      "outputs": [
        {
          "output_type": "execute_result",
          "data": {
            "text/plain": [
              "267"
            ]
          },
          "metadata": {},
          "execution_count": 48
        }
      ]
    },
    {
      "cell_type": "code",
      "metadata": {
        "colab": {
          "base_uri": "https://localhost:8080/",
          "height": 542
        },
        "id": "eIbGeTJwD98B",
        "outputId": "39442927-96e6-4120-a587-6b899784cdcd"
      },
      "source": [
        "espec_1,sensit,thresholds = metrics.roc_curve(y_test,probs)\n",
        "roc = pd.DataFrame({\n",
        "    'x':espec_1,\n",
        "    'y':sensit\n",
        "})\n",
        "fig = px.area(roc, x=\"x\", y=\"y\", title='ROC curve')\n",
        "fig.update_layout(shapes = [{'type': 'line', 'yref': 'paper', 'xref': 'paper', 'y0': 0, 'y1': 1, 'x0': 0, 'x1': 1,'layer': 'below'}])\n",
        "fig.show()"
      ],
      "execution_count": null,
      "outputs": [
        {
          "output_type": "display_data",
          "data": {
            "text/html": [
              "<html>\n",
              "<head><meta charset=\"utf-8\" /></head>\n",
              "<body>\n",
              "    <div>\n",
              "            <script src=\"https://cdnjs.cloudflare.com/ajax/libs/mathjax/2.7.5/MathJax.js?config=TeX-AMS-MML_SVG\"></script><script type=\"text/javascript\">if (window.MathJax) {MathJax.Hub.Config({SVG: {font: \"STIX-Web\"}});}</script>\n",
              "                <script type=\"text/javascript\">window.PlotlyConfig = {MathJaxConfig: 'local'};</script>\n",
              "        <script src=\"https://cdn.plot.ly/plotly-latest.min.js\"></script>    \n",
              "            <div id=\"39b83eff-6fb7-4bd0-b774-773630822fd3\" class=\"plotly-graph-div\" style=\"height:525px; width:100%;\"></div>\n",
              "            <script type=\"text/javascript\">\n",
              "                \n",
              "                    window.PLOTLYENV=window.PLOTLYENV || {};\n",
              "                    \n",
              "                if (document.getElementById(\"39b83eff-6fb7-4bd0-b774-773630822fd3\")) {\n",
              "                    Plotly.newPlot(\n",
              "                        '39b83eff-6fb7-4bd0-b774-773630822fd3',\n",
              "                        [{\"hoverlabel\": {\"namelength\": 0}, \"hovertemplate\": \"x=%{x}<br>y=%{y}\", \"legendgroup\": \"\", \"line\": {\"color\": \"#636efa\"}, \"mode\": \"lines\", \"name\": \"\", \"orientation\": \"v\", \"showlegend\": false, \"stackgroup\": \"1\", \"type\": \"scatter\", \"x\": [0.0, 0.0, 0.0, 0.0008976660682226212, 0.0008976660682226212, 0.0017953321364452424, 0.0017953321364452424, 0.0026929982046678637, 0.0026929982046678637, 0.004488330341113106, 0.004488330341113106, 0.005385996409335727, 0.00718132854578097, 0.00807899461400359, 0.00807899461400359, 0.009874326750448833, 0.009874326750448833, 0.012567324955116697, 0.012567324955116697, 0.013464991023339317, 0.01526032315978456, 0.01526032315978456, 0.019748653500897665, 0.019748653500897665, 0.02244165170556553, 0.026032315978456014, 0.026032315978456014, 0.027827648114901255, 0.027827648114901255, 0.02872531418312388, 0.02872531418312388, 0.0296229802513465, 0.0296229802513465, 0.03411131059245961, 0.03411131059245961, 0.03500897666068223, 0.03859964093357271, 0.04129263913824058, 0.04308797127468582, 0.04398563734290844, 0.04488330341113106, 0.0466786355475763, 0.04757630161579892, 0.05026929982046679, 0.05026929982046679, 0.05385996409335727, 0.05475763016157989, 0.05655296229802514, 0.05655296229802514, 0.06014362657091562, 0.06014362657091562, 0.06373429084380611, 0.06463195691202872, 0.06642728904847396, 0.07001795332136446, 0.07091561938958707, 0.07271095152603231, 0.07360861759425494, 0.07360861759425494, 0.0763016157989228, 0.0763016157989228, 0.07719928186714542, 0.07719928186714542, 0.07809694793536805, 0.07989228007181329, 0.07989228007181329, 0.08168761220825853, 0.08258527827648116, 0.0843806104129264, 0.08527827648114901, 0.08617594254937164, 0.10053859964093358, 0.1059245960502693, 0.10861759425493717, 0.10861759425493717, 0.11131059245960502, 0.11220825852782765, 0.11490125673249552, 0.11669658886894076, 0.118491921005386, 0.1229802513464991, 0.1229802513464991, 0.12387791741472172, 0.12387791741472172, 0.12567324955116696, 0.12657091561938957, 0.1319569120287253, 0.13285457809694792, 0.13464991023339318, 0.13464991023339318, 0.13734290843806105, 0.14272890484739678, 0.1526032315978456, 0.15350089766606823, 0.15439856373429084, 0.16427289048473967, 0.16786355475763015, 0.17863554757630162, 0.18312387791741472, 0.19389587073608616, 0.1992818671454219, 0.21005385996409337, 0.2244165170556553, 0.2244165170556553, 0.23429084380610413, 0.23608617594254938, 0.2378815080789946, 0.24057450628366248, 0.24416517055655296, 0.24506283662477557, 0.24685816876122083, 0.25224416517055653, 0.25763016157989227, 0.263016157989228, 0.2666068222621185, 0.26840215439856374, 0.2710951526032316, 0.2719928186714542, 0.2719928186714542, 0.28186714542190305, 0.29443447037701975, 0.3052064631956912, 0.32046678635547576, 0.3231597845601436, 0.32854578096947934, 0.34470377019748655, 0.348294434470377, 0.374326750448833, 0.38420107719928187, 0.388689407540395, 0.4021543985637343, 0.4030520646319569, 0.42010771992818674, 0.42100538599640935, 0.4326750448833034, 0.43357271095152605, 0.4452423698384201, 0.44614003590664275, 0.45960502692998206, 0.47217235188509876, 0.473967684021544, 0.49012567324955114, 0.5170556552962298, 0.5628366247755835, 0.5969479353680431, 0.5978456014362658, 0.6104129263913824, 0.6113105924596051, 0.6113105924596051, 0.6131059245960503, 0.6175942549371634, 0.618491921005386, 0.6211849192100538, 0.6238779174147218, 0.6247755834829444, 0.6283662477558348, 0.63016157989228, 0.6319569120287253, 0.6337522441651705, 0.6364452423698385, 0.6373429084380611, 0.6409335727109515, 0.6463195691202872, 0.6741472172351886, 0.7028725314183124, 0.7307001795332136, 0.744165170556553, 0.7495511669658886, 0.7594254937163375, 0.7657091561938959, 0.7675044883303411, 0.7692998204667864, 0.7710951526032316, 0.7719928186714542, 0.7737881508078994, 0.77737881508079, 0.7791741472172352, 0.7809694793536804, 0.7836624775583483, 0.7908438061041293, 0.8123877917414721, 0.8366247755834829, 0.9039497307001796, 0.9201077199281867, 0.9416517055655296, 0.9658886894075404, 0.9766606822262118, 0.9784560143626571, 0.9820466786355476, 0.9865350089766607, 0.9901256732495511, 0.9964093357271095, 1.0], \"xaxis\": \"x\", \"y\": [0.0, 0.00819672131147541, 0.03278688524590164, 0.03278688524590164, 0.05737704918032787, 0.05737704918032787, 0.07377049180327869, 0.07377049180327869, 0.09016393442622951, 0.09016393442622951, 0.09836065573770492, 0.09836065573770492, 0.09836065573770492, 0.09836065573770492, 0.10655737704918032, 0.11475409836065574, 0.13114754098360656, 0.13114754098360656, 0.14754098360655737, 0.14754098360655737, 0.14754098360655737, 0.1721311475409836, 0.1721311475409836, 0.18032786885245902, 0.18032786885245902, 0.18032786885245902, 0.20491803278688525, 0.20491803278688525, 0.21311475409836064, 0.21311475409836064, 0.22131147540983606, 0.22131147540983606, 0.2459016393442623, 0.2459016393442623, 0.2540983606557377, 0.2786885245901639, 0.28688524590163933, 0.28688524590163933, 0.319672131147541, 0.319672131147541, 0.32786885245901637, 0.32786885245901637, 0.3360655737704918, 0.3360655737704918, 0.3442622950819672, 0.3442622950819672, 0.3524590163934426, 0.3524590163934426, 0.36065573770491804, 0.36065573770491804, 0.3770491803278688, 0.3770491803278688, 0.38524590163934425, 0.38524590163934425, 0.38524590163934425, 0.4016393442622951, 0.4016393442622951, 0.4016393442622951, 0.4098360655737705, 0.4098360655737705, 0.4180327868852459, 0.4180327868852459, 0.4262295081967213, 0.4262295081967213, 0.4262295081967213, 0.4344262295081967, 0.4344262295081967, 0.4426229508196721, 0.4426229508196721, 0.45081967213114754, 0.45081967213114754, 0.47540983606557374, 0.47540983606557374, 0.48360655737704916, 0.4918032786885246, 0.4918032786885246, 0.5, 0.5, 0.5, 0.5, 0.5, 0.5081967213114754, 0.5081967213114754, 0.5163934426229508, 0.5163934426229508, 0.5163934426229508, 0.5163934426229508, 0.5245901639344263, 0.5245901639344263, 0.5491803278688525, 0.5491803278688525, 0.5491803278688525, 0.5655737704918032, 0.5655737704918032, 0.5737704918032787, 0.5819672131147541, 0.5901639344262295, 0.5901639344262295, 0.5901639344262295, 0.5901639344262295, 0.5901639344262295, 0.5983606557377049, 0.5983606557377049, 0.6065573770491803, 0.6065573770491803, 0.6229508196721312, 0.6229508196721312, 0.6229508196721312, 0.6229508196721312, 0.6229508196721312, 0.6229508196721312, 0.6557377049180327, 0.6557377049180327, 0.6557377049180327, 0.6557377049180327, 0.6639344262295082, 0.6639344262295082, 0.6639344262295082, 0.6721311475409836, 0.680327868852459, 0.6967213114754098, 0.7131147540983607, 0.7295081967213115, 0.7295081967213115, 0.7295081967213115, 0.7295081967213115, 0.7295081967213115, 0.7459016393442623, 0.7459016393442623, 0.7540983606557377, 0.7540983606557377, 0.7622950819672131, 0.7786885245901639, 0.7786885245901639, 0.7786885245901639, 0.7786885245901639, 0.7786885245901639, 0.7786885245901639, 0.7786885245901639, 0.7868852459016393, 0.7868852459016393, 0.8114754098360656, 0.8114754098360656, 0.8442622950819673, 0.860655737704918, 0.860655737704918, 0.860655737704918, 0.860655737704918, 0.8688524590163934, 0.8688524590163934, 0.8688524590163934, 0.8688524590163934, 0.8688524590163934, 0.8688524590163934, 0.8770491803278688, 0.8770491803278688, 0.8770491803278688, 0.8770491803278688, 0.8770491803278688, 0.8770491803278688, 0.8770491803278688, 0.8852459016393442, 0.8852459016393442, 0.8852459016393442, 0.8934426229508197, 0.9180327868852459, 0.9344262295081968, 0.9344262295081968, 0.9508196721311475, 0.9590163934426229, 0.9590163934426229, 0.9590163934426229, 0.9590163934426229, 0.9590163934426229, 0.9590163934426229, 0.9590163934426229, 0.9590163934426229, 0.9590163934426229, 0.9590163934426229, 0.9590163934426229, 0.9672131147540983, 0.9754098360655737, 0.9918032786885246, 1.0, 1.0, 1.0, 1.0, 1.0, 1.0, 1.0, 1.0, 1.0, 1.0], \"yaxis\": \"y\"}],\n",
              "                        {\"legend\": {\"tracegroupgap\": 0}, \"shapes\": [{\"layer\": \"below\", \"type\": \"line\", \"x0\": 0, \"x1\": 1, \"xref\": \"paper\", \"y0\": 0, \"y1\": 1, \"yref\": \"paper\"}], \"template\": {\"data\": {\"bar\": [{\"error_x\": {\"color\": \"#2a3f5f\"}, \"error_y\": {\"color\": \"#2a3f5f\"}, \"marker\": {\"line\": {\"color\": \"#E5ECF6\", \"width\": 0.5}}, \"type\": \"bar\"}], \"barpolar\": [{\"marker\": {\"line\": {\"color\": \"#E5ECF6\", \"width\": 0.5}}, \"type\": \"barpolar\"}], \"carpet\": [{\"aaxis\": {\"endlinecolor\": \"#2a3f5f\", \"gridcolor\": \"white\", \"linecolor\": \"white\", \"minorgridcolor\": \"white\", \"startlinecolor\": \"#2a3f5f\"}, \"baxis\": {\"endlinecolor\": \"#2a3f5f\", \"gridcolor\": \"white\", \"linecolor\": \"white\", \"minorgridcolor\": \"white\", \"startlinecolor\": \"#2a3f5f\"}, \"type\": \"carpet\"}], \"choropleth\": [{\"colorbar\": {\"outlinewidth\": 0, \"ticks\": \"\"}, \"type\": \"choropleth\"}], \"contour\": [{\"colorbar\": {\"outlinewidth\": 0, \"ticks\": \"\"}, \"colorscale\": [[0.0, \"#0d0887\"], [0.1111111111111111, \"#46039f\"], [0.2222222222222222, \"#7201a8\"], [0.3333333333333333, \"#9c179e\"], [0.4444444444444444, \"#bd3786\"], [0.5555555555555556, \"#d8576b\"], [0.6666666666666666, \"#ed7953\"], [0.7777777777777778, \"#fb9f3a\"], [0.8888888888888888, \"#fdca26\"], [1.0, \"#f0f921\"]], \"type\": \"contour\"}], \"contourcarpet\": [{\"colorbar\": {\"outlinewidth\": 0, \"ticks\": \"\"}, \"type\": \"contourcarpet\"}], \"heatmap\": [{\"colorbar\": {\"outlinewidth\": 0, \"ticks\": \"\"}, \"colorscale\": [[0.0, \"#0d0887\"], [0.1111111111111111, \"#46039f\"], [0.2222222222222222, \"#7201a8\"], [0.3333333333333333, \"#9c179e\"], [0.4444444444444444, \"#bd3786\"], [0.5555555555555556, \"#d8576b\"], [0.6666666666666666, \"#ed7953\"], [0.7777777777777778, \"#fb9f3a\"], [0.8888888888888888, \"#fdca26\"], [1.0, \"#f0f921\"]], \"type\": \"heatmap\"}], \"heatmapgl\": [{\"colorbar\": {\"outlinewidth\": 0, \"ticks\": \"\"}, \"colorscale\": [[0.0, \"#0d0887\"], [0.1111111111111111, \"#46039f\"], [0.2222222222222222, \"#7201a8\"], [0.3333333333333333, \"#9c179e\"], [0.4444444444444444, \"#bd3786\"], [0.5555555555555556, \"#d8576b\"], [0.6666666666666666, \"#ed7953\"], [0.7777777777777778, \"#fb9f3a\"], [0.8888888888888888, \"#fdca26\"], [1.0, \"#f0f921\"]], \"type\": \"heatmapgl\"}], \"histogram\": [{\"marker\": {\"colorbar\": {\"outlinewidth\": 0, \"ticks\": \"\"}}, \"type\": \"histogram\"}], \"histogram2d\": [{\"colorbar\": {\"outlinewidth\": 0, \"ticks\": \"\"}, \"colorscale\": [[0.0, \"#0d0887\"], [0.1111111111111111, \"#46039f\"], [0.2222222222222222, \"#7201a8\"], [0.3333333333333333, \"#9c179e\"], [0.4444444444444444, \"#bd3786\"], [0.5555555555555556, \"#d8576b\"], [0.6666666666666666, \"#ed7953\"], [0.7777777777777778, \"#fb9f3a\"], [0.8888888888888888, \"#fdca26\"], [1.0, \"#f0f921\"]], \"type\": \"histogram2d\"}], \"histogram2dcontour\": [{\"colorbar\": {\"outlinewidth\": 0, \"ticks\": \"\"}, \"colorscale\": [[0.0, \"#0d0887\"], [0.1111111111111111, \"#46039f\"], [0.2222222222222222, \"#7201a8\"], [0.3333333333333333, \"#9c179e\"], [0.4444444444444444, \"#bd3786\"], [0.5555555555555556, \"#d8576b\"], [0.6666666666666666, \"#ed7953\"], [0.7777777777777778, \"#fb9f3a\"], [0.8888888888888888, \"#fdca26\"], [1.0, \"#f0f921\"]], \"type\": \"histogram2dcontour\"}], \"mesh3d\": [{\"colorbar\": {\"outlinewidth\": 0, \"ticks\": \"\"}, \"type\": \"mesh3d\"}], \"parcoords\": [{\"line\": {\"colorbar\": {\"outlinewidth\": 0, \"ticks\": \"\"}}, \"type\": \"parcoords\"}], \"pie\": [{\"automargin\": true, \"type\": \"pie\"}], \"scatter\": [{\"marker\": {\"colorbar\": {\"outlinewidth\": 0, \"ticks\": \"\"}}, \"type\": \"scatter\"}], \"scatter3d\": [{\"line\": {\"colorbar\": {\"outlinewidth\": 0, \"ticks\": \"\"}}, \"marker\": {\"colorbar\": {\"outlinewidth\": 0, \"ticks\": \"\"}}, \"type\": \"scatter3d\"}], \"scattercarpet\": [{\"marker\": {\"colorbar\": {\"outlinewidth\": 0, \"ticks\": \"\"}}, \"type\": \"scattercarpet\"}], \"scattergeo\": [{\"marker\": {\"colorbar\": {\"outlinewidth\": 0, \"ticks\": \"\"}}, \"type\": \"scattergeo\"}], \"scattergl\": [{\"marker\": {\"colorbar\": {\"outlinewidth\": 0, \"ticks\": \"\"}}, \"type\": \"scattergl\"}], \"scattermapbox\": [{\"marker\": {\"colorbar\": {\"outlinewidth\": 0, \"ticks\": \"\"}}, \"type\": \"scattermapbox\"}], \"scatterpolar\": [{\"marker\": {\"colorbar\": {\"outlinewidth\": 0, \"ticks\": \"\"}}, \"type\": \"scatterpolar\"}], \"scatterpolargl\": [{\"marker\": {\"colorbar\": {\"outlinewidth\": 0, \"ticks\": \"\"}}, \"type\": \"scatterpolargl\"}], \"scatterternary\": [{\"marker\": {\"colorbar\": {\"outlinewidth\": 0, \"ticks\": \"\"}}, \"type\": \"scatterternary\"}], \"surface\": [{\"colorbar\": {\"outlinewidth\": 0, \"ticks\": \"\"}, \"colorscale\": [[0.0, \"#0d0887\"], [0.1111111111111111, \"#46039f\"], [0.2222222222222222, \"#7201a8\"], [0.3333333333333333, \"#9c179e\"], [0.4444444444444444, \"#bd3786\"], [0.5555555555555556, \"#d8576b\"], [0.6666666666666666, \"#ed7953\"], [0.7777777777777778, \"#fb9f3a\"], [0.8888888888888888, \"#fdca26\"], [1.0, \"#f0f921\"]], \"type\": \"surface\"}], \"table\": [{\"cells\": {\"fill\": {\"color\": \"#EBF0F8\"}, \"line\": {\"color\": \"white\"}}, \"header\": {\"fill\": {\"color\": \"#C8D4E3\"}, \"line\": {\"color\": \"white\"}}, \"type\": \"table\"}]}, \"layout\": {\"annotationdefaults\": {\"arrowcolor\": \"#2a3f5f\", \"arrowhead\": 0, \"arrowwidth\": 1}, \"coloraxis\": {\"colorbar\": {\"outlinewidth\": 0, \"ticks\": \"\"}}, \"colorscale\": {\"diverging\": [[0, \"#8e0152\"], [0.1, \"#c51b7d\"], [0.2, \"#de77ae\"], [0.3, \"#f1b6da\"], [0.4, \"#fde0ef\"], [0.5, \"#f7f7f7\"], [0.6, \"#e6f5d0\"], [0.7, \"#b8e186\"], [0.8, \"#7fbc41\"], [0.9, \"#4d9221\"], [1, \"#276419\"]], \"sequential\": [[0.0, \"#0d0887\"], [0.1111111111111111, \"#46039f\"], [0.2222222222222222, \"#7201a8\"], [0.3333333333333333, \"#9c179e\"], [0.4444444444444444, \"#bd3786\"], [0.5555555555555556, \"#d8576b\"], [0.6666666666666666, \"#ed7953\"], [0.7777777777777778, \"#fb9f3a\"], [0.8888888888888888, \"#fdca26\"], [1.0, \"#f0f921\"]], \"sequentialminus\": [[0.0, \"#0d0887\"], [0.1111111111111111, \"#46039f\"], [0.2222222222222222, \"#7201a8\"], [0.3333333333333333, \"#9c179e\"], [0.4444444444444444, \"#bd3786\"], [0.5555555555555556, \"#d8576b\"], [0.6666666666666666, \"#ed7953\"], [0.7777777777777778, \"#fb9f3a\"], [0.8888888888888888, \"#fdca26\"], [1.0, \"#f0f921\"]]}, \"colorway\": [\"#636efa\", \"#EF553B\", \"#00cc96\", \"#ab63fa\", \"#FFA15A\", \"#19d3f3\", \"#FF6692\", \"#B6E880\", \"#FF97FF\", \"#FECB52\"], \"font\": {\"color\": \"#2a3f5f\"}, \"geo\": {\"bgcolor\": \"white\", \"lakecolor\": \"white\", \"landcolor\": \"#E5ECF6\", \"showlakes\": true, \"showland\": true, \"subunitcolor\": \"white\"}, \"hoverlabel\": {\"align\": \"left\"}, \"hovermode\": \"closest\", \"mapbox\": {\"style\": \"light\"}, \"paper_bgcolor\": \"white\", \"plot_bgcolor\": \"#E5ECF6\", \"polar\": {\"angularaxis\": {\"gridcolor\": \"white\", \"linecolor\": \"white\", \"ticks\": \"\"}, \"bgcolor\": \"#E5ECF6\", \"radialaxis\": {\"gridcolor\": \"white\", \"linecolor\": \"white\", \"ticks\": \"\"}}, \"scene\": {\"xaxis\": {\"backgroundcolor\": \"#E5ECF6\", \"gridcolor\": \"white\", \"gridwidth\": 2, \"linecolor\": \"white\", \"showbackground\": true, \"ticks\": \"\", \"zerolinecolor\": \"white\"}, \"yaxis\": {\"backgroundcolor\": \"#E5ECF6\", \"gridcolor\": \"white\", \"gridwidth\": 2, \"linecolor\": \"white\", \"showbackground\": true, \"ticks\": \"\", \"zerolinecolor\": \"white\"}, \"zaxis\": {\"backgroundcolor\": \"#E5ECF6\", \"gridcolor\": \"white\", \"gridwidth\": 2, \"linecolor\": \"white\", \"showbackground\": true, \"ticks\": \"\", \"zerolinecolor\": \"white\"}}, \"shapedefaults\": {\"line\": {\"color\": \"#2a3f5f\"}}, \"ternary\": {\"aaxis\": {\"gridcolor\": \"white\", \"linecolor\": \"white\", \"ticks\": \"\"}, \"baxis\": {\"gridcolor\": \"white\", \"linecolor\": \"white\", \"ticks\": \"\"}, \"bgcolor\": \"#E5ECF6\", \"caxis\": {\"gridcolor\": \"white\", \"linecolor\": \"white\", \"ticks\": \"\"}}, \"title\": {\"x\": 0.05}, \"xaxis\": {\"automargin\": true, \"gridcolor\": \"white\", \"linecolor\": \"white\", \"ticks\": \"\", \"title\": {\"standoff\": 15}, \"zerolinecolor\": \"white\", \"zerolinewidth\": 2}, \"yaxis\": {\"automargin\": true, \"gridcolor\": \"white\", \"linecolor\": \"white\", \"ticks\": \"\", \"title\": {\"standoff\": 15}, \"zerolinecolor\": \"white\", \"zerolinewidth\": 2}}}, \"title\": {\"text\": \"ROC curve\"}, \"xaxis\": {\"anchor\": \"y\", \"domain\": [0.0, 1.0], \"title\": {\"text\": \"x\"}}, \"yaxis\": {\"anchor\": \"x\", \"domain\": [0.0, 1.0], \"title\": {\"text\": \"y\"}}},\n",
              "                        {\"responsive\": true}\n",
              "                    ).then(function(){\n",
              "                            \n",
              "var gd = document.getElementById('39b83eff-6fb7-4bd0-b774-773630822fd3');\n",
              "var x = new MutationObserver(function (mutations, observer) {{\n",
              "        var display = window.getComputedStyle(gd).display;\n",
              "        if (!display || display === 'none') {{\n",
              "            console.log([gd, 'removed!']);\n",
              "            Plotly.purge(gd);\n",
              "            observer.disconnect();\n",
              "        }}\n",
              "}});\n",
              "\n",
              "// Listen for the removal of the full notebook cells\n",
              "var notebookContainer = gd.closest('#notebook-container');\n",
              "if (notebookContainer) {{\n",
              "    x.observe(notebookContainer, {childList: true});\n",
              "}}\n",
              "\n",
              "// Listen for the clearing of the current output cell\n",
              "var outputEl = gd.closest('.output');\n",
              "if (outputEl) {{\n",
              "    x.observe(outputEl, {childList: true});\n",
              "}}\n",
              "\n",
              "                        })\n",
              "                };\n",
              "                \n",
              "            </script>\n",
              "        </div>\n",
              "</body>\n",
              "</html>"
            ]
          },
          "metadata": {}
        }
      ]
    },
    {
      "cell_type": "code",
      "metadata": {
        "colab": {
          "base_uri": "https://localhost:8080/"
        },
        "id": "X0d_GRg9rQM7",
        "outputId": "3d4909be-d49e-4fb5-9710-b7f23c27b476"
      },
      "source": [
        "auc = metrics.auc(espec_1,sensit)\n",
        "auc"
      ],
      "execution_count": null,
      "outputs": [
        {
          "output_type": "execute_result",
          "data": {
            "text/plain": [
              "0.7643516202136739"
            ]
          },
          "metadata": {},
          "execution_count": 52
        }
      ]
    },
    {
      "cell_type": "markdown",
      "metadata": {
        "id": "O0KC06zwHSKb"
      },
      "source": [
        "### Validación cruzada\n",
        "\n",
        "tecnica para validar los resultados del analisis estadistico y garantizar que son independientes de la partición de los sets de entrenamiento y test. consiste en repetir el experimiento de particion de los datos y calcular la media aritmetica obtenida de las medias de evaluación sobre diferentes particiones.  \n",
        "* Kfold cross validation:los datos de muestra se dividen en k subconjuntos de forma que uno de los subconjuntos se utiliza para prueba y k-1  subconjuntos en entrenar el modelo. y este se vuelve a repetir pero intercambiando los papeles. hasta llegar a k iteraciones, de modo que todos y cada uno de los posibles subconjuntos actua como prueba y entrenamiento.  \n",
        "\n",
        "se realiza un unico calculo del errror cometido\n",
        "$E=\\frac{1}{K}\\sum_{i=1}^{k} Ei$. \n",
        "\n",
        "* Random Cross Validation. \n",
        "consiste en dividir aleatoriamente el conjunto de datos de entrenamiento y prueba. en este caso no se sigue ningún patron sino que para cada division la funcion de aproximacion se ajusta a partir de los datos de entrenamiento que sean elegidos y calcula los valores de salida. unas muestras pueden quedar sin evaluar y otras evaluadas varias veces.\n",
        "\n",
        "* leave one out cross validation. \n",
        "separa los datos de manera que para cada iteracion tengamos una sola muestra para los datos de prueba y todo el resto excepto ese sea el conjuto de entrenamiento. Costoso a nivel computacional, itearaciones igual al numero de muestras N. \n",
        "\n",
        "$E=\\frac{1}{N}\\sum_{i=1}^{N} Ei$.\n"
      ]
    },
    {
      "cell_type": "code",
      "metadata": {
        "id": "yzgzs9e3OhMN"
      },
      "source": [
        "from sklearn.model_selection import cross_val_score"
      ],
      "execution_count": null,
      "outputs": []
    },
    {
      "cell_type": "code",
      "metadata": {
        "id": "OXV-UQDGQYDf"
      },
      "source": [
        "X = data_enc.loc[:,selected_vars]"
      ],
      "execution_count": null,
      "outputs": []
    },
    {
      "cell_type": "code",
      "metadata": {
        "id": "9kPAntllPlCp"
      },
      "source": [
        "scores = cross_val_score(LogisticRegression(),X,y,scoring='accuracy',cv=8)"
      ],
      "execution_count": null,
      "outputs": []
    },
    {
      "cell_type": "code",
      "metadata": {
        "id": "nLvd_nYpPSvL"
      },
      "source": [
        "scores.mean()"
      ],
      "execution_count": null,
      "outputs": []
    }
  ]
}